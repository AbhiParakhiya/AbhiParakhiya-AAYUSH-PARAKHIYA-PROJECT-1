{
 "cells": [
  {
   "cell_type": "markdown",
   "metadata": {},
   "source": [
    "1) Explain the different types of data (qualitative and quantitative) and provide examples of each. Discuss  nominal, ordinal, interval, and ratio scales."
   ]
  },
  {
   "cell_type": "markdown",
   "metadata": {},
   "source": [
    "Data can be broadly categorized into qualitative and quantitative types. These categories are distinguished by the nature of the information they represent and the level of measurement they involve.\n",
    "1. Qualitative Data\n",
    "Definition: Descriptive data that represents categories or characteristics.\n",
    "Purpose: Used to classify or label attributes that cannot be measured numerically.\n",
    "Subtypes:\n",
    "Nominal Data: Categorizes data without any inherent order.\n",
    "Examples: Gender (male, female), colors (red, blue, green), types of fruits (apple, banana, orange).\n",
    "Ordinal Data: Categorizes data with a meaningful order, but differences between values are not measurable or consistent.\n",
    "Examples: Educational levels (high school, bachelor’s, master’s), customer satisfaction ratings (poor, fair, good, excellent), military ranks (private, corporal, sergeant).\n",
    "2. Quantitative Data\n",
    "Definition: Numerical data that represents measurable quantities.\n",
    "Purpose: Used for analysis that involves arithmetic operations like addition, subtraction, or averaging.\n",
    "Subtypes:\n",
    "Interval Data: Numeric data with equal intervals between values but no true zero point.\n",
    "Examples: Temperature in Celsius or Fahrenheit, calendar years (e.g., 2000, 2020), IQ scores.\n",
    "Key Characteristic: Zero does not indicate the absence of the quantity (e.g., 0°C does not mean no temperature).\n",
    "Ratio Data: Numeric data with equal intervals and a meaningful zero point.\n",
    "Examples: Height (inches or centimeters), weight (kilograms or pounds), income ($0 indicates no income).\n",
    "Key Characteristic: Zero represents the absence of the quantity, and ratios are meaningful (e.g., 20 kg is twice as heavy as 10 kg).\n",
    "\n",
    "Comparison of Measurement Scales\n",
    "Scale\t   Characteristics\t                                 Examples\n",
    "Nominal\t   Categories with no inherent order\t             Gender, hair color, types of vehicles\n",
    "Ordinal\t   Ordered categories with no consistent interval\t Rankings (1st, 2nd, 3rd), satisfaction levels\n",
    "Interval   Numeric, equal intervals, no true zero\t         Temperature (°C), IQ scores, time on a clock\n",
    "Ratio\t   Numeric, equal intervals, true zero exists\t     Weight, height, distance, age"
   ]
  },
  {
   "cell_type": "markdown",
   "metadata": {},
   "source": [
    "2) What are the measures of central tendency, and when should you use each? Discuss the mean, median,  and mode with examples and situations where each is appropriate."
   ]
  },
  {
   "cell_type": "markdown",
   "metadata": {},
   "source": [
    "Measures of central tendency are statistical tools used to describe the center or typical value of a dataset. The three main measures are mean, median, and mode. Each has unique properties, advantages, and applications, depending on the nature of the data and the purpose of the analysis.\n",
    "\n",
    "1. Mean (Arithmetic Average)\n",
    "Definition: The mean is the sum of all data values divided by the number of values.\n",
    "\n",
    "Mean=Sum of all values/Number of values\n",
    "​\n",
    "When to Use:\n",
    "\n",
    "Use the mean for data that is quantitative and evenly distributed (without extreme outliers).\n",
    "Appropriate for interval and ratio data.\n",
    "\n",
    "Advantages:\n",
    "Incorporates all data points, providing a comprehensive measure.\n",
    "Useful for further statistical calculations (e.g., variance, standard deviation).\n",
    "\n",
    "Disadvantages:\n",
    "Sensitive to outliers, which can skew the result.\n",
    "Example: A teacher calculates the average test score of students:\n",
    "Scores: 80, 85, 90, 95, 100\n",
    "Mean: \n",
    "(80+85+90+95+100)/5=90.\n",
    "Cautionary Use: If the scores were 80, 85, 90, 95, and 200, the mean would be \n",
    "110, which does not represent the typical performance well due to the outlier (200).\n",
    "\n",
    "2. Median\n",
    "Definition: The median is the middle value when the data is ordered from smallest to largest. If there is an even number of observations, the median is the average of the two middle values.\n",
    "\n",
    "When to Use:\n",
    "\n",
    "Use the median for skewed data or when outliers are present.\n",
    "Appropriate for ordinal, interval, and ratio data.\n",
    "\n",
    "Advantages:\n",
    "Not affected by extreme outliers or skewed data.\n",
    "Represents the \"middle\" observation.\n",
    "\n",
    "Disadvantages:\n",
    "Does not incorporate all data points.\n",
    "Example: Household incomes in a neighborhood:\n",
    "$30,000, $35,000, $40,000, $500,000, $1,000,000\n",
    "\n",
    "Median: 30,000,35,000,40,000,500,000,1,000,000.\n",
    "Middle value = \n",
    "40,000.\n",
    "The median provides a better sense of the \"typical\" income than the mean in this case.\n",
    "\n",
    "3. Mode\n",
    "Definition: The mode is the most frequently occurring value(s) in a dataset. There can be more than one mode (bimodal or multimodal), or no mode if all values occur with equal frequency.\n",
    "\n",
    "When to Use:\n",
    "\n",
    "Use the mode for categorical data to identify the most common category.\n",
    "Can also be used for ordinal, interval, or ratio data when frequency is of interest.\n",
    "Advantages:\n",
    "\n",
    "Easy to understand and interpret.\n",
    "Only measure suitable for nominal data.\n",
    "Disadvantages:\n",
    "\n",
    "May not exist in some datasets.\n",
    "Does not consider all data points.\n",
    "Example: Survey of favorite ice cream flavors:\n",
    "Flavors: Chocolate, Vanilla, Vanilla, Strawberry, Vanilla\n",
    "Mode: \"Vanilla\" (most frequent).\n",
    "\n",
    "In numerical data:\n",
    "Values: 2, 3, 3, 4, 5, 5, 5, 6\n",
    "Mode: 5."
   ]
  },
  {
   "cell_type": "markdown",
   "metadata": {},
   "source": [
    "3. Explain the concept of dispersion. How do variance and standard deviation measure the spread of data?\n",
    "\n"
   ]
  },
  {
   "cell_type": "markdown",
   "metadata": {},
   "source": [
    "Concept of Dispersion: Dispersion refers to the spread or variability of data around a central value (mean or median). It shows how much the data points differ from each other and from the central tendency.\n",
    "\n",
    "Variance: Measures the average squared difference between each data point and the mean. It quantifies the degree of variability in a dataset.\n",
    "\n",
    "Variance= (𝜎2)=∑(𝑥𝑖−𝜇)/𝑁\n",
    "\n",
    "Interpretation: Larger variance indicates greater spread.\n",
    "Standard Deviation (SD): The square root of the variance. It is expressed in the same units as the data.\n",
    "\n",
    "Standard Deviation(𝜎)=Variance^1/2\n",
    "Interpretation: Smaller SD indicates data points are close to the mean; larger SD indicates they are more spread out."
   ]
  },
  {
   "cell_type": "markdown",
   "metadata": {},
   "source": [
    "\n",
    "4. What is a box plot, and what can it tell you about the distribution of data?\n",
    "\n",
    "\n"
   ]
  },
  {
   "cell_type": "markdown",
   "metadata": {},
   "source": [
    "Definition: A graphical representation of a dataset’s distribution using five-number summary: minimum, Q1 (first quartile), median (Q2), Q3 (third quartile), and maximum.\n",
    "\n",
    "Features of a Box Plot:\n",
    "\n",
    "Box: Spans from Q1 to Q3, representing the interquartile range (IQR).\n",
    "\n",
    "Line inside the box: Indicates the median.\n",
    "\n",
    "Whiskers: Extend to the smallest and largest data points within 1.5 × IQR of Q1 and Q3.\n",
    "\n",
    "Outliers: Data points beyond the whiskers are marked separately.\n",
    "\n",
    "Use: Identifies the distribution's center, spread, and potential outliers."
   ]
  },
  {
   "cell_type": "markdown",
   "metadata": {},
   "source": [
    "5. Discuss the role of random sampling in making inferences about populations."
   ]
  },
  {
   "cell_type": "markdown",
   "metadata": {},
   "source": [
    "Random Sampling: Selecting a subset of individuals from a population where every member has an equal chance of being chosen.\n",
    "\n",
    "Role:\n",
    "\n",
    "Ensures the sample represents the population.\n",
    "\n",
    "Reduces bias and improves the validity of inferences.\n",
    "\n",
    "Forms the basis for estimating population parameters, hypothesis testing, and generalizing results."
   ]
  },
  {
   "cell_type": "markdown",
   "metadata": {},
   "source": [
    "6. Explain the concept of skewness and its types. How does skewness affect the interpretation of data?\n",
    "\n"
   ]
  },
  {
   "cell_type": "markdown",
   "metadata": {},
   "source": [
    "Concept: Skewness measures the asymmetry of a dataset’s distribution.\n",
    "\n",
    "Types:\n",
    "\n",
    "Positive Skew (Right-Skewed): Long tail on the right; mean > median.\n",
    "\n",
    "Negative Skew (Left-Skewed): Long tail on the left; mean < median.\n",
    "\n",
    "Symmetrical: No skew; mean ≈ median.\n",
    "\n",
    "Effect on Data Interpretation: Skewness can distort measures like the mean and affects assumptions of normality in statistical tests."
   ]
  },
  {
   "cell_type": "markdown",
   "metadata": {},
   "source": [
    "\n",
    "7. What is the interquartile range (IQR), and how is it used to detect outliers?\n",
    "\n"
   ]
  },
  {
   "cell_type": "markdown",
   "metadata": {},
   "source": [
    "Definition: IQR is the difference between Q3 (75th percentile) and Q1 (25th percentile).\n",
    "\n",
    "IQR=Q3−Q1\n",
    "\n",
    "Use in Outlier Detection:\n",
    "\n",
    "Data points below \n",
    "Q1−1.5×IQR \n",
    "\n",
    "or above \n",
    "Q3+1.5×IQR are considered outliers."
   ]
  },
  {
   "cell_type": "markdown",
   "metadata": {},
   "source": [
    "\n",
    "8. Discuss the conditions under which the binomial distribution is used.\n",
    "\n"
   ]
  },
  {
   "cell_type": "markdown",
   "metadata": {},
   "source": [
    "Conditions for Use:\n",
    "Fixed number of trials (𝑛).\n",
    "\n",
    "Each trial has two outcomes (success or failure).\n",
    "\n",
    "Constant probability of success (𝑝).\n",
    "\n",
    "Trials are independent.\n",
    "\n",
    "Example: Probability of getting 3 heads in 5 coin tosses (𝑝=0.5):𝑃(𝑋=3)=(5c3)*(0.5)^3*(0.5)^2=10×0.125=0.3125"
   ]
  },
  {
   "cell_type": "markdown",
   "metadata": {},
   "source": [
    "\n",
    "9. Explain the properties of the normal distribution and the empirical rule (68-95-99.7 rule).\n",
    "\n"
   ]
  },
  {
   "cell_type": "markdown",
   "metadata": {},
   "source": [
    "Properties:\n",
    "\n",
    "Symmetrical bell-shaped curve.\n",
    "\n",
    "Mean = Median = Mode.\n",
    "\n",
    "Defined by mean (𝜇) and standard deviation (𝜎).\n",
    "\n",
    "Empirical Rule (68-95-99.7):\n",
    "\n",
    "68% of data within 1 SD (𝜇±𝜎).\n",
    "\n",
    "95% within 2 SDs (𝜇±2𝜎).\n",
    "\n",
    "99.7% within 3 SDs (𝜇±3𝜎)."
   ]
  },
  {
   "cell_type": "markdown",
   "metadata": {},
   "source": [
    "\n",
    "10. Provide a real-life example of a Poisson process and calculate the probability for a specific event.\n",
    "\n"
   ]
  },
  {
   "cell_type": "markdown",
   "metadata": {},
   "source": [
    "Definition: Describes events occurring independently over a fixed interval of time or space.\n",
    "\n",
    "Example: Probability of 3 calls received in an hour if the average is 2 calls/hour \n",
    "\n",
    "(𝜆=2):𝑃(𝑋=3)=𝑒^−𝜆*𝜆^𝑥/𝑥!=𝑒^-2*2^3/3!=0.1353*8/6=0.180"
   ]
  },
  {
   "cell_type": "markdown",
   "metadata": {},
   "source": [
    "\n",
    "11. Explain what a random variable is and differentiate between discrete and continuous random variables.\n",
    "\n",
    "\n"
   ]
  },
  {
   "cell_type": "markdown",
   "metadata": {},
   "source": [
    "Random Variable: A variable representing outcomes of a random process.\n",
    "\n",
    "Types:\n",
    "\n",
    "Discrete: Takes on countable values.\n",
    "\n",
    "Example: Number of students in a class.\n",
    "\n",
    "Continuous: Takes on an infinite number of values within a range.\n",
    "\n",
    "Example: Height of students."
   ]
  },
  {
   "cell_type": "markdown",
   "metadata": {},
   "source": [
    "12. Provide an example dataset, calculate both covariance and correlation, and interpret the results."
   ]
  },
  {
   "cell_type": "markdown",
   "metadata": {},
   "source": [
    "Dataset Example: \n",
    "𝑋:[1,2,3], \n",
    "𝑌:[2,4,6]\n",
    "\n",
    "Covariance (Cov(𝑋,𝑌)): Measures the degree to which two variables vary together.\n",
    "\n",
    "Cov(𝑋,𝑌)=∑(𝑋𝑖−𝑋')(𝑌𝑖−𝑌')/𝑛−1\n",
    "​\n",
    " \n",
    "Correlation (𝑟): Standardized measure of linear relationship (−1≤𝑟≤1).\n",
    "\n",
    "𝑟=Cov(𝑋,𝑌)/𝜎𝑋𝜎𝑌r\n",
    "\n",
    "Calculation: Covariance = 2; Correlation = 1 (perfect positive correlation).\n",
    "\n",
    "Interpretation: Positive correlation implies 𝑋 and 𝑌 increase together."
   ]
  }
 ],
 "metadata": {
  "language_info": {
   "name": "python"
  }
 },
 "nbformat": 4,
 "nbformat_minor": 2
}
