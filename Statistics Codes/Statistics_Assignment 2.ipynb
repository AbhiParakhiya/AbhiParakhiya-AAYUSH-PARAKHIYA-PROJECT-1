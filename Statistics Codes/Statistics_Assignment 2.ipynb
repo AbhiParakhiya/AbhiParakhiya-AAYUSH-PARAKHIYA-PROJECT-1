{
 "cells": [
  {
   "cell_type": "markdown",
   "metadata": {},
   "source": [
    "1. Define the z-statistic and explain its relationship to the standard normal distribution. How is the z-statistic used in hypothesis testing?"
   ]
  },
  {
   "cell_type": "markdown",
   "metadata": {},
   "source": [
    "--> The z-statistic (or z-score) measures how many standard deviations a data point is from the mean of a distribution. It is calculated using the formula:\n",
    "\n",
    "𝑧=𝑋−𝜇/𝜎  \n",
    "Where:\n",
    "\n",
    "𝑋 = observed value\n",
    "𝜇 = population mean\n",
    "𝜎= population standard deviation\n",
    "\n",
    "--> In hypothesis testing, if the population standard deviation is unknown and the sample size is large (𝑛≥30), the sample standard deviation \n",
    "𝑠 can be used as an estimate:\n",
    "\n",
    "𝑧=𝑋−𝑋'/𝑠/𝑛**0.5\n",
    "\n",
    "Where:\n",
    "𝑋' = sample mean\n",
    "𝑠 = sample standard deviation\n",
    "𝑛 = sample size\n",
    "\n",
    "--> Relationship to the Standard Normal Distribution. The z-statistic follows a standard normal distribution (Z-distribution), which has:\n",
    "\n",
    "**> A mean of 0\n",
    "**> A standard deviation of 1\n",
    "\n",
    "--> This allows for direct comparison between different data sets by standardizing values. The standard normal distribution table (z-table) is used to determine the probability of obtaining a z-score less than or greater than a specific value.\n",
    "\n",
    "--> Use of Z-Statistic in Hypothesis Testing\n",
    "In hypothesis testing, the z-statistic helps determine whether to reject or fail to reject the null hypothesis. The process involves:\n",
    "\n",
    "Formulating Hypotheses:\n",
    "\n",
    "Null Hypothesis (𝐻0): No effect or no difference\n",
    "Alternative Hypothesis (𝐻1): There is an effect or difference\n",
    "\n",
    "Calculating the Z-Statistic:\n",
    "\n",
    "--> Compare the sample mean to the population mean.\n",
    "\n",
    "Determining the Critical Value:\n",
    "\n",
    "Use the significance level (𝛼) and the z-table to find the critical z-value(s).\n",
    "\n",
    "--> Decision Rule:\n",
    "\n",
    "If ∣z∣ exceeds the critical value, reject 𝐻0.\n",
    "If ∣𝑧∣ is within the critical value, fail to reject 𝐻0.\n",
    "\n",
    "Example\n",
    "Suppose we want to test whether the average transaction amount in a bank is different from INR 5000, based on a sample of 50 transactions with a mean of INR 5200 and a standard deviation of INR 600.\n",
    "\n",
    "𝑧=5200−5000/(600/50**0.5) = 2.36 \n",
    "\n",
    "--> Consulting the z-table, a z-score of 2.36 corresponds to a p-value of approximately 0.009. \n",
    "\n",
    "If \n",
    "𝛼=0.05, we reject the null hypothesis and conclude that the average transaction amount is significantly different from INR 5000.\n",
    "\n",
    "\n",
    "\n",
    "\n",
    "\n",
    "\n"
   ]
  },
  {
   "cell_type": "markdown",
   "metadata": {},
   "source": [
    "2. What is a p-value, and how is it used in hypothesis testing? What does it mean if the p-value is very small (e.g., 0.01)?\n",
    "\n"
   ]
  },
  {
   "cell_type": "markdown",
   "metadata": {},
   "source": [
    "--> The p-value is the probability of obtaining test results at least as extreme as the observed results, assuming that the null hypothesis (𝐻0) is true. It quantifies the evidence against 𝐻0.\n",
    "\n",
    "--> Mathematically, the p-value is calculated based on the test statistic (e.g., z-statistic or t-statistic) and represents the area under the curve of the probability distribution beyond the observed value.\n",
    "\n",
    "Interpretation of P-Value\n",
    "\n",
    "--> High p-value (close to 1): The observed data is consistent with 𝐻0.There is insufficient evidence to reject 𝐻0.\n",
    "\n",
    "--> Low p-value (close to 0): The observed data is unlikely under 𝐻0.There is strong evidence to reject 𝐻0.\n",
    "\n",
    "#### Using P-Value in Hypothesis Testing\n",
    "1. Formulate Hypotheses:\n",
    "\n",
    "Null Hypothesis(𝐻0): No effect or no difference.\n",
    "\n",
    "Alternative Hypothesis(𝐻1): There is an effect or difference.\n",
    "\n",
    "2. Set the Significance Level(𝛼):\n",
    "\n",
    "Common values: 𝛼=0.05 or 𝛼=0.01 .\n",
    "\n",
    "3. Calculate the Test Statistic and P-Value:\n",
    "\n",
    "Depending on the test (z-test, t-test, etc.), compute the p-value.\n",
    "\n",
    "4. Decision Rule:\n",
    "\n",
    "If 𝑝≤𝛼: Reject 𝐻0.The result is statistically significant.\n",
    "\n",
    "If 𝑝>𝛼: Fail to reject 𝐻0. The result is not statistically significant.\n",
    "\n",
    "--> Interpretation of a Small P-Value (e.g., 0.01):\n",
    "\n",
    "P-Value = 0.01 means there is a 1% chance of observing the data (or more extreme) if 𝐻0 is true.\n",
    "\n",
    "Since 0.01 is smaller than typical significance levels (e.g., 0.05), it provides strong evidence against 𝐻0.\n",
    "\n",
    "This suggests that the observed effect is unlikely to be due to random variation, supporting the alternative hypothesis (𝐻1).\n"
   ]
  },
  {
   "cell_type": "markdown",
   "metadata": {},
   "source": [
    "3. Compare and contrast the binomial and Bernoulli distributions. \n"
   ]
  },
  {
   "cell_type": "markdown",
   "metadata": {},
   "source": [
    "1. Scope of Trials:\n",
    "Bernoulli: Models a single experiment.\n",
    "\n",
    "Binomial: Models multiple Bernoulli trials.\n",
    "\n",
    "2. Outcome Range:\n",
    "\n",
    "Bernoulli: Only two possible outcomes (0 or 1).\n",
    "\n",
    "Binomial: Ranges from 0 to 𝑛 successes.\n",
    "\n",
    "3. Dependence:\n",
    "\n",
    "The Binomial distribution is the sum of 𝑛 independent Bernoulli trials.\n",
    "\n",
    "A Bernoulli distribution is a special case of the Binomial where 𝑛=1."
   ]
  },
  {
   "cell_type": "markdown",
   "metadata": {},
   "source": [
    "4. Under what conditions is the binomial distribution used, and how does it relate to the Bernoulli distribution?"
   ]
  },
  {
   "cell_type": "markdown",
   "metadata": {},
   "source": [
    "The binomial distribution is appropriate when the following conditions are met:\n",
    "\n",
    "1. Fixed Number of Trials (𝑛)\n",
    "\n",
    "The experiment is repeated a set number of times.\n",
    "\n",
    "Each trial is conducted under the same conditions.\n",
    "\n",
    "2. Binary Outcomes (Success/Failure)\n",
    "\n",
    "Each trial results in either success (1) or failure (0).\n",
    "\n",
    "There are no other possible outcomes.\n",
    "\n",
    "3. Constant Probability of Success (𝑝)\n",
    "\n",
    "The probability of success remains the same for each trial.\n",
    "\n",
    "4. Independent Trials\n",
    "\n",
    "The outcome of one trial does not affect the outcome of another.\n",
    "\n",
    "### Relation to the Bernoulli Distribution\n",
    "\n",
    "The Bernoulli distribution is a special case of the binomial distribution when:\n",
    "                                    𝑛=1\n",
    "In other words, a binomial distribution with a single trial follows the Bernoulli distribution.\n",
    "\n",
    "*Sum of Bernoulli Trials:\n",
    "\n",
    "The binomial distribution can be thought of as the sum of 𝑛 independent Bernoulli trials. If 𝑋1,𝑋2,…,𝑋𝑛 are independent Bernoulli randomn variables, then: 𝑋=𝑋1+𝑋2+⋯+𝑋𝑛\n",
    "\n",
    "follows a Binomial distribution with parameters 𝑛 and p."
   ]
  },
  {
   "cell_type": "markdown",
   "metadata": {},
   "source": [
    "5. What are the key properties of the Poisson distribution, and when is it appropriate to use this distribution?\n",
    "\n"
   ]
  },
  {
   "cell_type": "markdown",
   "metadata": {},
   "source": [
    "The Poisson distribution models the probability of a given number of events occurring in a fixed interval of time or space, under certain conditions. It is defined by a single parameter 𝜆 (the expected number of events in the interval).\n",
    "\n",
    "Properties:\n",
    "\n",
    "1. Discrete Distribution: The Poisson distribution deals with count data (e.g., 0, 1, 2, 3 events).\n",
    "\n",
    "2. Parameter:𝜆 represents the average rate (or expected value) of events per interval.\n",
    "\n",
    "3. Probability Mass Function (PMF):𝑃(𝑋=𝑘)=𝜆^𝑘 𝑒^−𝜆/𝑘!​\n",
    " \n",
    "Where:\n",
    "\n",
    "𝑘 = number of events (non-negative integer)\n",
    "\n",
    "𝑒 = Euler’s number (≈2.718)\n",
    "\n",
    "𝜆 = average number of events\n",
    "\n",
    "Mean and Variance:\n",
    "\n",
    "Mean (Expected Value): 𝐸[X]=𝜆\n",
    "\n",
    "Variance: Var(𝑋)=𝜆\n",
    "\n",
    "The mean and variance are equal.\n",
    "\n",
    "Additivity:\n",
    "If 𝑋1∼Poisson(𝜆1) and 𝑋2∼Poisson(𝜆2), then:𝑋1+𝑋2∼Poisson(𝜆1+𝜆2)\n",
    "\n",
    "Conditions for Using the Poisson Distribution:\n",
    "\n",
    "1. Randomness of Events:\n",
    "\n",
    "Events occur randomly and independently.\n",
    "\n",
    "2. Constant Rate (𝜆):\n",
    "\n",
    "The average rate of occurrence is constant over time or space.\n",
    "\n",
    "3. Non-Overlapping Intervals:\n",
    "\n",
    "The probability of more than one event occurring in a small interval is negligible.\n",
    "\n",
    "4. Discrete Counts:\n",
    "\n",
    "The Poisson distribution applies to counting the number of events (e.g., emails received, customer arrivals).\n",
    "\n",
    "When to Use the Poisson Distribution:\n",
    "\n",
    "1. Modeling Rare Events:\n",
    "\n",
    "The Poisson distribution is often used to model the occurrence of rare events over a continuous domain (time, area, etc.).\n",
    "\n",
    "Examples:\n",
    "\n",
    "Number of calls received by a call center in an hour.\n",
    "\n",
    "Number of defects in a length of fabric.\n",
    "\n",
    "Number of accidents at an intersection per week.\n",
    "\n",
    "Emails arriving in your inbox per day."
   ]
  },
  {
   "cell_type": "markdown",
   "metadata": {},
   "source": [
    "6. Define the terms \"probability distribution\" and \"probability density function\" (PDF). How does a PDF differ from a probability mass function (PMF)?\n"
   ]
  },
  {
   "cell_type": "markdown",
   "metadata": {},
   "source": [
    "1. A probability distribution describes how the probabilities of different possible outcomes of a random variable are distributed. It provides a complete description of the likelihood of occurrence of every possible outcome.\n",
    "\n",
    "For Discrete Variables: Probability is assigned to specific values.\n",
    "\n",
    "For Continuous Variables: Probability is assigned over intervals.\n",
    "\n",
    "2. Probability Density Function (PDF)\n",
    "\n",
    "A Probability Density Function (PDF) is used to describe the distribution of continuous random variables. The PDF represents the likelihood of the random variable falling within a particular interval, rather than at a specific point.\n",
    "\n",
    "Key Properties of PDF:\n",
    "\n",
    "1. The probability that the random variable 𝑋 falls in the interval [a,b] is given by:𝑃(𝑎≤𝑋≤𝑏)=∫𝑎,𝑏 𝑓(𝑥)𝑑𝑥, where 𝑓(𝑥) is the PDF.\n",
    "\n",
    "The total area under the curve of the PDF is equal to 1: \n",
    "∫−∞,∞ 𝑓(𝑥)𝑑𝑥=1∫−∞,∞ f(x)dx=1\n",
    "\n",
    "The PDF can take values greater than 1, but the area under the curve (representing probability) is always between 0 and 1.\n",
    "\n",
    "The value of 𝑓(𝑥) at any point represents the relative likelihood of \n",
    "𝑋=𝑥 but 𝑃(𝑋=𝑥)=0 for continuous distributions.\n",
    "\n",
    "3. Probability Mass Function (PMF)\n",
    "\n",
    "A Probability Mass Function (PMF) is used to describe the distribution of discrete random variables. It provides the probability that a random variable equals a specific value.\n",
    "\n",
    "Key Properties of PMF:\n",
    "\n",
    "For a discrete random variable \n",
    "𝑋:𝑃(𝑋=𝑥𝑖)=𝑓(𝑥𝑖)\n",
    "\n",
    "The sum of all probabilities is equal to 1:\n",
    "∑𝑃(𝑋=𝑥𝑖)=1\n",
    "\n",
    "The PMF gives the actual probability at each discrete point.\n"
   ]
  },
  {
   "cell_type": "markdown",
   "metadata": {},
   "source": [
    "7. Explain the Central Limit Theorem (CLT) with example."
   ]
  },
  {
   "cell_type": "markdown",
   "metadata": {},
   "source": [
    "Central Limit Theorem (CLT): \n",
    "\n",
    "The Central Limit Theorem (CLT) is a fundamental concept in statistics that describes the behavior of the sampling distribution of the sample mean (or sum) for large sample sizes, regardless of the shape of the population distribution.\n",
    "\n",
    "Key Points of the CLT:\n",
    "\n",
    "Definition: If we take a large number of random samples (size 𝑛) from any population with: Mean 𝜇\n",
    "Standard deviation 𝜎\n",
    "\n",
    "Then, the distribution of the sample means will approximate a normal distribution, even if the population itself is not normally distributed.\n",
    "Sampling Distribution of the Mean:\n",
    "\n",
    "The mean of the sampling distribution:\n",
    "𝐸[𝑋]=𝜇\n",
    "\n",
    "The standard deviation of the sampling distribution (standard error):\n",
    "𝜎_𝑋= 𝜎/𝑛**0.5​\n",
    " \n",
    "As the sample size 𝑛 increases, the approximation to a normal distribution improves.\n",
    "\n",
    "Implication:\n",
    "\n",
    "For sufficiently large 𝑛 (typically 𝑛≥30), the distribution of the sample mean will be approximately normal.\n",
    "\n",
    "Example of CLT in Practice:\n",
    "\n",
    "Scenario:\n",
    "\n",
    "A bank wants to analyze the average transaction amount of its customers. The transaction amounts follow a skewed distribution with:\n",
    "\n",
    "Population mean 𝜇=5000 INR\n",
    "\n",
    "Population standard deviation 𝜎=1500 INR\n",
    "\n",
    "Step 1: Take random samples of 50 transactions (𝑛=50).\n",
    "\n",
    "Step 2: Calculate the sample mean for each group of 50 transactions.\n",
    "\n",
    "Step 3: Plot the distribution of the sample means.\n",
    "\n",
    "Result:\n",
    "\n",
    "Although the individual transaction amounts follow a skewed distribution, the distribution of the sample means will be approximately normal with:\n",
    "\n",
    "𝜇_X'=5000\n",
    "\n",
    "𝜎_𝑋'=1500/(50**0.5)≈212.13\n",
    "\n",
    "Why CLT is Important:\n",
    "\n",
    "Statistical Inference: Enables the use of normal distribution techniques (like z-tests) even when the population is not normally distributed.\n",
    "\n",
    "Confidence Intervals: Helps construct confidence intervals for population parameters.\n",
    "\n",
    "Hypothesis Testing: Allows hypothesis testing using sample means.\n",
    "\n",
    "Real-World Applications:\n",
    "\n",
    "Quality Control: Estimating defect rates in manufacturing.\n",
    "\n",
    "Finance: Estimating average returns of stock portfolios.\n",
    "\n",
    "Healthcare: Analyzing average recovery times of patients in clinical trials."
   ]
  },
  {
   "cell_type": "markdown",
   "metadata": {},
   "source": [
    "8. Compare z-scores and t-scores. When should you use a z-score, and when should a t-score be applied instead?\n"
   ]
  },
  {
   "cell_type": "markdown",
   "metadata": {},
   "source": [
    "### Z-Score\t\n",
    "\n",
    "1. Measures how many standard deviations a data point is from the population mean.\n",
    "\n",
    "2. 𝑧=𝑋−𝜇/𝜎\n",
    "\n",
    "3. Population/Sample: Used when population parameters (mean 𝜇 and standard deviation 𝜎) are known.\n",
    "\n",
    "4. Follows a standard normal distribution (mean 0, std 1).\n",
    "\n",
    "5. Appropriate for large samples (𝑛≥30).\n",
    "\n",
    "6. Symmetrical and does not change with sample size.\n",
    "\n",
    "7. Fixed for any confidence level.\n",
    "\n",
    "8. Thinner tails.\n",
    "\n",
    "### T-Score\n",
    "\n",
    "1. Measures how many standard deviations a data point is from the sample mean.\n",
    "\n",
    "2. 𝑡=𝑋−𝑋'/(𝑠/𝑛**0.5)​\n",
    "\n",
    "3. Used when population parameters are unknown, and sample data is used.\n",
    "Distribution\t\n",
    "\n",
    "4. Follows a t-distribution, which is broader and has heavier tails.\n",
    "\n",
    "5. Preferred for small samples (𝑛<30).\n",
    "\n",
    "6. Symmetrical but varies with degrees of freedom (𝑑𝑓=𝑛−1).\n",
    "\n",
    "7. Varies based on sample size and degrees of freedom.\n",
    "\n",
    "8. Thicker tails (to account for uncertainty with small samples).\n",
    "\n",
    "--> Use Z-Score When:\n",
    "\n",
    "The population standard deviation 𝜎 is known.\n",
    "\n",
    "The sample size is large (𝑛≥30).\n",
    "\n",
    "The data follows a normal distribution or the sample size is large enough for the Central Limit Theorem to apply.\n",
    "\n",
    "--> Use T-Score When:\n",
    "\n",
    "The population standard deviation is unknown.\n",
    "\n",
    "The sample size is small (𝑛<30).\n",
    "\n",
    "The data may not follow a normal distribution.\n",
    "\n",
    "You are estimating the population mean using the sample standard deviation 𝑠."
   ]
  },
  {
   "cell_type": "markdown",
   "metadata": {},
   "source": [
    "9. Given a sample mean of 105, a population mean of 100, a standard deviation of 15, and a sample size of 25, \n",
    "\n",
    "calculate the z-score and p-value. Based on a significance level of 0.05, do you reject or fail to reject the null hypothesis?\n",
    "\n",
    "Task: Write Python code to calculate the z-score and p-value for the given data.\n",
    "\n",
    "Objective: Apply the formula for the z-score and interpret the p-value for hypothesis testing.\n",
    "\n"
   ]
  },
  {
   "cell_type": "code",
   "execution_count": 4,
   "metadata": {},
   "outputs": [],
   "source": [
    "import statistics\n",
    "from scipy import stats\n",
    "from statsmodels.stats.weightstats import ztest\n",
    "\n",
    "null_hypo = 105\n",
    "sample_mean = 105\n",
    "population_mean = 100\n",
    "population_stddev = 15\n",
    "n = 25\n",
    "alpha = 0.05"
   ]
  },
  {
   "cell_type": "code",
   "execution_count": 7,
   "metadata": {},
   "outputs": [
    {
     "name": "stdout",
     "output_type": "stream",
     "text": [
      "Your Z_Score is:  1.6666666666666667\n"
     ]
    }
   ],
   "source": [
    "z_score = (sample_mean-population_mean)/(population_stddev/n**0.5)\n",
    "print(\"Your Z_Score is: \",z_score)"
   ]
  },
  {
   "cell_type": "code",
   "execution_count": 11,
   "metadata": {},
   "outputs": [
    {
     "data": {
      "text/plain": [
       "1.6448536269514722"
      ]
     },
     "execution_count": 11,
     "metadata": {},
     "output_type": "execute_result"
    }
   ],
   "source": [
    "p_value = stats.norm.ppf(1-alpha)\n",
    "p_value"
   ]
  },
  {
   "cell_type": "code",
   "execution_count": 32,
   "metadata": {},
   "outputs": [
    {
     "name": "stdout",
     "output_type": "stream",
     "text": [
      "fail to reject the null hypothesis\n"
     ]
    }
   ],
   "source": [
    "if p_value > z_score:\n",
    "    print(\"Reject the null hypothesis\")\n",
    "else:\n",
    "    print(\"fail to reject the null hypothesis\")"
   ]
  },
  {
   "cell_type": "markdown",
   "metadata": {},
   "source": [
    "10. Simulate a binomial distribution with 10 trials and a probability of success of 0.6 using Python.\n",
    "\n",
    "Generate 1,000 samples and plot the distribution. What is the expected mean and variance?\n",
    "\n",
    "Task: Use Python to generate the data, plot the distribution, and calculate the mean and variance.\n",
    "\n",
    "Objective: Understand the properties of a binomial distribution and verify them through simulation."
   ]
  },
  {
   "cell_type": "code",
   "execution_count": 21,
   "metadata": {},
   "outputs": [],
   "source": [
    "import numpy as np\n",
    "import matplotlib.pyplot as plt\n",
    "import seaborn as sns\n",
    "import warnings\n",
    "warnings.filterwarnings('ignore')"
   ]
  },
  {
   "cell_type": "code",
   "execution_count": 16,
   "metadata": {},
   "outputs": [
    {
     "data": {
      "text/plain": [
       "array([ 9,  5,  6,  7,  9, 10,  5,  7,  6,  7,  5,  4,  4,  6,  7,  7,  6,\n",
       "        8,  6,  9,  3,  3,  5,  6,  4,  8,  9,  5,  4,  3,  7,  4,  7,  7,\n",
       "        6,  7,  8,  5,  8,  8,  8,  5,  4,  8,  6,  8,  7,  8,  5,  5,  5,\n",
       "        5,  7,  6,  7,  7,  6,  4,  6,  7,  8,  6,  7,  4,  6,  8,  9,  7,\n",
       "        7,  6,  6,  6,  6,  8,  7,  5,  3,  6,  7,  6,  8,  5,  6,  6,  4,\n",
       "        7,  4,  6,  7,  6,  7,  7,  4,  7,  5,  8,  4,  5,  2,  4,  8,  4,\n",
       "        6,  7,  8,  8,  6,  7,  8,  4,  5,  7,  5,  5,  4,  7,  5,  6,  4,\n",
       "       10,  5,  4,  5,  7,  8,  7,  4,  7,  6,  4,  8,  9,  5,  1,  2,  5,\n",
       "        5,  6,  3,  7,  6,  6,  6,  6,  5,  5,  7,  7,  6,  8,  5,  6,  4,\n",
       "        9,  1,  8,  6,  7,  6,  6,  8,  4,  9,  5,  7,  5,  7,  5,  6,  5,\n",
       "        7,  7,  7,  5,  5,  4,  6,  6,  4,  7,  7,  5,  6,  8,  4,  6,  7,\n",
       "        5,  6,  7,  5,  8,  5,  3,  2,  6,  4,  6,  8,  2,  9,  7,  7,  5,\n",
       "        5,  6,  6,  4,  7,  4,  6,  5,  8,  5,  4,  7,  8,  5,  7,  8,  6,\n",
       "        7,  3,  3,  5,  8,  5,  7,  7,  4,  8,  9,  6,  7,  5,  7,  5,  7,\n",
       "        9,  8,  7,  8,  8,  8,  6,  4,  8,  5,  5,  7,  8,  6,  6,  6,  5,\n",
       "        7,  4,  3,  6,  6,  7,  7,  9,  4,  9,  6,  3,  5,  3,  8,  7,  7,\n",
       "        8,  6,  8,  6,  5,  7,  5,  5,  3,  6,  5,  5,  5,  8,  6,  6,  7,\n",
       "        7,  7,  4,  6,  8,  6,  4,  6,  9,  5,  3,  8,  5,  7, 10,  6,  4,\n",
       "        4,  7,  5,  5,  4,  5,  9,  8,  7,  6,  7,  4,  7,  6,  3,  5,  7,\n",
       "        7,  8,  8,  5,  7,  4,  7,  7,  8,  9,  8,  6,  8,  5,  8,  6,  7,\n",
       "        5,  6,  3,  9,  7,  3,  6,  9,  5,  7,  6,  6,  6,  5,  4,  5,  6,\n",
       "        6,  6,  5,  4,  6,  5,  6,  6,  6,  5,  4,  5,  6,  8,  6,  7,  3,\n",
       "        5,  7,  5,  6,  7,  8,  6, 10,  7,  7,  3,  7,  6,  6,  4,  6,  6,\n",
       "        6,  8,  7,  6,  7,  9,  8,  6,  7,  6,  6,  5,  6,  5,  7,  3,  9,\n",
       "        5,  7,  7,  6,  7,  8,  6,  4,  8,  8,  6,  6,  8,  6,  4,  7,  9,\n",
       "        7,  5,  8,  5,  6,  4,  6,  5,  7,  8,  5,  7,  4,  9,  4,  6,  7,\n",
       "        8,  9,  5,  7,  7,  9,  6, 10,  5,  5,  5,  4,  2,  5,  7,  5,  6,\n",
       "        7,  7,  4,  7,  7,  8,  7,  6,  7,  7,  6,  6,  6,  6,  6,  7,  5,\n",
       "        3,  8,  7,  8,  9,  6,  7,  7,  4,  4,  5,  5,  4,  9,  6,  6,  4,\n",
       "        5,  5,  5,  7, 10,  6,  6,  4,  7,  6,  6,  4,  6,  7,  5,  6,  3,\n",
       "        8,  4,  5,  7,  6,  6,  6,  8,  7,  4,  6,  6,  5,  5,  4,  5,  4,\n",
       "        6,  6,  8,  8,  7,  7,  6,  7,  8,  4,  7,  6,  5,  8,  9,  6,  7,\n",
       "        6,  4,  5,  4,  7,  5,  7,  9,  6,  6,  8,  6,  8,  3,  7,  3,  6,\n",
       "        6,  8,  5,  3,  4,  5,  4,  8,  5,  7,  6,  7,  8,  3,  8,  7,  4,\n",
       "        6,  5,  5,  5,  8,  7,  8,  5,  5,  5,  5,  5,  7,  5,  7,  4,  5,\n",
       "        7,  6,  6,  6,  6,  8,  5,  7,  6,  5,  6,  1,  7,  6,  4,  6,  9,\n",
       "        6,  2,  7,  7,  6,  6,  5,  5,  6,  7,  6,  6,  7,  5,  6,  8,  6,\n",
       "        6,  7,  6,  6,  5,  7,  7,  3,  5,  5,  6,  6,  7,  5,  8,  7,  7,\n",
       "        5,  5,  7,  8,  7,  7,  7,  7,  8,  7,  6,  7,  8,  9,  5,  7,  7,\n",
       "        8,  5,  4,  7,  9,  7,  7,  6,  7,  7,  6,  7,  7,  4,  4,  4,  7,\n",
       "        6,  7,  8,  7,  6,  5,  3,  4,  7,  8,  6,  9,  6,  4,  7,  4,  5,\n",
       "        4,  4,  7,  5,  8,  4,  8,  6,  8,  7,  4,  7,  4,  7,  5,  7,  6,\n",
       "        3,  8,  7,  6,  7,  8,  3,  5,  7,  6,  9,  8,  4,  6,  4,  3,  7,\n",
       "        8,  6,  4,  7,  8,  8,  8,  4,  7,  3,  7,  7,  4,  3,  5,  6,  8,\n",
       "        4,  7,  6,  9,  6,  6,  5,  8,  6,  7,  5,  7,  5,  4,  7,  2,  7,\n",
       "        5,  5,  6,  5,  5,  4,  4,  6,  8,  6,  5,  4,  5,  8,  7,  6,  7,\n",
       "        9,  8,  8,  8,  5,  5,  4,  5,  7,  7,  7,  6,  4,  5,  5,  8,  7,\n",
       "        9,  4,  7,  3,  6,  6,  3,  5,  6,  5,  6,  5,  7,  3,  4,  6,  9,\n",
       "        8,  7,  8,  4,  6,  6,  6,  5,  7,  2,  6,  4,  7,  8,  6,  9,  6,\n",
       "        5,  8,  8,  7,  7,  4,  8,  6,  5,  8,  9,  6,  6,  5,  8,  5,  5,\n",
       "        7,  6,  9,  6,  4,  5,  5,  4,  6,  6,  7,  6,  5,  8,  5,  6,  6,\n",
       "        7,  8,  6,  8,  6,  6,  6,  6,  7,  8,  5,  6,  7,  6,  7,  4,  6,\n",
       "        3,  7,  7,  4,  3,  5,  3,  7,  5,  6,  7,  5,  4,  3,  8,  7,  4,\n",
       "        6,  8,  7,  4,  6,  2,  8,  5,  6,  4,  7,  8,  8,  6,  8,  6,  5,\n",
       "        6,  9,  5,  6,  5,  6,  3,  7,  6,  6,  7,  4,  4,  6,  7,  4,  7,\n",
       "        6,  7,  7,  6,  7,  5,  6,  8,  6,  7,  6,  7,  6,  4,  5,  6,  7,\n",
       "        5,  6,  7,  7,  7,  6,  6,  5,  4,  7,  4,  9,  6,  7,  5,  3,  7,\n",
       "        4,  5,  5,  7,  7,  7,  5,  3,  5,  5,  7,  7,  8,  5,  5,  9,  9,\n",
       "        6,  6,  7,  4,  5,  4,  8,  6,  7,  6,  7,  2,  4,  6])"
      ]
     },
     "execution_count": 16,
     "metadata": {},
     "output_type": "execute_result"
    }
   ],
   "source": [
    "b = np.random.binomial(10,0.6,size=1000)\n",
    "b"
   ]
  },
  {
   "cell_type": "code",
   "execution_count": 17,
   "metadata": {},
   "outputs": [
    {
     "data": {
      "text/plain": [
       "(6.046, 2.483884)"
      ]
     },
     "execution_count": 17,
     "metadata": {},
     "output_type": "execute_result"
    }
   ],
   "source": [
    "np.mean(b),np.var(b)"
   ]
  },
  {
   "cell_type": "code",
   "execution_count": 23,
   "metadata": {},
   "outputs": [
    {
     "data": {
      "image/png": "[encoded data removed]",
      "text/plain": [
       "<Figure size 640x480 with 1 Axes>"
      ]
     },
     "metadata": {},
     "output_type": "display_data"
    }
   ],
   "source": [
    "sns.histplot(b,kde=True,color = 'Purple')\n",
    "plt.show()"
   ]
  },
  {
   "cell_type": "code",
   "execution_count": 25,
   "metadata": {},
   "outputs": [
    {
     "data": {
      "image/png": "[encoded data removed]",
      "text/plain": [
       "<Figure size 640x480 with 1 Axes>"
      ]
     },
     "metadata": {},
     "output_type": "display_data"
    }
   ],
   "source": [
    "sns.distplot(b,kde = True)\n",
    "plt.show()"
   ]
  },
  {
   "cell_type": "code",
   "execution_count": null,
   "metadata": {},
   "outputs": [],
   "source": []
  }
 ],
 "metadata": {
  "kernelspec": {
   "display_name": "base",
   "language": "python",
   "name": "python3"
  },
  "language_info": {
   "codemirror_mode": {
    "name": "ipython",
    "version": 3
   },
   "file_extension": ".py",
   "mimetype": "text/x-python",
   "name": "python",
   "nbconvert_exporter": "python",
   "pygments_lexer": "ipython3",
   "version": "3.11.7"
  }
 },
 "nbformat": 4,
 "nbformat_minor": 2
}
