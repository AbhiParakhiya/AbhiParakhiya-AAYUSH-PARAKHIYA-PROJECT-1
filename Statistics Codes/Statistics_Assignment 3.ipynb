{
 "cells": [
  {
   "cell_type": "markdown",
   "metadata": {},
   "source": [
    "1. Explain the properties of the F-distribution. "
   ]
  },
  {
   "cell_type": "markdown",
   "metadata": {},
   "source": [
    "Definition: The F-distribution is a continuous probability distribution that arises frequently in analysis of variance (ANOVA) and hypothesis testing.\n",
    "Skewed Distribution: The F-distribution is positively skewed and bounded at 0 (i.e.,𝐹≥0).\n",
    "\n",
    "Shape: The shape of the F-distribution depends on two parameters:\n",
    "\n",
    "#𝑑1(numerator degrees of freedom)\n",
    "\n",
    "#𝑑2(denominator degrees of freedom).\n",
    "\n",
    "** Mean of F-Distribution: 𝐸[𝐹]=𝑑2/(d2-2),(𝑑2>2)\n",
    "\n",
    "** Variance:Var(𝐹)=2𝑑_2^2(𝑑1+𝑑2−2)/(𝑑1(𝑑2−2)**2(𝑑2−4)),(𝑑2>4)\n",
    "\n",
    "--> Right-Tailed Test: The F-test is primarily used in right-tailed hypothesis tests.\n",
    "\n",
    "--> Non-Symmetrical: Unlike the normal distribution, the F-distribution is not symmetrical.\n",
    "\n",
    "--> Additivity: Independent F-distributions can be added under certain conditions.\n"
   ]
  },
  {
   "cell_type": "markdown",
   "metadata": {},
   "source": [
    "2. In which types of statistical tests is the F-distribution used, and why is it appropriate for these tests?\n",
    "\n",
    "\n",
    "\n"
   ]
  },
  {
   "cell_type": "markdown",
   "metadata": {},
   "source": [
    "Statistical Tests Using the F-Distribution:\n",
    "\n",
    "Analysis of Variance (ANOVA): Compares means of multiple groups by analyzing variances.\n",
    "\n",
    "Regression Analysis: Tests for the overall significance of a regression model.\n",
    "\n",
    "Variance Ratio Test (F-Test): Compares the variances of two populations.\n",
    "\n",
    "Why Appropriate:\n",
    "\n",
    "The F-distribution is ideal for comparing variances because it models the ratio of two chi-square distributions (scaled by their degrees of freedom).\n",
    "\n",
    "This makes it sensitive to differences in variances between groups."
   ]
  },
  {
   "cell_type": "markdown",
   "metadata": {},
   "source": [
    "3. What are the key assumptions required for conducting an F-test to compare the variances of two\n",
    "populations?\n",
    "\n",
    "\n",
    "\n"
   ]
  },
  {
   "cell_type": "markdown",
   "metadata": {},
   "source": [
    "Assumptions for Conducting an F-Test (Comparing Variances):\n",
    "\n",
    "1. Independence: The samples must be independent of each other.\n",
    "\n",
    "2. Normality: The populations being compared should follow a normal distribution.\n",
    "\n",
    "3. Random Sampling: Data should be collected through random sampling.\n",
    "\n",
    "4. Equal Scale: The measurement scale should be the same for both groups.\n",
    "\n",
    "**Note: The F-test is sensitive to non-normality, so if this assumption is violated, alternative tests (e.g., Levene’s test) may be preferred.\n",
    "\n"
   ]
  },
  {
   "cell_type": "markdown",
   "metadata": {},
   "source": [
    "4. What is the purpose of ANOVA, and how does it differ from a t-test? \n",
    "\n",
    "\n",
    "\n"
   ]
  },
  {
   "cell_type": "markdown",
   "metadata": {},
   "source": [
    "### Purpose of ANOVA:\n",
    "\n",
    "ANOVA tests whether the means of three or more groups are significantly different from each other. It does this by comparing the variance between groups to the variance within groups.\n",
    "\n",
    "#### t-Test (Comparison):\n",
    "\n",
    "--> A t-test compares the means of two groups.\n",
    "\n",
    "#### Key Difference:\n",
    "\n",
    "--> ANOVA extends the t-test to handle multiple groups, avoiding the increased error rates associated with multiple t-tests."
   ]
  },
  {
   "cell_type": "markdown",
   "metadata": {},
   "source": [
    "5. Explain when and why you would use a one-way ANOVA instead of multiple t-tests when comparing more\n",
    "than two groups.\n",
    "\n",
    "\n",
    "\n"
   ]
  },
  {
   "cell_type": "markdown",
   "metadata": {},
   "source": [
    "1. Efficiency: Conducting multiple t-tests increases the risk of Type I errors (false positives).\n",
    "\n",
    "2. Error Control: One-way ANOVA controls for this by testing all group means simultaneously.\n",
    "\n",
    "3. Simplification: One overall test result simplifies interpretation, highlighting if at least one group differs without testing every pair individually."
   ]
  },
  {
   "cell_type": "markdown",
   "metadata": {},
   "source": [
    "6. Explain how variance is partitioned in ANOVA into between-group variance and within-group variance.\n",
    "How does this partitioning contribute to the calculation of the F-statistic?\n",
    "\n",
    "\n",
    "\n"
   ]
  },
  {
   "cell_type": "markdown",
   "metadata": {},
   "source": [
    "Total Variance: Divided into two components:\n",
    "\n",
    "Total Sum of Squares (SST)=SSB(Between-Groups)+SSW (Within-Groups)\n",
    "\n",
    "Between-Group Variance (SSB): Measures the variance between group means.\n",
    "\n",
    "𝑆𝑆𝐵=∑𝑛_𝑖(𝑋𝑖−𝑋')**2\n",
    " \n",
    "Within-Group Variance (SSW): Measures the variance within each group.\n",
    "\n",
    "𝑆𝑆𝑊=∑(𝑋𝑖𝑗−𝑋'𝑖)**2\n",
    "\n",
    "F-Statistic:\n",
    "\n",
    "𝐹 = Mean Square Between (MSB)/Mean Square Within (MSW)\n",
    "​ \n",
    "Where:\n",
    "\n",
    "𝑀𝑆𝐵=𝑆𝑆𝐵/𝑑1,𝑀𝑆𝑊=𝑆𝑆𝑊/𝑑2"
   ]
  },
  {
   "cell_type": "markdown",
   "metadata": {},
   "source": [
    "7. Compare the classical (frequentist) approach to ANOVA with the Bayesian approach. What are the key\n",
    "differences in terms of how they handle uncertainty, parameter estimation, and hypothesis testing?"
   ]
  },
  {
   "cell_type": "markdown",
   "metadata": {},
   "source": [
    "### Classical (Frequentist) ANOVA\t\n",
    "\n",
    "1. Tests null hypothesis with p-values and significance levels.\n",
    "\n",
    "2. Fixed parameter estimates, uncertainty represented by confidence intervals.\n",
    "\n",
    "3. Reject or fail to reject 𝐻0.\n",
    "\n",
    "4. Point estimates (mean, variance).\n",
    "\n",
    "5. Rigid and depends on large samples.\t\n",
    "\n",
    "6. p-value and F-statistic.\n",
    "\n",
    "7. Binary decision (reject or fail to reject)\n",
    "\n",
    "### Bayesian ANOVA\n",
    "\n",
    "1. Incorporates prior knowledge and updates beliefs.\n",
    "\n",
    "2. Uncertainty expressed through posterior distributions.\n",
    "\n",
    "3. Compares posterior probabilities of models.\n",
    "\n",
    "4. Full posterior distributions for parameters.\n",
    "\n",
    "5. More flexible, can handle small samples and complex models.\n",
    "\n",
    "6. Posterior distributions, Bayes Factors.\n",
    "\n",
    "7. Degree of belief in different hypotheses.\n",
    "\n",
    "### Key Takeaway:\n",
    "--> Frequentist ANOVA is straightforward and widely used but rigid in interpretation.\n",
    "\n",
    "--> Bayesian ANOVA provides richer insights by quantifying uncertainty directly, making it useful for complex or small data scenarios."
   ]
  },
  {
   "cell_type": "markdown",
   "metadata": {},
   "source": [
    "8. Question: You have two sets of data representing the incomes of two different professions1\n",
    "\n",
    "V Profession A: [48, 52, 55, 60, 62]\n",
    "\n",
    "V Profession B: [45, 50, 55, 52, 47] \n",
    "\n",
    "Perform an F-test to determine if the variances of the two professions' incomes are equal. What are your conclusions based on the F-test?\n",
    "\n",
    "Task: Use Python to calculate the F-statistic and p-value for the given data.\n",
    "\n",
    "Objective: Gain experience in performing F-tests and interpreting the results in terms of variance comparison.\n",
    "\n",
    "\n"
   ]
  },
  {
   "cell_type": "code",
   "execution_count": 13,
   "metadata": {},
   "outputs": [],
   "source": [
    "import scipy.stats as stats\n",
    "import numpy as np\n",
    "\n",
    "V_Profession_A = [48, 52, 55, 60, 62]\n",
    "V_Profession_B = [45, 50, 55, 52, 47]\n",
    "alpha = 0.05\n"
   ]
  },
  {
   "cell_type": "code",
   "execution_count": 9,
   "metadata": {},
   "outputs": [
    {
     "data": {
      "text/plain": [
       "26.24"
      ]
     },
     "execution_count": 9,
     "metadata": {},
     "output_type": "execute_result"
    }
   ],
   "source": [
    "v1 = np.var(V_Profession_A)\n",
    "v2 = np.var(V_Profession_B)\n",
    "v1"
   ]
  },
  {
   "cell_type": "code",
   "execution_count": 10,
   "metadata": {},
   "outputs": [
    {
     "data": {
      "text/plain": [
       "12.559999999999999"
      ]
     },
     "execution_count": 10,
     "metadata": {},
     "output_type": "execute_result"
    }
   ],
   "source": [
    "v2"
   ]
  },
  {
   "cell_type": "code",
   "execution_count": 6,
   "metadata": {},
   "outputs": [
    {
     "data": {
      "text/plain": [
       "4"
      ]
     },
     "execution_count": 6,
     "metadata": {},
     "output_type": "execute_result"
    }
   ],
   "source": [
    "df1 = len(V_Profession_A)-1\n",
    "df2 = len(V_Profession_B)-1\n",
    "df1"
   ]
  },
  {
   "cell_type": "code",
   "execution_count": 7,
   "metadata": {},
   "outputs": [
    {
     "data": {
      "text/plain": [
       "4"
      ]
     },
     "execution_count": 7,
     "metadata": {},
     "output_type": "execute_result"
    }
   ],
   "source": [
    "df2"
   ]
  },
  {
   "cell_type": "code",
   "execution_count": 12,
   "metadata": {},
   "outputs": [
    {
     "data": {
      "text/plain": [
       "2.089171974522293"
      ]
     },
     "execution_count": 12,
     "metadata": {},
     "output_type": "execute_result"
    }
   ],
   "source": [
    "fstats = v1/v2\n",
    "fstats"
   ]
  },
  {
   "cell_type": "code",
   "execution_count": 15,
   "metadata": {},
   "outputs": [
    {
     "data": {
      "text/plain": [
       "6.388232908695868"
      ]
     },
     "execution_count": 15,
     "metadata": {},
     "output_type": "execute_result"
    }
   ],
   "source": [
    "p_value = stats.f.ppf(q=1-alpha,dfn = df1,dfd = df2)\n",
    "p_value"
   ]
  },
  {
   "cell_type": "code",
   "execution_count": 19,
   "metadata": {},
   "outputs": [
    {
     "name": "stdout",
     "output_type": "stream",
     "text": [
      "fail to reject null hypothesis\n"
     ]
    }
   ],
   "source": [
    "if p_value <= fstats:\n",
    "    print(\"reject the null hypothesis\")\n",
    "else:\n",
    "    print(\"fail to reject null hypothesis\")"
   ]
  },
  {
   "cell_type": "markdown",
   "metadata": {},
   "source": [
    "\n",
    "9. Question: Conduct a one-way ANOVA to test whether there are any statistically significant differences in\n",
    "average heights between three different regions with the following data1\n",
    "\n",
    "V Region A: [160, 162, 165, 158, 164]\n",
    "\n",
    "V Region B: [172, 175, 170, 168, 174]\n",
    "\n",
    "V Region C: [180, 182, 179, 185, 183]\n",
    "\n",
    "Task: Write Python code to perform the one-way ANOVA and interpret the results.\n",
    "\n",
    "Objective: Learn how to perform one-way ANOVA using Python and interpret F-statistic and p-value."
   ]
  },
  {
   "cell_type": "code",
   "execution_count": 20,
   "metadata": {},
   "outputs": [],
   "source": [
    "V_Region_A = [160, 162, 165, 158, 164]\n",
    "V_Region_B = [172, 175, 170, 168, 174]\n",
    "V_Region_C = [180, 182, 179, 185, 183]\n",
    "\n",
    "fstats,p_value = stats.f_oneway(V_Region_A,V_Region_B,V_Region_C) "
   ]
  },
  {
   "cell_type": "code",
   "execution_count": 21,
   "metadata": {},
   "outputs": [
    {
     "data": {
      "text/plain": [
       "67.87330316742101"
      ]
     },
     "execution_count": 21,
     "metadata": {},
     "output_type": "execute_result"
    }
   ],
   "source": [
    "fstats"
   ]
  },
  {
   "cell_type": "code",
   "execution_count": 22,
   "metadata": {},
   "outputs": [
    {
     "data": {
      "text/plain": [
       "2.870664187937026e-07"
      ]
     },
     "execution_count": 22,
     "metadata": {},
     "output_type": "execute_result"
    }
   ],
   "source": [
    "p_value"
   ]
  },
  {
   "cell_type": "code",
   "execution_count": 23,
   "metadata": {},
   "outputs": [
    {
     "name": "stdout",
     "output_type": "stream",
     "text": [
      "reject the null hypothesis\n"
     ]
    }
   ],
   "source": [
    "if p_value <= 0.05:\n",
    "    print(\"reject the null hypothesis\")\n",
    "else:\n",
    "    print(\"fail to reject null hypothesis\")"
   ]
  }
 ],
 "metadata": {
  "kernelspec": {
   "display_name": "base",
   "language": "python",
   "name": "python3"
  },
  "language_info": {
   "codemirror_mode": {
    "name": "ipython",
    "version": 3
   },
   "file_extension": ".py",
   "mimetype": "text/x-python",
   "name": "python",
   "nbconvert_exporter": "python",
   "pygments_lexer": "ipython3",
   "version": "3.11.7"
  }
 },
 "nbformat": 4,
 "nbformat_minor": 2
}
