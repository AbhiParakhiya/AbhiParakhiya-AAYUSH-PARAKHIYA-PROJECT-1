{
 "cells": [
  {
   "cell_type": "markdown",
   "metadata": {},
   "source": [
    "1. Write A code of reverse string"
   ]
  },
  {
   "cell_type": "code",
   "execution_count": 72,
   "metadata": {},
   "outputs": [
    {
     "data": {
      "text/plain": [
       "'ayihkaraPihbA'"
      ]
     },
     "execution_count": 72,
     "metadata": {},
     "output_type": "execute_result"
    }
   ],
   "source": [
    "str = input(\"Enter Your String\")\n",
    "str[::-1]"
   ]
  },
  {
   "cell_type": "markdown",
   "metadata": {},
   "source": [
    "2. Write A code to count the numbers of vowels in a string"
   ]
  },
  {
   "cell_type": "code",
   "execution_count": 73,
   "metadata": {},
   "outputs": [
    {
     "name": "stdout",
     "output_type": "stream",
     "text": [
      "Your String: AbhiParakhiya\n",
      "6\n"
     ]
    }
   ],
   "source": [
    "str1 = input(\"Enter Your String\")\n",
    "count = 0\n",
    "vowels = \"aeiouAEIOU\"\n",
    "for vowel in str1:\n",
    "  if vowel in vowels:\n",
    "    count += 1\n",
    "print(\"Your String:\",str1)    \n",
    "print(count)"
   ]
  },
  {
   "cell_type": "markdown",
   "metadata": {},
   "source": [
    "3. Write A code to check if a given string is palindrome or not."
   ]
  },
  {
   "cell_type": "code",
   "execution_count": 74,
   "metadata": {},
   "outputs": [
    {
     "name": "stdout",
     "output_type": "stream",
     "text": [
      "Your String:  racecar\n",
      "Palindrome\n"
     ]
    }
   ],
   "source": [
    "str2 = input(\"Enter a String:\")\n",
    "print(\"Your String: \",str2)\n",
    "if str2 == str2[::-1]:\n",
    "  print(\"Palindrome\")\n",
    "else:\n",
    "  print(\"Not Palindrome\")\n",
    " \n",
    "  "
   ]
  },
  {
   "cell_type": "markdown",
   "metadata": {},
   "source": [
    "4. Write A code to check if a two given string are anagrams of each other."
   ]
  },
  {
   "cell_type": "code",
   "execution_count": 75,
   "metadata": {},
   "outputs": [
    {
     "name": "stdout",
     "output_type": "stream",
     "text": [
      "Your String1:  TOM\n",
      "Your String2:  MOT\n",
      "Anagrams\n"
     ]
    }
   ],
   "source": [
    "str1 = input(\"Enter First String:\")\n",
    "str2 = input(\"Enter Second String:\")\n",
    "print(\"Your String1: \",str1)\n",
    "print(\"Your String2: \",str2)\n",
    "if sorted(str1) == sorted(str2):\n",
    "  print(\"Anagrams\")\n",
    "else:\n",
    "  print(\"Not Anagrams\")"
   ]
  },
  {
   "cell_type": "markdown",
   "metadata": {},
   "source": [
    "5. Write A code to find all occurences of a given substring within another string."
   ]
  },
  {
   "cell_type": "code",
   "execution_count": 77,
   "metadata": {},
   "outputs": [
    {
     "name": "stdout",
     "output_type": "stream",
     "text": [
      "Your String:  abhiabhiababababhihihhhiiii\n",
      "Your Substring:  ab\n",
      "Occurences all given Substring 6\n"
     ]
    }
   ],
   "source": [
    "str = input(\"Enter a String:\")\n",
    "print(\"Your String: \",str)\n",
    "sub_str = input(\"Enter a Substring:\")\n",
    "print(\"Your Substring: \",sub_str)\n",
    "count = 0\n",
    "for i in range(len(str)):\n",
    "  if str[i:i+len(sub_str)] == sub_str:\n",
    "    count += 1    \n",
    "print(\"Occurences all given Substring\",count)    "
   ]
  },
  {
   "cell_type": "markdown",
   "metadata": {},
   "source": [
    "6. Write A code to perform basic string compression using the count of repeated numbers."
   ]
  },
  {
   "cell_type": "code",
   "execution_count": 87,
   "metadata": {},
   "outputs": [
    {
     "ename": "TypeError",
     "evalue": "'str' object is not callable",
     "output_type": "error",
     "traceback": [
      "\u001b[1;31m---------------------------------------------------------------------------\u001b[0m",
      "\u001b[1;31mTypeError\u001b[0m                                 Traceback (most recent call last)",
      "Cell \u001b[1;32mIn[87], line 9\u001b[0m\n\u001b[0;32m      7\u001b[0m         count \u001b[38;5;241m+\u001b[39m\u001b[38;5;241m=\u001b[39m \u001b[38;5;241m1\u001b[39m\n\u001b[0;32m      8\u001b[0m     \u001b[38;5;28;01melse\u001b[39;00m:\n\u001b[1;32m----> 9\u001b[0m         compressed\u001b[38;5;241m.\u001b[39mappend(string[i] \u001b[38;5;241m+\u001b[39m \u001b[38;5;28mstr\u001b[39m(count))\n\u001b[0;32m     10\u001b[0m         count \u001b[38;5;241m=\u001b[39m \u001b[38;5;241m1\u001b[39m\n\u001b[0;32m     12\u001b[0m compressed\u001b[38;5;241m.\u001b[39mappend(string[\u001b[38;5;241m-\u001b[39m\u001b[38;5;241m1\u001b[39m] \u001b[38;5;241m+\u001b[39m \u001b[38;5;28mstr\u001b[39m(count))\n",
      "\u001b[1;31mTypeError\u001b[0m: 'str' object is not callable"
     ]
    }
   ],
   "source": [
    "string = \"aabcccccaaa\"\n",
    "compressed = []\n",
    "count = 1\n",
    "\n",
    "for i in range(len(s) - 1):\n",
    "    if string[i] == string[i + 1]:\n",
    "        count += 1\n",
    "    else:\n",
    "        compressed.append(string[i] + str(count))\n",
    "        count = 1\n",
    "\n",
    "compressed.append(string[-1] + str(count))\n",
    "compressed_str = ''.join(compressed)\n",
    "\n",
    "print(\"Original string: \", string)\n",
    "print(\"Compressed string: \", compressed_str if len(compressed_str) < len(s) else s)"
   ]
  },
  {
   "cell_type": "markdown",
   "metadata": {},
   "source": [
    "7. Write A code to determine if a string has all unique character."
   ]
  },
  {
   "cell_type": "code",
   "execution_count": 91,
   "metadata": {},
   "outputs": [
    {
     "name": "stdout",
     "output_type": "stream",
     "text": [
      "Your String:- Abhi\n",
      "The string has all unique characters.\n"
     ]
    }
   ],
   "source": [
    "input_string = input(\"Enter a string: \")\n",
    "unique_chars = set()\n",
    "print(\"Your String:-\",input_string)\n",
    "\n",
    "all_unique = True\n",
    "for char in input_string:\n",
    "    \n",
    "    if char in unique_chars:\n",
    "        all_unique = False\n",
    "        break\n",
    "    else:\n",
    "        unique_chars.add(char)\n",
    "\n",
    "\n",
    "if all_unique:\n",
    "    print(\"The string has all unique characters.\")\n",
    "else:\n",
    "    print(\"The string does not have all unique characters.\")\n",
    "    \n"
   ]
  },
  {
   "cell_type": "markdown",
   "metadata": {},
   "source": [
    "8. Write A code to convert a given string to uppercase and lowercase."
   ]
  },
  {
   "cell_type": "code",
   "execution_count": 93,
   "metadata": {},
   "outputs": [
    {
     "name": "stdout",
     "output_type": "stream",
     "text": [
      "Your String:- Abhi Parakhiya\n",
      "Your Lower string is this:  abhi parakhiya\n",
      "Your Upper String Is This:  ABHI PARAKHIYA\n"
     ]
    }
   ],
   "source": [
    "string1 = input(\"Enter Your string: \")\n",
    "print(\"Your String:-\",string1)\n",
    "print(\"Your Lower string is this: \",string1.lower())\n",
    "print(\"Your Upper String Is This: \",string1.upper()) "
   ]
  },
  {
   "cell_type": "markdown",
   "metadata": {},
   "source": [
    "9. Write A code to count the number of words in a string."
   ]
  },
  {
   "cell_type": "code",
   "execution_count": 94,
   "metadata": {},
   "outputs": [
    {
     "name": "stdout",
     "output_type": "stream",
     "text": [
      "Your String = Abhi Parakhiya is a good boy and a data science student\n",
      "Your No Of Words = 11\n"
     ]
    }
   ],
   "source": [
    "str = input(\"Enter String:\")\n",
    "no_of_words_count = 0\n",
    "in_word = False\n",
    "for char in str:\n",
    "    if char == \" \" or char == \",\" or char == \".\" or char == \"!\" or char == \"?\" or char == \";\":\n",
    "        in_word = False\n",
    "    elif not in_word:\n",
    "        no_of_words_count += 1\n",
    "        in_word = True \n",
    "print(\"Your String =\",str)\n",
    "print(\"Your No Of Words =\",no_of_words_count)        \n",
    "\n"
   ]
  },
  {
   "cell_type": "markdown",
   "metadata": {},
   "source": [
    "10. Write a code to concatenate two strings without using the operator."
   ]
  },
  {
   "cell_type": "code",
   "execution_count": 95,
   "metadata": {},
   "outputs": [
    {
     "name": "stdout",
     "output_type": "stream",
     "text": [
      "Enter Your str1: Aayush\n",
      "Enter Your str2: Parakhiya\n",
      "Your Concatenated Strings = AayushParakhiya\n"
     ]
    }
   ],
   "source": [
    "str1 = input(\"Enter String1\")\n",
    "str2 = input(\"Enter String2\")\n",
    "print(\"Enter Your str1:\",str1)\n",
    "print(\"Enter Your str2:\",str2)\n",
    "concat = \"\".join([str1,str2])\n",
    "print(\"Your Concatenated Strings =\",concat)"
   ]
  },
  {
   "cell_type": "markdown",
   "metadata": {},
   "source": [
    "11. Write a code to remove all occurrences of a specific element from a list."
   ]
  },
  {
   "cell_type": "code",
   "execution_count": 96,
   "metadata": {},
   "outputs": [
    {
     "name": "stdout",
     "output_type": "stream",
     "text": [
      "['Main Hoon Na', 'Mohobatein', 'Mujhse Shadi Karogi']\n"
     ]
    }
   ],
   "source": [
    "my_list = [\"Main Hoon Na\",\"Singham\",\"Mohobatein\",\"Singham\",\"Mujhse Shadi Karogi\"]\n",
    "name = input(\"Enter a Moviename:\")\n",
    "\n",
    "while name in my_list:\n",
    "    my_list.remove(name)\n",
    "\n",
    "print(my_list) "
   ]
  },
  {
   "cell_type": "markdown",
   "metadata": {},
   "source": [
    "12. Implement a code to find the second largest number in a given list of integers."
   ]
  },
  {
   "cell_type": "code",
   "execution_count": 97,
   "metadata": {},
   "outputs": [
    {
     "name": "stdout",
     "output_type": "stream",
     "text": [
      "8\n"
     ]
    }
   ],
   "source": [
    "list = [\"5\",\"9\",\"3\",\"2\",\"4\",\"7\",\"1\",\"8\"]\n",
    "list.sort()\n",
    "print(list[-2])"
   ]
  },
  {
   "cell_type": "markdown",
   "metadata": {},
   "source": [
    "13. Create a code to count the occurrences of each element in a list and return a dictionary with elements as keys and their counts as values."
   ]
  },
  {
   "cell_type": "code",
   "execution_count": 100,
   "metadata": {},
   "outputs": [
    {
     "name": "stdout",
     "output_type": "stream",
     "text": [
      "Your List ['1', '1', '2', '2', '1', '1', '3', '3', '3', '4', '4', '4', '']\n",
      "Your Dictionary {'1': 4, '2': 2, '3': 3, '4': 3, '': 1}\n"
     ]
    }
   ],
   "source": [
    "my_list = []\n",
    "my_list = input(\"Enter Your List\").split(\",\")\n",
    "count_Dict = {}\n",
    "\n",
    "for element in my_list:\n",
    "    if element in count_Dict:\n",
    "        count_Dict[element] += 1\n",
    "    else:\n",
    "        count_Dict[element] = 1\n",
    "\n",
    "\n",
    "print(\"Your List\",my_list)\n",
    "print(\"Your Dictionary\", count_Dict)"
   ]
  },
  {
   "cell_type": "markdown",
   "metadata": {},
   "source": [
    "14. Write a code to reverse a list in-place without using any built-in reverse functions."
   ]
  },
  {
   "cell_type": "code",
   "execution_count": 101,
   "metadata": {},
   "outputs": [
    {
     "data": {
      "text/plain": [
       "['Mujhse Shadi Karogi', 'Singham', 'Mohobatein', 'Main Hoon Na']"
      ]
     },
     "execution_count": 101,
     "metadata": {},
     "output_type": "execute_result"
    }
   ],
   "source": [
    "my_list = [\"Main Hoon Na\",\"Mohobatein\",\"Singham\",\"Mujhse Shadi Karogi\"]\n",
    "my_list[::-1]"
   ]
  },
  {
   "cell_type": "markdown",
   "metadata": {},
   "source": [
    "15. Implement a code to find and remove duplicates from a list while preserving the original order of elements."
   ]
  },
  {
   "cell_type": "code",
   "execution_count": 103,
   "metadata": {},
   "outputs": [
    {
     "name": "stdout",
     "output_type": "stream",
     "text": [
      "Your List:- ['1', '2', '3', '1', '1', '1', '4', '1', '4', '1', '4', '5']\n",
      "Your UniqueList:- ['1', '2', '3', '4', '5']\n"
     ]
    }
   ],
   "source": [
    "my_list = []\n",
    "my_list = input(\"Enter Your List:\").split(\",\")\n",
    "unique_list = []\n",
    "\n",
    "for i in my_list:\n",
    "    if i not in unique_list:\n",
    "        unique_list.append(i)\n",
    "\n",
    "print(\"Your List:-\", my_list)\n",
    "print(\"Your UniqueList:-\", unique_list)\n",
    "\n"
   ]
  },
  {
   "cell_type": "markdown",
   "metadata": {},
   "source": [
    "16. Create a code to check if a given list is sorted (either in ascending or descending order) or not."
   ]
  },
  {
   "cell_type": "code",
   "execution_count": 104,
   "metadata": {},
   "outputs": [
    {
     "name": "stdout",
     "output_type": "stream",
     "text": [
      "Your list:- [2, 1, 4, 3, 6, 7, 5, 8]\n",
      "False\n"
     ]
    }
   ],
   "source": [
    "my_list = [2,1,4,3,6,7,5,8]\n",
    "print(\"Your list:-\",my_list)   \n",
    "print(my_list == sorted(my_list) or my_list == sorted(my_list, reverse=True))"
   ]
  },
  {
   "cell_type": "markdown",
   "metadata": {},
   "source": [
    "17. Write a code to merge two sorted lists into a single sorted list."
   ]
  },
  {
   "cell_type": "code",
   "execution_count": 105,
   "metadata": {},
   "outputs": [
    {
     "name": "stdout",
     "output_type": "stream",
     "text": [
      "[1, 2, 3, 4, 5, 6, 7, 8]\n"
     ]
    }
   ],
   "source": [
    "list1 = [1, 3, 5, 7]\n",
    "list2 = [2, 4, 6, 8]\n",
    "\n",
    "result = []\n",
    "i = j = 0\n",
    "\n",
    "while i < len(list1) and j < len(list2):\n",
    "    if list1[i] < list2[j]:\n",
    "        result.append(list1[i])\n",
    "        i += 1\n",
    "    else:\n",
    "        result.append(list2[j])\n",
    "        j += 1\n",
    "\n",
    "result += list1[i:]\n",
    "result += list2[j:]\n",
    "\n",
    "print(result) "
   ]
  },
  {
   "cell_type": "markdown",
   "metadata": {},
   "source": [
    "18. Implement a code to find the intersection of two given lists."
   ]
  },
  {
   "cell_type": "code",
   "execution_count": 107,
   "metadata": {},
   "outputs": [
    {
     "name": "stdout",
     "output_type": "stream",
     "text": [
      "Your List1:- ['1', '2', '3', '4', '5', '6']\n",
      "Your List2:- ['3', '4', '5', '6', '7', '8']\n",
      "your intersected list:- ['3', '4', '5', '6']\n"
     ]
    }
   ],
   "source": [
    "list1 = []\n",
    "list1 = input(\"Enter Your String\").split(\",\")\n",
    "list2 = []\n",
    "list2 = input(\"Enter Your String\").split(\",\")\n",
    "intersection = []\n",
    "for i in list1:\n",
    "    if i in list2: \n",
    "        intersection.append(i)\n",
    "print(\"Your List1:-\", list1)\n",
    "print(\"Your List2:-\", list2)        \n",
    "print(\"your intersected list:-\",intersection)    "
   ]
  },
  {
   "cell_type": "markdown",
   "metadata": {},
   "source": [
    "19. Create a code to find the union of two lists without duplicates."
   ]
  },
  {
   "cell_type": "code",
   "execution_count": 108,
   "metadata": {},
   "outputs": [
    {
     "name": "stdout",
     "output_type": "stream",
     "text": [
      "Your List1:- ['1', '2', '3', '4', '5']\n",
      "Your List2:- ['6', '7', '8', '9']\n",
      "your Union list:- ['1', '2', '3', '4', '5', '6', '7', '8', '9']\n"
     ]
    }
   ],
   "source": [
    "list1 = []\n",
    "list1 = input(\"Enter Your String\").split(\",\")\n",
    "list2 = []\n",
    "list2 = input(\"Enter Your String\").split(\",\")\n",
    "union = []\n",
    "for i in list1:\n",
    "    if i not in union:\n",
    "        union.append(i)\n",
    "        \n",
    "for i in list2:\n",
    "    if i not in union:\n",
    "        union.append(i)\n",
    "print(\"Your List1:-\", list1)\n",
    "print(\"Your List2:-\", list2)        \n",
    "print(\"your Union list:-\",union) "
   ]
  },
  {
   "cell_type": "markdown",
   "metadata": {},
   "source": [
    "20. Write a code to shuffle a given list randomly without using any built-in shuffle functions."
   ]
  },
  {
   "cell_type": "code",
   "execution_count": 109,
   "metadata": {},
   "outputs": [
    {
     "name": "stdout",
     "output_type": "stream",
     "text": [
      "[2, 4, 3, 6, 1, 4, 5]\n"
     ]
    }
   ],
   "source": [
    "list1 = [1,3,5,2,4,6,4]\n",
    "\n",
    "n = len(list1)\n",
    "for i in range(n):\n",
    "    j = (i + (n - i) // 2) % n  \n",
    "    list1[i], list1[j] = list1[j], list1[i] \n",
    "print(list1)  "
   ]
  },
  {
   "cell_type": "markdown",
   "metadata": {},
   "source": [
    "21. Write a code that takes two tuples as input and returns a new tuple containing elements that are common to both input tuples."
   ]
  },
  {
   "cell_type": "code",
   "execution_count": 110,
   "metadata": {},
   "outputs": [
    {
     "name": "stdout",
     "output_type": "stream",
     "text": [
      "Your Tuple1:- ['1', '2', '3', '4', '5', '6']\n",
      "Your Tuple2:- ['4', '5', '6', '7', '8', '9']\n",
      "Your Common_Tuple:- ('4', '5', '6')\n"
     ]
    }
   ],
   "source": [
    "tuple1 = ()\n",
    "tuple1 = input(\"Enter Your Tuple1\").split(\",\")\n",
    "tuple2 = ()\n",
    "tuple2 = input(\"Enter Your Tuple2\").split(\",\")\n",
    "common_tuple = ()\n",
    "for i in tuple1:\n",
    "    if i in tuple2:\n",
    "        common_tuple += (i,)\n",
    "\n",
    "print(\"Your Tuple1:-\",tuple1)\n",
    "print(\"Your Tuple2:-\",tuple2)\n",
    "print(\"Your Common_Tuple:-\",common_tuple)"
   ]
  },
  {
   "cell_type": "markdown",
   "metadata": {},
   "source": [
    "22. Create a code that prompts the user to enter two sets of integers separated by commas. Then, print the intersection of these two sets."
   ]
  },
  {
   "cell_type": "code",
   "execution_count": 116,
   "metadata": {},
   "outputs": [
    {
     "name": "stdout",
     "output_type": "stream",
     "text": [
      "Your Set11:- ['1', '2', '3', '4', '5', '6']\n",
      "Your Set12:- ['3', '4', '5', '6', '7', '8', '9']\n",
      "Your Intersection:- ['3', '4', '5', '6']\n"
     ]
    }
   ],
   "source": [
    "set1_input = input(\"Enter Your Set_String:\")\n",
    "set2_input = input(\"Enter Your Set_String:\")\n",
    "set1 = set1_input.split(\",\")\n",
    "set2 = set2_input.split(\",\")\n",
    "intersection = []\n",
    "for i in set1:\n",
    "    if i in set2:\n",
    "        intersection.append(i)\n",
    "print(\"Your Set11:-\",set1)\n",
    "print(\"Your Set12:-\",set2)\n",
    "print(\"Your Intersection:-\",intersection)\n"
   ]
  },
  {
   "cell_type": "markdown",
   "metadata": {},
   "source": [
    "23. Write a code to concatenate two tuples. The function should take two tuples as input and return a new tuple containing elements from both input tuples."
   ]
  },
  {
   "cell_type": "code",
   "execution_count": 117,
   "metadata": {},
   "outputs": [
    {
     "name": "stdout",
     "output_type": "stream",
     "text": [
      "your tuple1:- abhi,krupali\n",
      "your tuple2:- abhi,krupali\n",
      "your tuple:- abhi,krupali,abhi,krupali\n"
     ]
    }
   ],
   "source": [
    "tuple1 = {}\n",
    "tuple1 = input(\"Enter Your tuple1\")\n",
    "tuple2 = {}\n",
    "tuple2 = input(\"Enter Your tuple2\")\n",
    "tuple = tuple1 + \",\" + tuple2\n",
    "print(\"your tuple1:-\", tuple1)\n",
    "print(\"your tuple2:-\", tuple2)\n",
    "print(\"your tuple:-\", tuple)\n"
   ]
  },
  {
   "cell_type": "markdown",
   "metadata": {},
   "source": [
    "24. Develop a code that prompts the user to input two sets of strings. Then, print the elements that are present in the first set but not in the second set."
   ]
  },
  {
   "cell_type": "code",
   "execution_count": 119,
   "metadata": {},
   "outputs": [
    {
     "name": "stdout",
     "output_type": "stream",
     "text": [
      "your set1:- ['abhi', 'krupali', 'parth', 'romil']\n",
      "your set2:- ['parth', 'romil']\n",
      "your difference:- ['abhi', 'krupali']\n"
     ]
    }
   ],
   "source": [
    "set1_input = input(\"Enter Your Set_String:\")\n",
    "set2_input = input(\"Enter Your Set_String:\")\n",
    "set1 = set1_input.split(\",\")\n",
    "set2 = set2_input.split(\",\")\n",
    "difference = []\n",
    "for i in set1:\n",
    "    if i not in set2:\n",
    "        difference.append(i)\n",
    "\n",
    "print(\"your set1:-\", set1)\n",
    "print(\"your set2:-\", set2)\n",
    "print(\"your difference:-\",difference)"
   ]
  },
  {
   "cell_type": "markdown",
   "metadata": {},
   "source": [
    "25. Create a code that takes a tuple and two integers as input. The function should return a new tuple containing elements from the original tuple within the specified range of indices."
   ]
  },
  {
   "cell_type": "code",
   "execution_count": 121,
   "metadata": {},
   "outputs": [
    {
     "name": "stdout",
     "output_type": "stream",
     "text": [
      "Your Tuple:- ['1', '2', '3', '4', '5', '6', '7', '8', '9']\n",
      "Your Integer1:- 2\n",
      "Your Integer2:- 84\n",
      "Your Result:- ['3', '4', '5', '6', '7', '8', '9']\n"
     ]
    }
   ],
   "source": [
    "tuple = input(\"Enter Your Tuple:-\").split(\",\")\n",
    "int1 = int(input(\"Enter Your Integer1:\"))\n",
    "int2 = int(input(\"Enter Your Integer2:\"))\n",
    "print(\"Your Tuple:-\", tuple)\n",
    "print(\"Your Integer1:-\", int1)\n",
    "print(\"Your Integer2:-\", int2)\n",
    "result = tuple[int1:int2]\n",
    "print(\"Your Result:-\", result)"
   ]
  },
  {
   "cell_type": "markdown",
   "metadata": {},
   "source": [
    "26. Write a code that prompts the user to input two sets of characters. Then, print the union of these two sets."
   ]
  },
  {
   "cell_type": "code",
   "execution_count": 123,
   "metadata": {},
   "outputs": [
    {
     "name": "stdout",
     "output_type": "stream",
     "text": [
      "Your Set1:- ['1', '2', '3', '4']\n",
      "Your Set2:- ['5', '6', '7', '8', '9']\n",
      "['1', '2', '3', '4', '5', '6', '7', '8', '9']\n"
     ]
    }
   ],
   "source": [
    "set1 = {}\n",
    "set1 = input(\"Enter Your Set1\").split(\",\")\n",
    "set2 = {}\n",
    "set2 = input(\"Enter Your Set2\").split(\",\")\n",
    "print(\"Your Set1:-\", set1)\n",
    "print(\"Your Set2:-\", set2)\n",
    "union = []\n",
    "for i in set1:\n",
    "    if i not in union:\n",
    "        union.append(i)\n",
    "\n",
    "for i in set2:\n",
    "    if i not in union:\n",
    "        union.append(i)\n",
    "\n",
    "print(union)"
   ]
  },
  {
   "cell_type": "markdown",
   "metadata": {},
   "source": [
    "27. Develop a code that takes a tuple of integers as input. The function should return the maximum and minimum values from the tuple using tuple unpacing."
   ]
  },
  {
   "cell_type": "code",
   "execution_count": 125,
   "metadata": {},
   "outputs": [
    {
     "name": "stdout",
     "output_type": "stream",
     "text": [
      "Your Tuple:- ['1', '2', '3', '4', '5', '6', '7', '8', '9']\n",
      "Your Max Tuple:- 9\n",
      "Your Min Tuple:- 1\n"
     ]
    }
   ],
   "source": [
    "tuple_input = input(\"Enter Your Tuple\").split(\",\")\n",
    "print(\"Your Tuple:-\", tuple_input)\n",
    "max_tuple = max(tuple_input)\n",
    "print(\"Your Max Tuple:-\",max_tuple)\n",
    "min_tuple = min(tuple_input)\n",
    "print(\"Your Min Tuple:-\",min_tuple)"
   ]
  },
  {
   "cell_type": "markdown",
   "metadata": {},
   "source": [
    "28. Create a code that defines two sets of integers. Then, print the union, intersection, and difference of these two sets."
   ]
  },
  {
   "cell_type": "code",
   "execution_count": 127,
   "metadata": {},
   "outputs": [
    {
     "name": "stdout",
     "output_type": "stream",
     "text": [
      "your set1:- ['1', '2', '3', '4', '5', '6', '7', '8', '9']\n",
      "your set2:- ['3', '4', '5', '6']\n",
      "your Union:- ['1', '2', '3', '4', '5', '6', '7', '8', '9']\n",
      "your Intersection:- ['3', '4', '5', '6']\n",
      "your Difference:- ['1', '2', '7', '8', '9']\n"
     ]
    }
   ],
   "source": [
    "set1 = input(\"Enter Your Set_String:\").split(\",\")\n",
    "set2 = input(\"Enter Your Set_String:\").split(\",\")\n",
    "union = []\n",
    "for i in set1:\n",
    "    if i not in union:\n",
    "        union.append(i)\n",
    "\n",
    "for i in set2:\n",
    "    if i not in union:\n",
    "        union.append(i)\n",
    "\n",
    "intersection = []\n",
    "for i in set1:\n",
    "    if i in set2:\n",
    "        intersection.append(i)\n",
    "\n",
    "difference = []\n",
    "for i in set1:\n",
    "    if i not in set2:\n",
    "        difference.append(i)\n",
    "\n",
    "print(\"your set1:-\", set1)\n",
    "print(\"your set2:-\", set2)\n",
    "print(\"your Union:-\", union)\n",
    "print(\"your Intersection:-\", intersection)\n",
    "print(\"your Difference:-\", difference)\n"
   ]
  },
  {
   "cell_type": "markdown",
   "metadata": {},
   "source": [
    "29. Write a code that takes a tuple and an element as input. The function should return the count ofoccurrences of the given element in the tuple."
   ]
  },
  {
   "cell_type": "code",
   "execution_count": 138,
   "metadata": {},
   "outputs": [
    {
     "name": "stdout",
     "output_type": "stream",
     "text": [
      "Your Tuple:- 112345687411147\n",
      "5\n"
     ]
    }
   ],
   "source": [
    "tuple_input = input(\"Enter Your Tuple\")\n",
    "element = input(\"Enter Your Element:\")\n",
    "t1 = tuple_input.count(element)\n",
    "print(\"Your Tuple:-\", tuple_input)\n",
    "print(t1)"
   ]
  },
  {
   "cell_type": "markdown",
   "metadata": {},
   "source": [
    "30. Develop a code that prompts the user to input two sets of strings. Then, print the symmetric difference of these two sets."
   ]
  },
  {
   "cell_type": "code",
   "execution_count": 140,
   "metadata": {},
   "outputs": [
    {
     "name": "stdout",
     "output_type": "stream",
     "text": [
      "your set1:- ['1', '2', '3', '4', '5', '6']\n",
      "your set2:- ['3', '4', '5', '6']\n",
      "Your Set ['1', '2']\n"
     ]
    }
   ],
   "source": [
    "set1_input = input(\"Enter Your Set_String:\")\n",
    "set2_input = input(\"Enter Your Set_String:\")\n",
    "set1 = set1_input.split(\",\")\n",
    "set2 = set2_input.split(\",\")\n",
    "set = []\n",
    "for i in set1_input:\n",
    "    if i not in set2_input:\n",
    "        set.append(i)\n",
    "\n",
    "for i in set2_input:\n",
    "    if i not in set1_input:\n",
    "        set.append(i)        \n",
    "    \n",
    "print(\"your set1:-\", set1)\n",
    "print(\"your set2:-\", set2)\n",
    "print(\"Your Set\", set)"
   ]
  },
  {
   "cell_type": "markdown",
   "metadata": {},
   "source": [
    "31. Write a code that takes a list of words as input and returns a dictionary where the keys are unique words and the values are the frequencies of those words in the input list."
   ]
  },
  {
   "cell_type": "code",
   "execution_count": 141,
   "metadata": {},
   "outputs": [
    {
     "name": "stdout",
     "output_type": "stream",
     "text": [
      "Enter Your List:- [\"'abhi'\", \" 'romil'\", \" 'harsh'\", \" 'aayush'\", \" 'abhi'\", \" 'parth'\", \" 'abhi'\", \" 'romil'\", \" 'parth'\"]\n",
      "{\"'abhi'\": 1, \" 'romil'\": 2, \" 'harsh'\": 1, \" 'aayush'\": 1, \" 'abhi'\": 2, \" 'parth'\": 2}\n"
     ]
    }
   ],
   "source": [
    "list = []\n",
    "list = input(\"Please enter: \").split(\",\")\n",
    "dict = {}\n",
    "for i in list:\n",
    "    if i in dict:\n",
    "        dict[i] += 1\n",
    "    else:\n",
    "        dict[i] = 1  \n",
    "print(\"Enter Your List:-\", list)\n",
    "print(dict)          "
   ]
  },
  {
   "cell_type": "markdown",
   "metadata": {},
   "source": [
    "32. Write a code that takes two dictionaries as input and merges them into a single dictionary. If there are common keys, the values should be added together."
   ]
  },
  {
   "cell_type": "code",
   "execution_count": 143,
   "metadata": {},
   "outputs": [
    {
     "name": "stdout",
     "output_type": "stream",
     "text": [
      "Your Dict1:- {'name': ['Abhi', 'Parth'], 'age': ['22', '26']}\n",
      "Your Dict2:- {'name': ['Parth'], 'age': ['26']}\n",
      "Your Dict:- {'name': ['Abhi', 'Parth'], 'age': ['22', '26']}\n"
     ]
    }
   ],
   "source": [
    "name1 = input(\"Enter Your Name1:\").split(\",\")\n",
    "name2 = input(\"Enter Your Name2:\").split(\",\")\n",
    "age1 = input(\"Enter Your Age1:\").split(\",\")\n",
    "age2 = input(\"Enter Your Age2:\").split(\",\")\n",
    "my_dict1 = {\"name\":name1,\"age\":age1}\n",
    "my_dict2 = {\"name\":name2,\"age\":age2}\n",
    "dict = {}\n",
    "\n",
    "for key,value in my_dict1.items():\n",
    "        dict[key] = value        \n",
    "for key,value in my_dict2.items():\n",
    "        if key in dict:\n",
    "                dict[key] += value\n",
    "        else:\n",
    "                dict[key] = value        \n",
    "\n",
    "print(\"Your Dict1:-\",my_dict1)\n",
    "print(\"Your Dict2:-\",my_dict2)\n",
    "print(\"Your Dict:-\",dict)"
   ]
  },
  {
   "cell_type": "markdown",
   "metadata": {},
   "source": [
    "33. Write a code to access a value in a nested dictionary. The function should take the dictionary and a list of keys as input, and return the corresponding value. If any of the keys do not exist in the dictionary, the function should return None."
   ]
  },
  {
   "cell_type": "code",
   "execution_count": 144,
   "metadata": {},
   "outputs": [
    {
     "name": "stdout",
     "output_type": "stream",
     "text": [
      "Your Result:- Abhi\n"
     ]
    }
   ],
   "source": [
    "my_dict = {\"a\":{\"b\":{\"c\":{\"d\":\"Abhi\"}}}}\n",
    "keys = ['a','b','c','d']\n",
    "result = my_dict.get(keys[0], {}).get(keys[1], {}).get(keys[2], {}).get(keys[3], None)\n",
    "print(\"Your Result:-\", result)"
   ]
  },
  {
   "cell_type": "markdown",
   "metadata": {},
   "source": [
    "34. Write a code that takes a dictionary as input and returns a sorted version of it based on the values. You can choose whether to sort in ascending or descending order."
   ]
  },
  {
   "cell_type": "code",
   "execution_count": 145,
   "metadata": {},
   "outputs": [
    {
     "name": "stdout",
     "output_type": "stream",
     "text": [
      "Your Dict1:- {'name1': 'Abhi', 'name2': 'Krupali', 'name3': 'Radha', 'name4': 'Krishna'}\n",
      "Your Sorted Dict:- ['Abhi', 'Krishna', 'Krupali', 'Radha']\n"
     ]
    }
   ],
   "source": [
    "a = input(\"Enter Your Name1:\")\n",
    "b = input(\"Enter Your Name2:\")\n",
    "c = input(\"Enter Your Name3:\")\n",
    "d = input(\"Enter Your Name4:\")\n",
    "my_dict1 = {\"name1\":a,\"name2\":b,\"name3\":c,\"name4\":d}\n",
    "my_dict = sorted(my_dict1.values())\n",
    "print(\"Your Dict1:-\",my_dict1)\n",
    "print(\"Your Sorted Dict:-\", my_dict)"
   ]
  },
  {
   "cell_type": "markdown",
   "metadata": {},
   "source": [
    "35. Write a code that inverts a dictionary, swapping keys and values. Ensure that the inverted dictionary correctly handles cases where multiple keys have the same value by storing the keys as a list in the inverted dictionary."
   ]
  },
  {
   "cell_type": "code",
   "execution_count": 155,
   "metadata": {},
   "outputs": [
    {
     "name": "stdout",
     "output_type": "stream",
     "text": [
      "Your Dictionary:- {'a': '1', 'b': '2', 'c': '3', 'd': '4'}\n",
      "Your Swapped Dict:- {'1': ['a'], '2': ['b'], '3': ['c'], '4': ['d']}\n"
     ]
    }
   ],
   "source": [
    "a = input(\"Enter Your Value1:\")\n",
    "b = input(\"Enter Your Value2:\")\n",
    "c = input(\"Enter Your Value1:\")\n",
    "d = input(\"Enter Your Value2:\")\n",
    "my_dict1 = {\"a\":a, \"b\":b, \"c\":c, \"d\":d}\n",
    "swap_dict = {}\n",
    "for k,v in my_dict1.items():\n",
    "    if v not in swap_dict:\n",
    "        swap_dict[v] = [k]\n",
    "    else:\n",
    "        swap_dict[v].append(k)\n",
    "\n",
    "print(\"Your Dictionary:-\", my_dict1)\n",
    "print(\"Your Swapped Dict:-\", swap_dict)\n"
   ]
  }
 ],
 "metadata": {
  "kernelspec": {
   "display_name": "base",
   "language": "python",
   "name": "python3"
  },
  "language_info": {
   "codemirror_mode": {
    "name": "ipython",
    "version": 3
   },
   "file_extension": ".py",
   "mimetype": "text/x-python",
   "name": "python",
   "nbconvert_exporter": "python",
   "pygments_lexer": "ipython3",
   "version": "3.11.7"
  }
 },
 "nbformat": 4,
 "nbformat_minor": 2
}
