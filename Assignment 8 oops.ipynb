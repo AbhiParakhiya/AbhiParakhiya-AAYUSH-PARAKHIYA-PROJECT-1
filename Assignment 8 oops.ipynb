{
 "cells": [
  {
   "cell_type": "markdown",
   "metadata": {},
   "source": [
    "1. What are the five key concepts of Object-Oriented Programming (OOP)?"
   ]
  },
  {
   "cell_type": "markdown",
   "metadata": {},
   "source": [
    "The five key concepts of Object-Oriented Programming (OOP) are:\n",
    "\n",
    "1. Encapsulation: Hiding internal implementation details and exposing only necessary information to the outside world.\n",
    "\n",
    "2. Abstraction: Focusing on essential features and hiding non-essential details.\n",
    "\n",
    "3. Inheritance: Creating a new class based on an existing class, inheriting its properties and behavior.\n",
    "\n",
    "4. Polymorphism: Allowing objects of different classes to be treated as objects of a common superclass.\n",
    "\n",
    "5. Composition: Creating objects from other objects or collections of objects.\n",
    "\n",
    "These five concepts form the foundation of object-oriented programming and are used to create robust, modular, and maintainable software systems.\n",
    "\n"
   ]
  },
  {
   "cell_type": "markdown",
   "metadata": {},
   "source": [
    "2. Write a Python class for a 'Car with attributes for 'make', 'model, and year. Include a method to display the car's information."
   ]
  },
  {
   "cell_type": "markdown",
   "metadata": {},
   "source": [
    "Here's an example of a Python class for a 'Car' with attributes for 'make', 'model', and 'year', along with a method to display the car's information:"
   ]
  },
  {
   "cell_type": "code",
   "execution_count": null,
   "metadata": {},
   "outputs": [],
   "source": [
    "class Car:\n",
    "    def __init__(self, make, model, year):\n",
    "        self.make = make\n",
    "        self.model = model\n",
    "        self.year = year\n",
    "\n",
    "    def display_info(self):\n",
    "        print(f\"Make: {self.make}, Model: {self.model}, Year: {self.year}\")\n",
    "\n",
    "# Create an instance of the Car class\n",
    "my_car = Car(\"Toyota\", \"Corolla\", 2020)\n",
    "\n",
    "# Call the display_info method to print the car's information\n",
    "my_car.display_info()\n",
    "# This will output:\n",
    "\n",
    "# Make: Toyota, Model: Corolla, Year: 2020"
   ]
  },
  {
   "cell_type": "markdown",
   "metadata": {},
   "source": [
    "\n",
    "The __init__ method is a special method in Python that is called when an object is created from a class. It is used to initialize the attributes of the class. In this case, we are initializing the make, model, and year attributes.\n",
    "\n",
    "The display_info method is a regular method that takes no arguments (except for the implicit self argument, which refers to the instance of the class). It prints out the car's information in a formatted string using f-strings.\n",
    "\n",
    "You can create multiple instances of the Car class and call the display_info method on each instance to print out their respective information."
   ]
  },
  {
   "cell_type": "markdown",
   "metadata": {},
   "source": [
    "3. Explain the difference between instance methods and class methods. Provide an example of each."
   ]
  },
  {
   "cell_type": "markdown",
   "metadata": {},
   "source": [
    "# Instance Methods vs Class Methods\n",
    "\n",
    "In object-oriented programming, methods can be categorized into two types: instance methods and class methods.\n",
    "\n",
    "* Instance Methods\n",
    "\n",
    "Instance methods are methods that belong to an instance of a class. They operate on the instance's attributes and are used to perform actions specific to that instance. Instance methods are bound to the instance and have access to its attributes.\n",
    "\n",
    "Example of an Instance Method:"
   ]
  },
  {
   "cell_type": "code",
   "execution_count": null,
   "metadata": {},
   "outputs": [],
   "source": [
    "class Dog:\n",
    "    def __init__(self, name, age):\n",
    "        self.name = name\n",
    "        self.age = age\n",
    "\n",
    "    def bark(self):\n",
    "        print(f\"{self.name} says: Woof!\")\n",
    "\n",
    "my_dog = Dog(\"Fido\", 3)\n",
    "my_dog.bark()  # Output: Fido says: Woof!\n"
   ]
  },
  {
   "cell_type": "markdown",
   "metadata": {},
   "source": [
    "In this example, bark is an instance method that belongs to the Dog class. It operates on the instance's name attribute and prints out a message specific to that instance."
   ]
  },
  {
   "cell_type": "markdown",
   "metadata": {},
   "source": [
    "* Class Methods\n",
    "\n",
    "Class methods, on the other hand, belong to the class itself, rather than an instance of the class. They are used to perform actions related to the class as a whole, rather than a specific instance. Class methods are bound to the class and have access to the class's attributes.\n",
    "\n",
    "Example of a Class Method:"
   ]
  },
  {
   "cell_type": "code",
   "execution_count": null,
   "metadata": {},
   "outputs": [],
   "source": [
    "class Dog:\n",
    "    species = \"Canis lupus familiaris\"\n",
    "\n",
    "    @classmethod\n",
    "    def get_species(cls):\n",
    "        return cls.species\n",
    "\n",
    "print(Dog.get_species())  # Output: Canis lupus familiaris"
   ]
  },
  {
   "cell_type": "markdown",
   "metadata": {},
   "source": [
    "In this example, get_species is a class method that belongs to the Dog class. It operates on the class's species attribute and returns its value. Note the use of the @classmethod decorator to indicate that this is a class method.\n",
    "\n",
    "Key differences between instance methods and class methods:\n",
    "\n",
    "1. Instance methods operate on instance attributes, while class methods operate on class attributes.\n",
    "2. Instance methods are bound to an instance, while class methods are bound to the class.\n",
    "3. Instance methods are used to perform actions specific to an instance, while class methods are used to perform actions related to the class as a whole."
   ]
  },
  {
   "cell_type": "markdown",
   "metadata": {},
   "source": [
    "4. How does Python implement method overloading? Give an example."
   ]
  },
  {
   "cell_type": "markdown",
   "metadata": {},
   "source": [
    "* Method Overloading in Python\n",
    "\n",
    "Python does not support method overloading in the classical sense, unlike languages like Java or C++. In Python, you cannot define multiple methods with the same name but different parameters.\n",
    "\n",
    "However, Python provides a way to achieve similar functionality using optional arguments and the *args and **kwargs syntax.\n",
    "\n",
    "Example:"
   ]
  },
  {
   "cell_type": "code",
   "execution_count": null,
   "metadata": {},
   "outputs": [],
   "source": [
    "class Calculator:\n",
    "    def calculate(self, a, b, operation='add'):\n",
    "        if operation == 'add':\n",
    "            return a + b\n",
    "        elif operation == 'subtract':\n",
    "            return a - b\n",
    "        elif operation == 'multiply':\n",
    "            return a * b\n",
    "        elif operation == 'divide':\n",
    "            if b != 0:\n",
    "                return a / b\n",
    "            else:\n",
    "                raise ValueError(\"Cannot divide by zero!\")\n",
    "\n",
    "calculator = Calculator()\n",
    "print(calculator.calculate(2, 3))  # Output: 5 (default operation is 'add')\n",
    "print(calculator.calculate(2, 3, 'subtract'))  # Output: -1\n",
    "print(calculator.calculate(2, 3, 'multiply'))  # Output: 6\n",
    "print(calculator.calculate(2, 3, 'divide'))  # Output: 0.6666666666666666\n"
   ]
  },
  {
   "cell_type": "markdown",
   "metadata": {},
   "source": [
    "In this example, the calculate method takes an optional operation parameter, which defaults to 'add'. Depending on the value of operation, the method performs different calculations.\n",
    "\n",
    "While this is not true method overloading, it allows you to achieve similar flexibility in your code. By using optional arguments and clever logic, you can create methods that can adapt to different scenarios.\n",
    "\n",
    "Note that Python's dynamic typing and flexible argument syntax make it easier to implement this kind of functionality, even if it's not traditional method overloading"
   ]
  },
  {
   "cell_type": "markdown",
   "metadata": {},
   "source": [
    "5. What are the three types of access modifiers in Python? How are they denoted?"
   ]
  },
  {
   "cell_type": "markdown",
   "metadata": {},
   "source": [
    "Access Modifiers in Python\n",
    "\n",
    "In Python, access modifiers are used to control access to classes, objects, and their attributes. There are three types of access modifiers in Python:\n",
    "\n",
    "1. Public Access Modifier\n",
    "\n",
    "In Python, all attributes and methods are public by default. This means they can be accessed from anywhere in the program. Public attributes and methods do not have any special notation.\n",
    "\n",
    "Example:"
   ]
  },
  {
   "cell_type": "code",
   "execution_count": null,
   "metadata": {},
   "outputs": [],
   "source": [
    "class MyClass:\n",
    "    def __init__(self):\n",
    "        self.public_attribute = \"This is a public attribute\"\n",
    "\n",
    "    def public_method(self):\n",
    "        print(\"This is a public method\")\n",
    "\n",
    "my_object = MyClass()\n",
    "print(my_object.public_attribute)  # Output: This is a public attribute\n",
    "my_object.public_method()  # Output: This is a public method"
   ]
  },
  {
   "cell_type": "markdown",
   "metadata": {},
   "source": [
    "2. Protected Access Modifier\n",
    "\n",
    "Protected attributes and methods are denoted by a single underscore (_) prefix. They are intended to be used internally by the class and its subclasses, but not by external users.\n",
    "\n",
    "Example:"
   ]
  },
  {
   "cell_type": "code",
   "execution_count": null,
   "metadata": {},
   "outputs": [],
   "source": [
    "class MyClass:\n",
    "    def __init__(self):\n",
    "        self._protected_attribute = \"This is a protected attribute\"\n",
    "\n",
    "    def _protected_method(self):\n",
    "        print(\"This is a protected method\")\n",
    "\n",
    "my_object = MyClass()\n",
    "print(my_object._protected_attribute)  # Output: This is a protected attribute\n",
    "my_object._protected_method()  # Output: This is a protected method"
   ]
  },
  {
   "cell_type": "markdown",
   "metadata": {},
   "source": [
    "Note that Python does not enforce protected access strictly, and these attributes and methods can still be accessed from outside the class. However, the underscore prefix serves as a convention to indicate that they are intended for internal use."
   ]
  },
  {
   "cell_type": "markdown",
   "metadata": {},
   "source": [
    "3. Private Access Modifier\n",
    "\n",
    "Private attributes and methods are denoted by a double underscore (__) prefix. They are intended to be used internally by the class only, and are not accessible from outside the class.\n",
    "\n",
    "Example:\n"
   ]
  },
  {
   "cell_type": "code",
   "execution_count": null,
   "metadata": {},
   "outputs": [],
   "source": [
    "class MyClass:\n",
    "    def __init__(self):\n",
    "        self.__private_attribute = \"This is a private attribute\"\n",
    "\n",
    "    def __private_method(self):\n",
    "        print(\"This is a private method\")\n",
    "\n",
    "my_object = MyClass()\n",
    "try:\n",
    "    print(my_object.__private_attribute)  # Raises AttributeError\n",
    "except AttributeError:\n",
    "    print(\"Error: Private attribute is not accessible\")\n",
    "\n",
    "try:\n",
    "    my_object.__private_method()  # Raises AttributeError\n",
    "except AttributeError:\n",
    "    print(\"Error: Private method is not accessible\")\n",
    "\n"
   ]
  },
  {
   "cell_type": "markdown",
   "metadata": {},
   "source": [
    "Note that Python's private access modifier is not strictly enforced, and private attributes and methods can still be accessed using name mangling (e.g., my_object._MyClass__private_attribute). However, this is generally discouraged, as it can lead to unintended consequences.\n",
    "\n",
    "In summary, Python's access modifiers are:\n",
    "\n",
    "1. Public: no special notation\n",
    "\n",
    "2. Protected: single underscore (_) prefix\n",
    "\n",
    "3. Private: double underscore (__) prefix"
   ]
  },
  {
   "cell_type": "markdown",
   "metadata": {},
   "source": [
    "6. Describe the five types of inheritance in Python. Provide a simple example of multiple inheritance."
   ]
  },
  {
   "cell_type": "markdown",
   "metadata": {},
   "source": [
    "# Types of Inheritance in Python\n",
    "\n",
    "In Python, inheritance is a mechanism that allows one class to inherit the attributes and methods of another class. There are five types of inheritance in Python:\n",
    "\n",
    "1. Single Inheritance\n",
    "\n",
    "In single inheritance, a child class inherits from a single parent class.\n",
    "\n",
    "Example:"
   ]
  },
  {
   "cell_type": "code",
   "execution_count": null,
   "metadata": {},
   "outputs": [],
   "source": [
    "class Animal:\n",
    "    def sound(self):\n",
    "        print(\"The animal makes a sound\")\n",
    "\n",
    "class Dog(Animal):\n",
    "    def sound(self):\n",
    "        print(\"The dog barks\")\n",
    "\n",
    "my_dog = Dog()\n",
    "my_dog.sound()  # Output: The dog barks\n"
   ]
  },
  {
   "cell_type": "markdown",
   "metadata": {},
   "source": [
    "2. Multiple Inheritance\n",
    "\n",
    "In multiple inheritance, a child class inherits from multiple parent classes.\n",
    "\n",
    "Example:\n"
   ]
  },
  {
   "cell_type": "code",
   "execution_count": null,
   "metadata": {},
   "outputs": [],
   "source": [
    "class Flyable:\n",
    "    def fly(self):\n",
    "        print(\"I can fly\")\n",
    "\n",
    "class Mammal:\n",
    "    def eat(self):\n",
    "        print(\"I can eat\")\n",
    "\n",
    "class Bat(Flyable, Mammal):\n",
    "    pass\n",
    "\n",
    "my_bat = Bat()\n",
    "my_bat.fly()  # Output: I can fly\n",
    "my_bat.eat()  # Output: I can eat\n"
   ]
  },
  {
   "cell_type": "markdown",
   "metadata": {},
   "source": [
    "In this example, the Bat class inherits from both Flyable and Mammal classes."
   ]
  },
  {
   "cell_type": "markdown",
   "metadata": {},
   "source": [
    "3. Multilevel Inheritance\n",
    "\n",
    "In multilevel inheritance, a child class inherits from a parent class, which itself inherits from another parent class.\n",
    "\n",
    "Example:"
   ]
  },
  {
   "cell_type": "code",
   "execution_count": null,
   "metadata": {},
   "outputs": [],
   "source": [
    "class Animal:\n",
    "    def sound(self):\n",
    "        print(\"The animal makes a sound\")\n",
    "\n",
    "class Mammal(Animal):\n",
    "    def eat(self):\n",
    "        print(\"I can eat\")\n",
    "\n",
    "class Dog(Mammal):\n",
    "    def sound(self):\n",
    "        print(\"The dog barks\")\n",
    "\n",
    "my_dog = Dog()\n",
    "my_dog.sound()  # Output: The dog barks\n",
    "my_dog.eat()  # Output: I can eat\n"
   ]
  },
  {
   "cell_type": "markdown",
   "metadata": {},
   "source": [
    "4. Hierarchical Inheritance\n",
    "\n",
    "In hierarchical inheritance, multiple child classes inherit from a single parent class.\n",
    "\n",
    "Example:"
   ]
  },
  {
   "cell_type": "code",
   "execution_count": null,
   "metadata": {},
   "outputs": [],
   "source": [
    "class Animal:\n",
    "    def sound(self):\n",
    "        print(\"The animal makes a sound\")\n",
    "\n",
    "class Dog(Animal):\n",
    "    def sound(self):\n",
    "        print(\"The dog barks\")\n",
    "\n",
    "class Cat(Animal):\n",
    "    def sound(self):\n",
    "        print(\"The cat meows\")\n",
    "\n",
    "my_dog = Dog()\n",
    "my_dog.sound()  # Output: The dog barks\n",
    "\n",
    "my_cat = Cat()\n",
    "my_cat.sound()  # Output: The cat meows"
   ]
  },
  {
   "cell_type": "markdown",
   "metadata": {},
   "source": [
    "5. Hybrid Inheritance\n",
    "\n",
    "In hybrid inheritance, a combination of multiple inheritance and multilevel inheritance is used.\n",
    "\n",
    "Example:"
   ]
  },
  {
   "cell_type": "code",
   "execution_count": null,
   "metadata": {},
   "outputs": [],
   "source": [
    "class Animal:\n",
    "    def sound(self):\n",
    "        print(\"The animal makes a sound\")\n",
    "\n",
    "class Mammal(Animal):\n",
    "    def eat(self):\n",
    "        print(\"I can eat\")\n",
    "\n",
    "class Flyable:\n",
    "    def fly(self):\n",
    "        print(\"I can fly\")\n",
    "\n",
    "class Bat(Mammal, Flyable):\n",
    "    pass\n",
    "\n",
    "my_bat = Bat()\n",
    "my_bat.sound()  # Output: The animal makes a sound\n",
    "my_bat.eat()  # Output: I can eat\n",
    "my_bat.fly()  # Output: I can fly\n"
   ]
  },
  {
   "cell_type": "markdown",
   "metadata": {},
   "source": [
    "In this example, the Bat class inherits from both Mammal and Flyable classes, and Mammal itself inherits from Animal."
   ]
  },
  {
   "cell_type": "markdown",
   "metadata": {},
   "source": [
    "7. What is the Method Resolution Order (MRO) in Python? How can you retrieve it programmatically?"
   ]
  },
  {
   "cell_type": "markdown",
   "metadata": {},
   "source": [
    "Method Resolution Order (MRO) in Python\n",
    "\n",
    "-> In Python, the Method Resolution Order (MRO) is the order in which Python searches for a method or attribute in a class and its parent classes. It is used to resolve method calls and attribute accesses when multiple inheritance is involved.\n",
    "\n",
    "-> The MRO is a list of classes that are searched in a specific order to find a method or attribute. The order is determined by the C3 linearization algorithm, which ensures that the MRO is consistent and predictable.\n",
    "\n",
    "* Retrieving the MRO Programmatically\n",
    "\n",
    "* You can retrieve the MRO of a class programmatically using the mro() method or the __mro__ attribute.\n",
    "\n",
    "Example:"
   ]
  },
  {
   "cell_type": "code",
   "execution_count": 1,
   "metadata": {},
   "outputs": [
    {
     "name": "stdout",
     "output_type": "stream",
     "text": [
      "[<class '__main__.C'>, <class '__main__.B'>, <class '__main__.A'>, <class 'object'>]\n",
      "(<class '__main__.C'>, <class '__main__.B'>, <class '__main__.A'>, <class 'object'>)\n"
     ]
    }
   ],
   "source": [
    "class A:\n",
    "    pass\n",
    "\n",
    "class B(A):\n",
    "    pass\n",
    "\n",
    "class C(B):\n",
    "    pass\n",
    "\n",
    "print(C.mro())  # Output: [<class '__main__.C'>, <class '__main__.B'>, <class '__main__.A'>, <class 'object'>]\n",
    "\n",
    "print(C.__mro__)  # Output: (<class '__main__.C'>, <class '__main__.B'>, <class '__main__.A'>, <class 'object'>)\n"
   ]
  },
  {
   "cell_type": "markdown",
   "metadata": {},
   "source": [
    "In this example, the mro() method and the __mro__ attribute both return the MRO of the C class, which is [C, B, A, object].\n",
    "\n",
    "Note that the MRO includes the class itself, its parent classes, and the object class, which is the base class of all Python objects.\n",
    "\n",
    "By retrieving the MRO, you can understand the order in which Python searches for methods and attributes in a class and its parent classes, which can be helpful in debugging and understanding complex inheritance relationships."
   ]
  },
  {
   "cell_type": "markdown",
   "metadata": {},
   "source": [
    "8. Create an abstract base class 'Shape with an abstract method area()\". Then create two subclasses Circle and 'Rectangle that implement the area() method."
   ]
  },
  {
   "cell_type": "markdown",
   "metadata": {},
   "source": [
    "Here is an example implementation:"
   ]
  },
  {
   "cell_type": "code",
   "execution_count": null,
   "metadata": {},
   "outputs": [],
   "source": [
    "from abc import ABC, abstractmethod\n",
    "import math\n",
    "\n",
    "Abstractbaseclass: Shape"
   ]
  },
  {
   "cell_type": "code",
   "execution_count": null,
   "metadata": {},
   "outputs": [],
   "source": [
    "class Shape(ABC):\n",
    "    @abstractmethod\n",
    "    def area(self):\n",
    "        pass"
   ]
  },
  {
   "cell_type": "markdown",
   "metadata": {},
   "source": [
    "Subclass Circle"
   ]
  },
  {
   "cell_type": "code",
   "execution_count": null,
   "metadata": {},
   "outputs": [],
   "source": [
    "class Circle(Shape):\n",
    "    def __init__(self, radius):\n",
    "        self.radius = radius\n",
    "\n",
    "    def area(self):\n",
    "        return math.pi * (self.radius ** 2)\n",
    "Subclass Circle"
   ]
  },
  {
   "cell_type": "markdown",
   "metadata": {},
   "source": [
    "Sublass Rectangle\n"
   ]
  },
  {
   "cell_type": "code",
   "execution_count": null,
   "metadata": {},
   "outputs": [],
   "source": [
    "class Rectangle(Shape):\n",
    "    def __init__(self, width, height):\n",
    "        self.width = width\n",
    "        self.height = height\n",
    "\n",
    "    def area(self):\n",
    "        return self.width * self.height"
   ]
  },
  {
   "cell_type": "markdown",
   "metadata": {},
   "source": [
    "Here's a breakdown of the implementation:\n",
    "\n",
    "1. The Shape class is an abstract base class (ABC) that defines an abstract method area(). This method must be implemented by any subclass of Shape.\n",
    "\n",
    "2. The Circle class is a subclass of Shape that implements the area() method. It takes a radius parameter in its constructor and calculates the area using the formula πr^2.\n",
    "\n",
    "3. The Rectangle class is also a subclass of Shape that implements the area() method. It takes width and height parameters in its constructor and calculates the area using the formula width * height.\n",
    "\n",
    "4. You can create instances of these classes and call the area() method to calculate the area of each shape:"
   ]
  },
  {
   "cell_type": "code",
   "execution_count": null,
   "metadata": {},
   "outputs": [],
   "source": [
    "circle = Circle(5)\n",
    "print(circle.area())  # Output: 78.53981633974483\n",
    "\n",
    "rectangle = Rectangle(4, 6)\n",
    "print(rectangle.area())  # Output: 24"
   ]
  },
  {
   "cell_type": "markdown",
   "metadata": {},
   "source": [
    "Note that if you try to create an instance of the Shape class directly, you'll get a TypeError because it's an abstract base class"
   ]
  },
  {
   "cell_type": "code",
   "execution_count": null,
   "metadata": {},
   "outputs": [],
   "source": [
    "shape = Shape()\n",
    "# TypeError: Can't instantiate abstract class Shape with abstract methods area"
   ]
  },
  {
   "cell_type": "markdown",
   "metadata": {},
   "source": [
    "9. Demonstrate polymorphism by creating a function that can work with different shape objects to calculate and print their areas."
   ]
  },
  {
   "cell_type": "markdown",
   "metadata": {},
   "source": [
    "Here is an example of a function that demonstrates polymorphism by working with different shape objects to calculate and print their areas:"
   ]
  },
  {
   "cell_type": "code",
   "execution_count": null,
   "metadata": {},
   "outputs": [],
   "source": [
    "class Shape:\n",
    "    def area(self):\n",
    "        raise NotImplementedError(\"Subclasses must implement area method\")\n",
    "\n",
    "class Circle(Shape):\n",
    "    def __init__(self, radius):\n",
    "        self.radius = radius\n",
    "\n",
    "    def area(self):\n",
    "        return 3.14 * (self.radius ** 2)\n",
    "\n",
    "class Rectangle(Shape):\n",
    "    def __init__(self, width, height):\n",
    "        self.width = width\n",
    "        self.height = height\n",
    "\n",
    "    def area(self):\n",
    "        return self.width * self.height\n",
    "\n",
    "class Triangle(Shape):\n",
    "    def __init__(self, base, height):\n",
    "        self.base = base\n",
    "        self.height = height\n",
    "\n",
    "    def area(self):\n",
    "        return 0.5 * self.base * self.height\n",
    "\n",
    "def print_area(shape: Shape):\n",
    "    \"\"\"\n",
    "    Prints the area of the given shape object.\n",
    "    \"\"\"\n",
    "    print(f\"The area of the shape is: {shape.area()}\")\n",
    "\n",
    "# Create shape objects\n",
    "circle = Circle(5)\n",
    "rectangle = Rectangle(4, 6)\n",
    "triangle = Triangle(3, 4)\n",
    "\n",
    "# Print areas using the polymorphic function\n",
    "print_area(circle)  # Output: The area of the shape is: 78.5\n",
    "print_area(rectangle)  # Output: The area of the shape is: 24\n",
    "print_area(triangle)  # Output: The area of the shape is: 6.0"
   ]
  },
  {
   "cell_type": "markdown",
   "metadata": {},
   "source": [
    "Here's an explanation of how the code works:\n",
    "\n",
    "The Shape class is an abstract base class that defines an area method, which must be implemented by its subclasses.\n",
    "\n",
    "The Circle, Rectangle, and Triangle classes are concrete subclasses of Shape, each implementing their own area method.\n",
    "\n",
    "The print_area function takes a Shape object as input and calls its area method to calculate and print the area.\n",
    "\n",
    "The function is polymorphic because it can work with different shape objects, without knowing their specific type at compile-time.\n",
    "\n",
    "When we pass a Circle, Rectangle, or Triangle object to the print_area function, it calls the correct area method for that object, thanks to polymorphism.\n",
    "\n",
    "This example demonstrates how polymorphism allows us to write a single function that can work with different types of objects, without needing to know the specific type at compile-time."
   ]
  },
  {
   "cell_type": "markdown",
   "metadata": {},
   "source": [
    "10. Implement encapsulation in a 'BankAccount class with private attributes for balance and account_number. Include methods for deposit, withdrawal, and balance inquiry."
   ]
  },
  {
   "cell_type": "markdown",
   "metadata": {},
   "source": [
    "-> The __account_number and __balance attributes are private, meaning they can only be accessed within the class itself. The deposit, withdraw, and get_balance methods provide a controlled interface for interacting with the private attributes.\n",
    "Here is an example implementation of the BankAccount class with encapsulation:"
   ]
  },
  {
   "cell_type": "code",
   "execution_count": null,
   "metadata": {},
   "outputs": [],
   "source": [
    "class BankAccount:\n",
    "    def __init__(self, account_number, initial_balance=0):\n",
    "        self.__account_number = account_number\n",
    "        self.__balance = initial_balance\n",
    "\n",
    "    def deposit(self, amount):\n",
    "        if amount > 0:\n",
    "            self.__balance += amount\n",
    "            print(f\"Deposited ${amount:.2f} into account {self.__account_number}. New balance: ${self.__balance:.2f}\")\n",
    "        else:\n",
    "            print(\"Invalid deposit amount.\")\n",
    "\n",
    "    def withdraw(self, amount):\n",
    "        if 0 < amount <= self.__balance:\n",
    "            self.__balance -= amount\n",
    "            print(f\"Withdrew ${amount:.2f} from account {self.__account_number}. New balance: ${self.__balance:.2f}\")\n",
    "        else:\n",
    "            print(\"Insufficient funds or invalid withdrawal amount.\")\n",
    "\n",
    "    def get_balance(self):\n",
    "        return self.__balance\n",
    "\n",
    "    def get_account_number(self):\n",
    "        return self.__account_number"
   ]
  },
  {
   "cell_type": "markdown",
   "metadata": {},
   "source": [
    "11. Write a class that overrides the str and_add__ magic methods. What will these methods allow you to do?"
   ]
  },
  {
   "cell_type": "markdown",
   "metadata": {},
   "source": [
    "The __str__ method allows us to customize the string representation of the Vector object, making it easier to print and debug. The __add__ method allows us to define how the + operator behaves when used with Vector objects, enabling us to perform vector addition."
   ]
  },
  {
   "cell_type": "code",
   "execution_count": null,
   "metadata": {},
   "outputs": [],
   "source": [
    "class Vector:\n",
    "    def __init__(self, x, y):\n",
    "        self.x = x\n",
    "        self.y = y\n",
    "\n",
    "    def __str__(self):\n",
    "        return f\"Vector({self.x}, {self.y})\"\n",
    "\n",
    "    def __add__(self, other):\n",
    "        if isinstance(other, Vector):\n",
    "            return Vector(self.x + other.x, self.y + other.y)\n",
    "        else:\n",
    "            raise TypeError(\"Can only add Vector objects\")\n",
    "\n",
    "# Example usage:\n",
    "v1 = Vector(2, 3)\n",
    "v2 = Vector(4, 5)\n",
    "\n",
    "print(v1)  # Output: Vector(2, 3)\n",
    "print(v1 + v2)  # Output: Vector(6, 8)"
   ]
  },
  {
   "cell_type": "markdown",
   "metadata": {},
   "source": [
    "12. Create a decorator that measures and prints the execution time of a function."
   ]
  },
  {
   "cell_type": "markdown",
   "metadata": {},
   "source": [
    "Here is an example of a decorator that measures and prints the execution time of a function:\n"
   ]
  },
  {
   "cell_type": "code",
   "execution_count": null,
   "metadata": {},
   "outputs": [],
   "source": [
    "import time\n",
    "from functools import wraps\n",
    "\n",
    "def timer_decorator(func):\n",
    "    @wraps(func)\n",
    "    def wrapper_timer(*args, **kwargs):\n",
    "        start_time = time.time()\n",
    "        value = func(*args, **kwargs)\n",
    "        end_time = time.time()\n",
    "        run_time = end_time - start_time\n",
    "        print(f\"Finished {func.__name__!r} in {run_time:.4f} secs\")\n",
    "        return value\n",
    "    return wrapper_timer\n",
    "\n",
    "# Example usage:\n",
    "@timer_decorator\n",
    "def example_func():\n",
    "    for i in range(10000000):\n",
    "        pass\n",
    "\n",
    "example_func()\n"
   ]
  },
  {
   "cell_type": "markdown",
   "metadata": {},
   "source": [
    "This decorator uses the time module to measure the execution time of the decorated function. The wrapper_timer function is called instead of the original function, and it measures the time before and after calling the original function. The execution time is then printed to the console.\n",
    "\n",
    "The @wraps decorator from the functools module is used to preserve the original function's metadata, such as its name and docstring.\n",
    "\n",
    "You can apply this decorator to any function you want to measure the execution time of. Just add the @timer_decorator line above the function definition."
   ]
  },
  {
   "cell_type": "markdown",
   "metadata": {},
   "source": [
    "13. Explain the concept of the Diamond Problem in multiple inheritance. How does Python resolve it?"
   ]
  },
  {
   "cell_type": "markdown",
   "metadata": {},
   "source": [
    "--> The Diamond Problem is a classic issue that arises in multiple inheritance, where a class inherits from two classes that have a common base class. This creates a diamond-shaped inheritance graph, hence the name."
   ]
  },
  {
   "cell_type": "code",
   "execution_count": null,
   "metadata": {},
   "outputs": [],
   "source": [
    "class A:\n",
    "    def method(self):\n",
    "        print(\"A's method\")\n",
    "\n",
    "class B(A):\n",
    "    pass\n",
    "\n",
    "class C(A):\n",
    "    def method(self):\n",
    "        print(\"C's method\")\n",
    "\n",
    "class D(B, C):\n",
    "    pass"
   ]
  },
  {
   "cell_type": "markdown",
   "metadata": {},
   "source": [
    "In this example, D inherits from both B and C, which both inherit from A. This creates a diamond-shaped inheritance graph:\n",
    "\n",
    "      A\n",
    "     / \\\n",
    "    B   C\n",
    "     \\ /\n",
    "      D"
   ]
  },
  {
   "cell_type": "markdown",
   "metadata": {},
   "source": [
    "The problem arises when we try to call method() on an instance of D. Which implementation of method() should be called? A's, B's, or C's?\n",
    "\n",
    "Python resolves this issue using a technique called Method Resolution Order (MRO). The MRO is the order in which Python searches for a method or attribute in a class's inheritance graph.\n",
    "\n",
    "In Python, the MRO is determined by the C3 linearization algorithm, which is a recursive algorithm that builds a linear ordering of the classes in the inheritance graph.\n",
    "\n",
    "Here's how Python would resolve the Diamond Problem in our example:\n",
    "\n",
    "When we create an instance of D, Python starts searching for the method() implementation in the following order:D itself\n",
    "B (since D inherits from B)\n",
    "A (since B inherits from A)\n",
    "C (since D also inherits from C)\n",
    "A again (since C inherits from A)\n",
    "\n",
    "Python finds the method() implementation in C and uses that one.\n",
    "So, if we create an instance of D and call method() on it, Python would print \"C's method\".\n",
    "\n",
    "Here's the code to demonstrate this:"
   ]
  },
  {
   "cell_type": "code",
   "execution_count": null,
   "metadata": {},
   "outputs": [],
   "source": [
    "d = D()\n",
    "d.method()  # Output: C's method"
   ]
  },
  {
   "cell_type": "markdown",
   "metadata": {},
   "source": [
    "Python's MRO and C3 linearization algorithm ensure that the Diamond Problem is resolved in a predictable and consistent manner, allowing us to use multiple inheritance safely and effectively."
   ]
  },
  {
   "cell_type": "markdown",
   "metadata": {},
   "source": [
    "14. Write a class method that keeps track of the number of instances created from a class."
   ]
  },
  {
   "cell_type": "markdown",
   "metadata": {},
   "source": [
    "Here is an example of a class that keeps track of the number of instances created:"
   ]
  },
  {
   "cell_type": "code",
   "execution_count": null,
   "metadata": {},
   "outputs": [],
   "source": [
    "class InstanceTracker:\n",
    "    _instance_count = 0\n",
    "\n",
    "    def __init__(self):\n",
    "        InstanceTracker._instance_count += 1\n",
    "\n",
    "    @classmethod\n",
    "    def get_instance_count(cls):\n",
    "        return cls._instance_count"
   ]
  },
  {
   "cell_type": "markdown",
   "metadata": {},
   "source": [
    "Here's an explanation of how it works:\n",
    "\n",
    "The _instance_count class variable is initialized to 0, which will keep track of the number of instances created.\n",
    "In the __init__ method, which is called when a new instance is created, we increment the _instance_count variable by 1.\n",
    "The get_instance_count class method returns the current value of _instance_count.\n",
    "You can use this class like this:"
   ]
  },
  {
   "cell_type": "code",
   "execution_count": null,
   "metadata": {},
   "outputs": [],
   "source": [
    "tracker1 = InstanceTracker()\n",
    "tracker2 = InstanceTracker()\n",
    "tracker3 = InstanceTracker()\n",
    "\n",
    "print(InstanceTracker.get_instance_count())  # Output: 3"
   ]
  },
  {
   "cell_type": "markdown",
   "metadata": {},
   "source": [
    "Each time you create a new instance of the InstanceTracker class, the _instance_count variable is incremented, and you can retrieve the current count using the get_instance_count class method.\n",
    "\n",
    "Note that the _instance_count variable is a class variable, which means it is shared across all instances of the class. This allows us to keep track of the total number of instances created, rather than having each instance keep its own count."
   ]
  },
  {
   "cell_type": "markdown",
   "metadata": {},
   "source": [
    "\n",
    "15. Implement a static method in a class that checks if a given year is a leap year."
   ]
  },
  {
   "cell_type": "markdown",
   "metadata": {},
   "source": [
    "Here is an example of a class with a static method that checks if a given year is a leap year:"
   ]
  },
  {
   "cell_type": "code",
   "execution_count": null,
   "metadata": {},
   "outputs": [],
   "source": [
    "class LeapYearChecker:\n",
    "    @staticmethod\n",
    "    def is_leap_year(year: int) -> bool:\n",
    "        \"\"\"\n",
    "        Returns True if the given year is a leap year, False otherwise.\n",
    "        \"\"\"\n",
    "        return year % 4 == 0 and (year % 100 != 0 or year % 400 == 0)\n",
    "    \n",
    "print(LeapYearChecker.is_leap_year(2020))  # Output: True\n",
    "print(LeapYearChecker.is_leap_year(2019))  # Output: False"
   ]
  },
  {
   "cell_type": "markdown",
   "metadata": {},
   "source": [
    "Here's an explanation of how the method works:\n",
    "\n",
    "The is_leap_year method takes an integer year as input and returns a boolean value indicating whether the year is a leap year or not.\n",
    "\n",
    "The method uses the following rules to determine if a year is a leap year:\n",
    "\n",
    "The year must be divisible by 4.\n",
    "\n",
    "If the year is divisible by 100, it must also be divisible by 400.\n",
    "\n",
    "The method uses the modulo operator (%) to check these conditions. \n",
    "\n",
    "Note that the is_leap_year method is a static method, which means it can be called without creating an instance of the class. This is because the method doesn't rely on any instance-specific data, and can be used as a utility function"
   ]
  }
 ],
 "metadata": {
  "kernelspec": {
   "display_name": "Python 3",
   "language": "python",
   "name": "python3"
  },
  "language_info": {
   "codemirror_mode": {
    "name": "ipython",
    "version": 3
   },
   "file_extension": ".py",
   "mimetype": "text/x-python",
   "name": "python",
   "nbconvert_exporter": "python",
   "pygments_lexer": "ipython3",
   "version": "3.11.7"
  }
 },
 "nbformat": 4,
 "nbformat_minor": 2
}
