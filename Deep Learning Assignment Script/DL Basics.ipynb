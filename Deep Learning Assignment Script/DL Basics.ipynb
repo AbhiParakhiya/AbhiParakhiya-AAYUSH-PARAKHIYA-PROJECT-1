{
 "cells": [
  {
   "cell_type": "markdown",
   "id": "12d4b001",
   "metadata": {},
   "source": [
    "# Theory"
   ]
  },
  {
   "cell_type": "markdown",
   "id": "939c2f84",
   "metadata": {},
   "source": [
    "1. What is deep learning, and how is it connected to artificial intelligence?\n",
    "\n",
    "--> Deep learning is a subset of machine learning (ML), which itself is a subset of artificial intelligence (AI).\n",
    "\n",
    "It uses multi-layered neural networks to automatically learn complex patterns in large datasets.\n",
    "\n",
    "2. What is a neural network, and what are the different types of neural networks?\n",
    "\n",
    "--> A neural network mimics the human brain by connecting layers of nodes (\"neurons\").\n",
    "\n",
    "Types: Feedforward Neural Networks (FNN), Convolutional Neural Networks (CNN), Recurrent Neural Networks (RNN), Generative Adversarial Networks (GANs).\n",
    "\n",
    "3. What is the mathematical structure of a neural network?\n",
    "--> It's a series of matrix multiplications and nonlinear activation functions:\n",
    "\n",
    "y=f(Wx+b)\n",
    "\n",
    "where \n",
    "\n",
    "W = weight matrix, \n",
    "\n",
    "x = input vector, \n",
    "\n",
    "b = bias vector, \n",
    "\n",
    "f = activation function.\n",
    "\n",
    "4. What is an activation function, and why is it essential in neural network?\n",
    "\n",
    "--> Activation functions introduce non-linearity to neural networks, enabling them to learn complex data patterns.\n",
    "\n",
    "5. Could you list some common activation functions used in neural networks?\n",
    "\n",
    "-->Common activation functions:\n",
    "\n",
    "Sigmoid\n",
    "\n",
    "Tanh\n",
    "\n",
    "ReLU (Rectified Linear Unit)\n",
    "\n",
    "Leaky ReLU\n",
    "\n",
    "Softmax\n",
    "\n",
    "\n",
    "6. What is a multilayer neural network?\n",
    "\n",
    "--> A neural network with one or more hidden layers between the input and output layers.\n",
    "\n",
    "\n",
    "\n",
    "7. What is a loss function, and why is it crucial for neural network training?\n",
    "\n",
    "--> The loss function measures the difference between predicted and true outputs.\n",
    "\n",
    "It helps the model adjust its weights during training (optimization).\n",
    "\n",
    "\n",
    "8. What are some common types of loss functions?\n",
    "\n",
    "--> Common loss functions:\n",
    "Mean Squared Error (MSE)\n",
    "\n",
    "Cross-Entropy Loss\n",
    "\n",
    "Hinge Loss\n",
    "\n",
    "9. How does a neural network learn?\n",
    "\n",
    "--> Through forward propagation (calculating predictions) and backward propagation (adjusting weights via gradients).\n",
    "\n",
    "10. What is an optimizer in neural networks, and why is it necessary?\n",
    "\n",
    "--> An optimizer updates the model parameters (weights) to minimize the loss function during training.\n",
    "\n",
    "\n",
    "11. Could you briefly describe some common optimizers?\n",
    "\n",
    "--> Common optimizers:\n",
    "\n",
    "Stochastic Gradient Descent (SGD)\n",
    "\n",
    "Adam\n",
    "\n",
    "RMSprop\n",
    "\n",
    "Adagrad\n",
    "\n",
    "12. Can you explain forward and backward propagation in a neural network?\n",
    "\n",
    "--> Forward and Backward Propagation:\n",
    "\n",
    "Forward: Compute output based on input and weights.\n",
    "\n",
    "Backward: Compute gradient of loss w.r.t weights using chain rule, and update weights.\n",
    "\n",
    "\n",
    "13. What is weight initialization, and how does it impact training?\n",
    "\n",
    "--> Good initialization prevents vanishing or exploding gradients and accelerates convergence.\n",
    "\n",
    "\n",
    "14. What is the vanishing gradient problem in deep learning?\n",
    "\n",
    "--> Gradients become very small, making it hard for weights to update, slowing learning.\n",
    "\n",
    "15. What is the exploding gradient problem?\n",
    "\n",
    "--> Gradients grow very large, causing unstable updates and often NaNs during training.\n"
   ]
  },
  {
   "cell_type": "markdown",
   "id": "729de16d",
   "metadata": {},
   "source": [
    "# Practical\n"
   ]
  },
  {
   "cell_type": "code",
   "execution_count": 2,
   "id": "ace23ba1",
   "metadata": {},
   "outputs": [],
   "source": [
    "import pandas as pd\n",
    "import numpy as np      \n",
    "import matplotlib.pyplot as plt\n",
    "import seaborn as sns\n",
    "import os\n",
    "import sys\n",
    "import warnings\n",
    "warnings.filterwarnings(\"ignore\")\n",
    "\n",
    "from tensorflow import keras\n",
    "from tensorflow.keras import layers\n",
    "from tensorflow.keras.models import Sequential\n",
    "from tensorflow.keras.layers import Dense\n",
    "from tensorflow.keras.optimizers import Adam\n"
   ]
  },
  {
   "cell_type": "markdown",
   "id": "c18e86a3",
   "metadata": {},
   "source": [
    "1. How do you create a simple perceptron for basic binary classification?\n",
    "\n"
   ]
  },
  {
   "cell_type": "code",
   "execution_count": 3,
   "id": "34609fd2",
   "metadata": {},
   "outputs": [
    {
     "name": "stdout",
     "output_type": "stream",
     "text": [
      "\u001b[1m1/1\u001b[0m \u001b[32m━━━━━━━━━━━━━━━━━━━━\u001b[0m\u001b[37m\u001b[0m \u001b[1m0s\u001b[0m 42ms/step\n",
      "predictions: [[0.49750385]\n",
      " [0.60676855]\n",
      " [0.59126794]\n",
      " [0.6927363 ]]\n"
     ]
    }
   ],
   "source": [
    "x = np.array([[0, 0], [0, 1], [1, 0], [1, 1]])\n",
    "y = np.array([[0], [1], [1], [0]])\n",
    "\n",
    "model = Sequential([\n",
    "    Dense(1, input_dim = 2, activation='sigmoid')\n",
    "])\n",
    "\n",
    "model.compile(optimizer='adam', loss='binary_crossentropy', metrics=['accuracy'])   \n",
    "\n",
    "model.fit(x, y, epochs=10, verbose=0)\n",
    "predictions = model.predict(x) \n",
    "print(f'predictions: {predictions}')\n"
   ]
  },
  {
   "cell_type": "markdown",
   "id": "f0b07300",
   "metadata": {},
   "source": [
    "2. How can you build a neural network with one hidden layer using Keras?\n",
    "\n"
   ]
  },
  {
   "cell_type": "code",
   "execution_count": 4,
   "id": "fb87cb0e",
   "metadata": {},
   "outputs": [
    {
     "name": "stdout",
     "output_type": "stream",
     "text": [
      "\u001b[1m1/1\u001b[0m \u001b[32m━━━━━━━━━━━━━━━━━━━━\u001b[0m\u001b[37m\u001b[0m \u001b[1m0s\u001b[0m 47ms/step\n",
      "predictions: [[0.5102428]\n",
      " [0.4321412]\n",
      " [0.5491468]\n",
      " [0.4812869]]\n"
     ]
    }
   ],
   "source": [
    "x = np.array([[0, 0], [0, 1], [1, 0], [1, 1]])\n",
    "y = np.array([0, 1, 1, 0])\n",
    "\n",
    "model = Sequential([\n",
    "    Dense(10, input_dim = 2, activation='tanh'),\n",
    "    Dense(1, activation='sigmoid')\n",
    "])\n",
    "\n",
    "model.compile(optimizer='adam', loss='binary_crossentropy', metrics=['accuracy'])\n",
    "model.fit(x, y, epochs=10, verbose=0)   \n",
    "predictions = model.predict(x)\n",
    "print(f'predictions: {predictions}')"
   ]
  },
  {
   "cell_type": "markdown",
   "id": "f47868dc",
   "metadata": {},
   "source": [
    "3. How do you initialize weights using the Xavier (Glorot) initialization method in Keras?\n",
    "\n"
   ]
  },
  {
   "cell_type": "code",
   "execution_count": 5,
   "id": "132419d5",
   "metadata": {},
   "outputs": [
    {
     "name": "stdout",
     "output_type": "stream",
     "text": [
      "\u001b[1m1/1\u001b[0m \u001b[32m━━━━━━━━━━━━━━━━━━━━\u001b[0m\u001b[37m\u001b[0m \u001b[1m0s\u001b[0m 52ms/step\n",
      "predictions: [[0.4943534]\n",
      " [0.5652811]\n",
      " [0.5262668]\n",
      " [0.5734663]]\n"
     ]
    }
   ],
   "source": [
    "from keras.initializers import glorot_uniform\n",
    "\n",
    "model = Sequential([\n",
    "    Dense(4, input_dim = 2, activation='tanh',kernel_initializer='glorot_uniform'),\n",
    "    Dense(1, activation='sigmoid',kernel_initializer='glorot_uniform')\n",
    "])\n",
    "\n",
    "model.compile(optimizer='adam', loss='binary_crossentropy', metrics=['accuracy'])\n",
    "model.fit(x, y, epochs=10, verbose=0)   \n",
    "predictions = model.predict(x)\n",
    "print(f'predictions: {predictions}')\n"
   ]
  },
  {
   "cell_type": "markdown",
   "id": "4416156f",
   "metadata": {},
   "source": [
    "4. How can you apply different activation functions in a neural network in Keras?\n",
    "\n"
   ]
  },
  {
   "cell_type": "code",
   "execution_count": 6,
   "id": "ca81ea15",
   "metadata": {},
   "outputs": [
    {
     "name": "stdout",
     "output_type": "stream",
     "text": [
      "\u001b[1m1/1\u001b[0m \u001b[32m━━━━━━━━━━━━━━━━━━━━\u001b[0m\u001b[37m\u001b[0m \u001b[1m0s\u001b[0m 44ms/step\n",
      "predictions: [[0.5052666 ]\n",
      " [0.48209274]\n",
      " [0.44748908]\n",
      " [0.4429212 ]]\n"
     ]
    }
   ],
   "source": [
    "model = Sequential([\n",
    "    Dense(4, input_dim = 2, activation='tanh'),\n",
    "    Dense(1, activation='sigmoid')\n",
    "])\n",
    "\n",
    "model.compile(optimizer='adam', loss='binary_crossentropy', metrics=['accuracy'])\n",
    "model.fit(x, y, epochs=10, verbose=0)   \n",
    "predictions = model.predict(x)\n",
    "print(f'predictions: {predictions}')"
   ]
  },
  {
   "cell_type": "markdown",
   "id": "e9ed7daf",
   "metadata": {},
   "source": [
    "5. How do you add dropout to a neural network model to prevent overfitting?\n",
    "\n"
   ]
  },
  {
   "cell_type": "code",
   "execution_count": 7,
   "id": "8bef958e",
   "metadata": {},
   "outputs": [
    {
     "name": "stdout",
     "output_type": "stream",
     "text": [
      "WARNING:tensorflow:5 out of the last 5 calls to <function TensorFlowTrainer.make_predict_function.<locals>.one_step_on_data_distributed at 0x000001CF4D107C40> triggered tf.function retracing. Tracing is expensive and the excessive number of tracings could be due to (1) creating @tf.function repeatedly in a loop, (2) passing tensors with different shapes, (3) passing Python objects instead of tensors. For (1), please define your @tf.function outside of the loop. For (2), @tf.function has reduce_retracing=True option that can avoid unnecessary retracing. For (3), please refer to https://www.tensorflow.org/guide/function#controlling_retracing and https://www.tensorflow.org/api_docs/python/tf/function for  more details.\n",
      "\u001b[1m1/1\u001b[0m \u001b[32m━━━━━━━━━━━━━━━━━━━━\u001b[0m\u001b[37m\u001b[0m \u001b[1m0s\u001b[0m 45ms/step\n",
      "predictions: [[0.5007052 ]\n",
      " [0.5674427 ]\n",
      " [0.54149234]\n",
      " [0.40510643]]\n"
     ]
    }
   ],
   "source": [
    "from tensorflow.keras.layers import Dropout\n",
    "\n",
    "model = Sequential([\n",
    "    Dense(10, input_dim = 2, activation='relu'),\n",
    "    Dropout(0.2),\n",
    "    Dense(1,activation='sigmoid')\n",
    "])\n",
    "\n",
    "model.compile(optimizer='adam', loss='binary_crossentropy', metrics=['accuracy'])\n",
    "model.fit(x, y, epochs=10, verbose=0)   \n",
    "predictions = model.predict(x)\n",
    "print(f'predictions: {predictions}')"
   ]
  },
  {
   "cell_type": "markdown",
   "id": "9d692b09",
   "metadata": {},
   "source": [
    "6. How do you manually implement forward propagation in a simple neural network?\n"
   ]
  },
  {
   "cell_type": "code",
   "execution_count": 8,
   "id": "1842e095",
   "metadata": {},
   "outputs": [
    {
     "name": "stdout",
     "output_type": "stream",
     "text": [
      "1.3328710836980795\n"
     ]
    }
   ],
   "source": [
    "def sigmoid(x):\n",
    "    return 1/1+np.exp(-x)\n",
    "\n",
    "w = np.array([-0.5,0.6])\n",
    "b = 0.5\n",
    "x = np.array([0,1])\n",
    "\n",
    "z = np.dot(w,x) + b\n",
    "a = sigmoid(z)\n",
    "print(a)\n"
   ]
  },
  {
   "cell_type": "markdown",
   "id": "ce068694",
   "metadata": {},
   "source": [
    "\n",
    "7. How do you add batch normalization to a neural network model in Keras?\n",
    "\n"
   ]
  },
  {
   "cell_type": "code",
   "execution_count": 9,
   "id": "29729f87",
   "metadata": {},
   "outputs": [
    {
     "name": "stdout",
     "output_type": "stream",
     "text": [
      "WARNING:tensorflow:6 out of the last 6 calls to <function TensorFlowTrainer.make_predict_function.<locals>.one_step_on_data_distributed at 0x000001CF4E2D3A60> triggered tf.function retracing. Tracing is expensive and the excessive number of tracings could be due to (1) creating @tf.function repeatedly in a loop, (2) passing tensors with different shapes, (3) passing Python objects instead of tensors. For (1), please define your @tf.function outside of the loop. For (2), @tf.function has reduce_retracing=True option that can avoid unnecessary retracing. For (3), please refer to https://www.tensorflow.org/guide/function#controlling_retracing and https://www.tensorflow.org/api_docs/python/tf/function for  more details.\n",
      "\u001b[1m1/1\u001b[0m \u001b[32m━━━━━━━━━━━━━━━━━━━━\u001b[0m\u001b[37m\u001b[0m \u001b[1m0s\u001b[0m 55ms/step\n",
      "Predictions: [[0.49861044]\n",
      " [0.23798427]\n",
      " [0.52507675]\n",
      " [0.32297418]]\n"
     ]
    }
   ],
   "source": [
    "from keras.layers import BatchNormalization\n",
    "\n",
    "x = np.array([[0,0], [0,1], [1,0], [1,1]])   # shape = (4,2)\n",
    "y = np.array([0,1,1,0])                      # shape = (4,)\n",
    "\n",
    "model = Sequential([\n",
    "    Dense(10, input_dim=2, activation='relu'),\n",
    "    BatchNormalization(),\n",
    "    Dense(1, activation='sigmoid')\n",
    "])\n",
    "\n",
    "model.compile(optimizer='adam', loss='binary_crossentropy', metrics=['accuracy'])\n",
    "\n",
    "# Now fit will work because x and y both have 4 samples\n",
    "model.fit(x, y, epochs=5, verbose=0)\n",
    "\n",
    "predictions = model.predict(x)\n",
    "print(f'Predictions: {predictions}')"
   ]
  },
  {
   "cell_type": "markdown",
   "id": "df9de278",
   "metadata": {},
   "source": [
    "8. How can you visualize the training process with accuracy and loss curves?\n",
    "\n"
   ]
  },
  {
   "cell_type": "code",
   "execution_count": 10,
   "id": "fd841498",
   "metadata": {},
   "outputs": [
    {
     "data": {
      "image/png": "[encoded data removed]",
      "text/plain": [
       "<Figure size 640x480 with 1 Axes>"
      ]
     },
     "metadata": {},
     "output_type": "display_data"
    }
   ],
   "source": [
    "\n",
    "history = model.fit(x, y, epochs=100, verbose=0)\n",
    "\n",
    "plt.plot(history.history['loss'])\n",
    "plt.plot(history.history['accuracy'])\n",
    "plt.title('Model Loss and Accuracy')\n",
    "plt.ylabel('Value')\n",
    "plt.xlabel('Epoch')\n",
    "plt.legend(['Loss', 'Accuracy'], loc='upper right')\n",
    "plt.show()\n"
   ]
  },
  {
   "cell_type": "markdown",
   "id": "8eb49ef5",
   "metadata": {},
   "source": [
    "9. How can you use gradient clipping in Keras to control the gradient size and prevent exploding gradients?\n",
    "\n"
   ]
  },
  {
   "cell_type": "code",
   "execution_count": 11,
   "id": "72007e0f",
   "metadata": {},
   "outputs": [],
   "source": [
    "optimizer = Adam(clipvalue=1.0)\n",
    "\n",
    "model.compile(optimizer=optimizer, loss='binary_crossentropy', metrics=['accuracy'])"
   ]
  },
  {
   "cell_type": "markdown",
   "id": "cb02d699",
   "metadata": {},
   "source": [
    "10. How can you create a custom loss function in Keras?\n",
    "\n"
   ]
  },
  {
   "cell_type": "code",
   "execution_count": 12,
   "id": "d2840590",
   "metadata": {},
   "outputs": [],
   "source": [
    "from keras import backend as K\n",
    "def custom_loss(y_true, y_pred):\n",
    "    return K.mean(K.square(y_pred - y_true))  \n",
    "\n",
    "model.compile(optimizer=optimizer, loss=custom_loss, metrics=['accuracy'])  \n"
   ]
  },
  {
   "cell_type": "markdown",
   "id": "193fce3d",
   "metadata": {},
   "source": [
    "11. How can you visualize the structure of a neural network model in Keras?"
   ]
  },
  {
   "cell_type": "code",
   "execution_count": 14,
   "id": "33132eca",
   "metadata": {},
   "outputs": [
    {
     "name": "stdout",
     "output_type": "stream",
     "text": [
      "You must install graphviz (see instructions at https://graphviz.gitlab.io/download/) for `plot_model` to work.\n"
     ]
    }
   ],
   "source": [
    "from keras.utils import plot_model\n",
    "\n",
    "plot_model(model, to_file='model.png', show_shapes=True, show_layer_names=True)"
   ]
  }
 ],
 "metadata": {
  "kernelspec": {
   "display_name": "base",
   "language": "python",
   "name": "python3"
  },
  "language_info": {
   "codemirror_mode": {
    "name": "ipython",
    "version": 3
   },
   "file_extension": ".py",
   "mimetype": "text/x-python",
   "name": "python",
   "nbconvert_exporter": "python",
   "pygments_lexer": "ipython3",
   "version": "3.12.7"
  }
 },
 "nbformat": 4,
 "nbformat_minor": 5
}
