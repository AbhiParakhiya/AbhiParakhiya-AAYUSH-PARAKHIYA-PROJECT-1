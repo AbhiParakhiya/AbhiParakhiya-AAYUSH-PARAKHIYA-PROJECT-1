{
 "cells": [
  {
   "cell_type": "markdown",
   "metadata": {},
   "source": [
    "### 1. Explain the purpose and advantages of NumPy in scientific computing and data analysis. How does it enhance Python's capabilities for numerical operations?"
   ]
  },
  {
   "cell_type": "markdown",
   "metadata": {},
   "source": [
    "-> NumPy (Numerical Python) is a library for working with arrays and mathematical operations in Python. It is a fundamental package for scientific computing and data analysis, and is widely used in various fields such as physics, engineering, signal processing, and data science.\n",
    "\n",
    "* Purpose of NumPy:\n",
    "\n",
    "The primary purpose of NumPy is to provide an efficient and flexible way to work with large datasets, particularly numerical arrays and matrices. It allows users to perform various mathematical operations, such as linear algebra, Fourier transforms, and random number generation, on these datasets.\n",
    "\n",
    "* Advantages of NumPy:\n",
    "\n",
    "1. Efficient Memory Management: NumPy arrays are stored in a contiguous block of memory, which leads to faster access and manipulation of data.\n",
    "\n",
    "2. Vectorized Operations: NumPy provides an extensive set of vectorized operations, which allow users to perform operations on entire arrays at once, rather than iterating over individual elements. This leads to significant performance improvements.\n",
    "\n",
    "3. Broadcasting: NumPy's broadcasting rules enable users to perform operations on arrays with different shapes and sizes, making it easy to perform complex operations.\n",
    "\n",
    "4. Multi-Dimensional Arrays: NumPy supports multi-dimensional arrays, which are essential for many scientific computing and data analysis tasks.\n",
    "\n",
    "5. Integration with Other Libraries: NumPy is seamlessly integrated with other popular Python libraries, such as SciPy, Pandas, and Matplotlib, making it a central component of the Python data science ecosystem.\n",
    "\n",
    "* How NumPy Enhances Python's Capabilities:\n",
    "\n",
    "1. Faster Execution: NumPy's optimized C code and vectorized operations make numerical computations much faster than using pure Python.\n",
    "\n",
    "2. Concise Code: NumPy's high-level syntax and vectorized operations enable users to write concise and expressive code, making it easier to implement complex algorithms.\n",
    "\n",
    "3. Memory Efficiency: NumPy's efficient memory management reduces memory usage, making it possible to work with large datasets that would be impractical or impossible to handle with pure Python.\n",
    "\n",
    "4. Advanced Mathematical Operations: NumPy provides an extensive set of mathematical functions, including linear algebra, Fourier transforms, and random number generation, which are essential for many scientific computing and data analysis tasks.\n",
    "\n",
    "* Real-World Applications:\n",
    "\n",
    "1. Scientific Computing: NumPy is widely used in scientific computing for tasks such as numerical simulations, data analysis, and visualization.\n",
    "\n",
    "2. Data Analysis: NumPy is used in data analysis for tasks such as data cleaning, filtering, and transformation.\n",
    "\n",
    "3. Machine Learning: NumPy is used in machine learning for tasks such as data preprocessing, feature engineering, and model implementation.\n",
    "\n",
    "4. Signal Processing: NumPy is used in signal processing for tasks such as filtering, convolution, and Fourier transforms."
   ]
  },
  {
   "cell_type": "markdown",
   "metadata": {},
   "source": [
    "### 2. Compare and contrast np.mean() and np.average() functions in NumPy. When would you use one over the other?"
   ]
  },
  {
   "cell_type": "markdown",
   "metadata": {},
   "source": [
    "-> np.mean() and np.average() are two commonly used functions in NumPy for calculating the mean of an array. While they seem similar, there are subtle differences between them.\n",
    "\n",
    "* np.mean()\n",
    "\n",
    "-> np.mean() is a function that calculates the arithmetic mean of an array. It takes an array as input and returns the mean value. The arithmetic mean is calculated by summing all the elements in the array and dividing by the total number of elements.\n",
    "\n",
    "* np.average()\n",
    "\n",
    "-> np.average() is a function that calculates the weighted average of an array. It takes an array and an optional weights array as input. If weights are not provided, it defaults to uniform weights, and the function behaves similarly to np.mean(). However, if weights are provided, np.average() calculates the weighted average by multiplying each element in the array by its corresponding weight, summing the products, and dividing by the sum of the weights.\n",
    "\n",
    "* Key differences:\n",
    "\n",
    "-> Weights: np.average() allows for weighted averages, while np.mean() does not.\n",
    "\n",
    "-> Default behavior: When no weights are provided, np.average() defaults to uniform weights, whereas np.mean() always calculates the arithmetic mean.\n",
    "When to use each:\n",
    "\n",
    "* Use np.mean() when:\n",
    "\n",
    "1. You want to calculate the arithmetic mean of an array.\n",
    "\n",
    "2. You don't have weights or don't want to consider weights in the calculation.\n",
    "\n",
    "3. You want a simple, unweighted mean.\n",
    "\n",
    "* Use np.average() when:\n",
    "\n",
    "1. You want to calculate a weighted average of an array.\n",
    "\n",
    "2. You have weights or importance values associated with each element in the array.\n",
    "\n",
    "3. You want to give more importance to certain elements in the calculation.\n",
    "Example:"
   ]
  },
  {
   "cell_type": "code",
   "execution_count": 10,
   "metadata": {},
   "outputs": [
    {
     "name": "stdout",
     "output_type": "stream",
     "text": [
      "3.0\n",
      "3.2\n"
     ]
    }
   ],
   "source": [
    "import numpy as np\n",
    "\n",
    "# Create an array\n",
    "arr = np.array([1, 2, 3, 4, 5])\n",
    "\n",
    "# Calculate the mean using np.mean()\n",
    "mean_val = np.mean(arr)\n",
    "print(mean_val)  # Output: 3.0\n",
    "\n",
    "# Calculate the weighted average using np.average()\n",
    "weights = np.array([0.1, 0.2, 0.3, 0.2, 0.2])\n",
    "avg_val = np.average(arr, weights=weights)\n",
    "print(avg_val)  # Output: 3.2\n"
   ]
  },
  {
   "cell_type": "markdown",
   "metadata": {},
   "source": [
    "-> In this example, np.mean() calculates the arithmetic mean of the array, while np.average() calculates the weighted average using the provided weights.\n",
    "\n",
    "* In summary, np.mean() is used for calculating the arithmetic mean, while np.average() is used for calculating the weighted average. Choose the function based on whether you need to consider weights in your calculation."
   ]
  },
  {
   "cell_type": "markdown",
   "metadata": {},
   "source": [
    "### 3. Describe the methods for reversing a NumPy array along different axes. Provide examples for ID and 20 arrays."
   ]
  },
  {
   "cell_type": "markdown",
   "metadata": {},
   "source": [
    "--> * Reversing a NumPy array is a common operation in data manipulation and analysis. NumPy provides several methods to reverse an array along different axes. Here are the methods and examples for 1D and 2D arrays:\n",
    "\n",
    "* Method 1: Using the [::-1] slicing syntax\n",
    "\n",
    "This method uses Python's slice notation to reverse the array. The [::-1] syntax tells NumPy to start from the end of the array and move backwards to the beginning, stepping backwards by 1 element each time.\n",
    "\n",
    "--> 1D Array Example:\n"
   ]
  },
  {
   "cell_type": "code",
   "execution_count": 11,
   "metadata": {},
   "outputs": [
    {
     "name": "stdout",
     "output_type": "stream",
     "text": [
      "[5 4 3 2 1]\n"
     ]
    }
   ],
   "source": [
    "import numpy as np\n",
    "\n",
    "arr_1d = np.array([1, 2, 3, 4, 5])\n",
    "reversed_arr_1d = arr_1d[::-1]\n",
    "print(reversed_arr_1d)  # Output: [5 4 3 2 1]"
   ]
  },
  {
   "cell_type": "markdown",
   "metadata": {},
   "source": [
    "--> 2D Array Example:"
   ]
  },
  {
   "cell_type": "code",
   "execution_count": 12,
   "metadata": {},
   "outputs": [
    {
     "name": "stdout",
     "output_type": "stream",
     "text": [
      "[[5 6]\n",
      " [3 4]\n",
      " [1 2]]\n"
     ]
    }
   ],
   "source": [
    "arr_2d = np.array([[1, 2], [3, 4], [5, 6]])\n",
    "reversed_arr_2d = arr_2d[::-1]\n",
    "print(reversed_arr_2d)  # Output: [[5 6]\n",
    "                         #          [3 4]\n",
    "                         #          [1 2]]"
   ]
  },
  {
   "cell_type": "markdown",
   "metadata": {},
   "source": [
    "\n",
    "* Method 2: Using the np.flip() function\n",
    "\n",
    "The np.flip() function is a more explicit way to reverse an array. It takes an array as input and returns a new array with the elements reversed along the specified axis.\n",
    "\n",
    "1D Array Example:"
   ]
  },
  {
   "cell_type": "code",
   "execution_count": 13,
   "metadata": {},
   "outputs": [
    {
     "name": "stdout",
     "output_type": "stream",
     "text": [
      "[5 4 3 2 1]\n"
     ]
    }
   ],
   "source": [
    "arr_1d = np.array([1, 2, 3, 4, 5])\n",
    "reversed_arr_1d = np.flip(arr_1d)\n",
    "print(reversed_arr_1d)  # Output: [5 4 3 2 1]"
   ]
  },
  {
   "cell_type": "markdown",
   "metadata": {},
   "source": [
    "--> 2D Array Example:"
   ]
  },
  {
   "cell_type": "code",
   "execution_count": 14,
   "metadata": {},
   "outputs": [
    {
     "name": "stdout",
     "output_type": "stream",
     "text": [
      "[[5 6]\n",
      " [3 4]\n",
      " [1 2]]\n"
     ]
    }
   ],
   "source": [
    "arr_2d = np.array([[1, 2], [3, 4], [5, 6]])\n",
    "reversed_arr_2d = np.flip(arr_2d, axis=0)  # Reverse along axis 0 (rows)\n",
    "print(reversed_arr_2d)  # Output: [[5 6]\n",
    "                         #          [3 4]\n",
    "                         #          [1 2]]\n"
   ]
  },
  {
   "cell_type": "markdown",
   "metadata": {},
   "source": [
    "* Method 3: Using the np.fliplr() or np.flipud() functions\n",
    "\n",
    "These functions are specific to reversing arrays along the horizontal (left-right) or vertical (up-down) axes, respectively.\n",
    "\n",
    "--> 2D Array Example:"
   ]
  },
  {
   "cell_type": "code",
   "execution_count": 15,
   "metadata": {},
   "outputs": [
    {
     "name": "stdout",
     "output_type": "stream",
     "text": [
      "[[2 1]\n",
      " [4 3]\n",
      " [6 5]]\n",
      "[[5 6]\n",
      " [3 4]\n",
      " [1 2]]\n"
     ]
    }
   ],
   "source": [
    "arr_2d = np.array([[1, 2], [3, 4], [5, 6]])\n",
    "reversed_arr_2d_lr = np.fliplr(arr_2d)  # Reverse along horizontal axis\n",
    "print(reversed_arr_2d_lr)  # Output: [[2 1]\n",
    "                           #          [4 3]\n",
    "                           #          [6 5]]\n",
    "\n",
    "reversed_arr_2d_ud = np.flipud(arr_2d)  # Reverse along vertical axis\n",
    "print(reversed_arr_2d_ud)  # Output: [[5 6]\n",
    "                           #          [3 4]\n",
    "                           #          [1 2]]"
   ]
  },
  {
   "cell_type": "markdown",
   "metadata": {},
   "source": [
    "### 4. How can you determine the data type of elements in a NumPy array? Discuss the importance of data types in memory management and performance."
   ]
  },
  {
   "cell_type": "markdown",
   "metadata": {},
   "source": [
    "--> Determining the data type of elements in a NumPy array is crucial for efficient memory management and performance. Here are ways to determine the data type of elements in a NumPy array:\n",
    "\n",
    "--> Method 1: Using the dtype attribute\n",
    "\n",
    "The dtype attribute of a NumPy array returns the data type of its elements.e"
   ]
  },
  {
   "cell_type": "code",
   "execution_count": 8,
   "metadata": {},
   "outputs": [
    {
     "name": "stdout",
     "output_type": "stream",
     "text": [
      "int32\n"
     ]
    }
   ],
   "source": [
    "import numpy as np\n",
    "\n",
    "arr = np.array([1, 2, 3, 4, 5])\n",
    "print(arr.dtype)  # Output: int64"
   ]
  },
  {
   "cell_type": "markdown",
   "metadata": {},
   "source": [
    "--> Method 2: Using the numpy.dtype function\n",
    "\n",
    "The numpy.dtype function returns the data type of an array."
   ]
  },
  {
   "cell_type": "code",
   "execution_count": 17,
   "metadata": {},
   "outputs": [
    {
     "name": "stdout",
     "output_type": "stream",
     "text": [
      "[1 2 3 4 5]\n"
     ]
    }
   ],
   "source": [
    "import numpy as np\n",
    "\n",
    "arr = np.array([1, 2, 3, 4, 5])\n",
    "print((arr))  # Output: int64"
   ]
  },
  {
   "cell_type": "markdown",
   "metadata": {},
   "source": [
    "* Importance of data types in memory management and performance:\n",
    "\n",
    "--> Data types play a vital role in memory management and performance in NumPy arrays. Here's why:\n",
    "\n",
    "1. Memory allocation: NumPy arrays store elements in contiguous blocks of memory. The data type of the elements determines the amount of memory allocated for each element. For example, an int64 array allocates 8 bytes per element, while a float64 array allocates 8 bytes per element as well. Choosing the correct data type can help reduce memory usage and improve performance.\n",
    "\n",
    "2. Memory access: When accessing elements in a NumPy array, the data type determines how the memory is accessed. For example, accessing an int64 element requires a 64-bit memory access, while accessing a float64 element requires a 64-bit memory access as well. Using the correct data type can improve memory access performance.\n",
    "\n",
    "3. Operations and casting: When performing operations on NumPy arrays, the data type of the elements determines the operation's behavior. For example, adding two int64 arrays performs integer addition, while adding two float64 arrays performs floating-point addition. If the data types don't match, NumPy may perform casting, which can lead to performance degradation and potential loss of precision.\n",
    "\n",
    "4. Cache efficiency: The data type of elements in a NumPy array can affect cache efficiency. For example, an array with a smaller data type (e.g., int32) may fit more elements \n",
    "in the cache, leading to better performance, while an array with a larger data type (e.g., float128) may require more cache misses, leading to poorer performance."
   ]
  },
  {
   "cell_type": "markdown",
   "metadata": {},
   "source": [
    "### 5. Define ndarrays in NumPy and explain their key features. How do they differ from standard Python lists?"
   ]
  },
  {
   "cell_type": "markdown",
   "metadata": {},
   "source": [
    "--> In NumPy, an ndarray (short for \"n-dimensional array\") is a multi-dimensional array of fixed-size, homogeneous elements. It is the core data structure in NumPy, and it provides a powerful way to store and manipulate large datasets.\n",
    "\n",
    "* Key Features of ndarrays:\n",
    "\n",
    "1. Multi-dimensional: ndarrays can have any number of dimensions, from 1D (a simple array) to 2D (a matrix), 3D, and beyond.\n",
    "\n",
    "2. Fixed-size: The size of an ndarray is fixed at creation time, and it cannot be changed later.\n",
    "\n",
    "3. Homogeneous elements: All elements in an ndarray must have the same data type, such as integers, floating-point numbers, or complex numbers.\n",
    "\n",
    "4. Contiguous memory allocation: ndarrays store their elements in contiguous blocks of memory, which allows for efficient memory access and manipulation.\n",
    "\n",
    "5. Vectorized operations: ndarrays support vectorized operations, which means that operations can be performed on entire arrays at once, rather than iterating over individual elements.\n",
    "\n",
    "* How do ndarrays differ from standard Python lists?\n",
    "\n",
    "1. Memory allocation: Python lists store their elements in non-contiguous blocks of memory, which can lead to slower access times and more memory usage. ndarrays, on the other hand, store their elements in contiguous blocks of memory, making them more efficient.\n",
    "\n",
    "2. Data type: Python lists can store elements of different data types, while ndarrays require all elements to have the same data type.\n",
    "\n",
    "3. Size mutability: Python lists can grow or shrink dynamically, while ndarrays have a fixed size that cannot be changed after creation.\n",
    "\n",
    "4. Performance: ndarrays are generally faster and more efficient than Python lists, especially for numerical computations and large datasets.\n",
    "\n",
    "5. Vectorized operations: ndarrays support vectorized operations, which are not available in Python lists.\n",
    "\n",
    "--> Here's an example to illustrate the difference:"
   ]
  },
  {
   "cell_type": "code",
   "execution_count": 18,
   "metadata": {},
   "outputs": [
    {
     "name": "stdout",
     "output_type": "stream",
     "text": [
      "[ 2  4  6  8 10]\n"
     ]
    }
   ],
   "source": [
    "import numpy as np\n",
    "\n",
    "# Create a Python list\n",
    "python_list = [1, 2, 3, 4, 5]\n",
    "\n",
    "# Create a NumPy ndarray\n",
    "numpy_array = np.array([1, 2, 3, 4, 5])\n",
    "\n",
    "# Try to perform a vectorized operation on the Python list\n",
    "try:\n",
    "    python_list * 2\n",
    "except TypeError:\n",
    "    print(\"Error: Python lists do not support vectorized operations\")\n",
    "\n",
    "# Perform a vectorized operation on the NumPy ndarray\n",
    "result = numpy_array * 2\n",
    "print(result)  # Output: [ 2  4  6  8 10]"
   ]
  },
  {
   "cell_type": "markdown",
   "metadata": {},
   "source": [
    "### 6. Analyze the performance benefits of NumPy arrays over Python lists for large-scale numerical operations."
   ]
  },
  {
   "cell_type": "markdown",
   "metadata": {},
   "source": [
    "--> Performance Benefits of NumPy Arrays over Python Lists\n",
    "\n",
    "* NumPy arrays offer significant performance benefits over Python lists for large-scale numerical operations. Here are some key advantages:\n",
    "\n",
    "1. Memory Efficiency:\n",
    "\n",
    "--> NumPy arrays store elements in contiguous blocks of memory, which leads to better memory locality and reduced memory allocation overhead. This results in:\n",
    "\n",
    "1. Faster memory access: NumPy arrays can access elements more quickly than Python lists, which store elements in non-contiguous blocks of memory.\n",
    "\n",
    "2. Less memory usage: NumPy arrays typically use less memory than Python lists, especially for large datasets.\n",
    "\n",
    "2. Vectorized Operations:\n",
    "\n",
    "--> NumPy arrays support vectorized operations, which allow you to perform operations on entire arrays at once, rather than iterating over individual elements. This leads to:\n",
    "\n",
    "1. Faster execution: Vectorized operations are much faster than iterating over individual elements in Python lists.\n",
    "\n",
    "2. Less overhead: Vectorized operations reduce the overhead of function calls and looping, making them more efficient.\n",
    "\n",
    "3. Cache Efficiency:\n",
    "\n",
    "--> NumPy arrays are designed to take advantage of CPU cache hierarchies, which leads to:\n",
    "\n",
    "1. Faster access: NumPy arrays can fit more elements in the cache, reducing the number of cache misses and improving performance.\n",
    "\n",
    "2. Better parallelization: NumPy arrays can be parallelized more easily, taking advantage of multi-core processors and GPUs.\n",
    "\n",
    "4. Optimized Algorithms:\n",
    "\n",
    "--> NumPy arrays use optimized algorithms for common numerical operations, such as matrix multiplication, convolution, and Fourier transforms. These optimized algorithms are:\n",
    "\n",
    "1. Faster: Optimized algorithms are often faster than equivalent Python implementations.\n",
    "\n",
    "2. More accurate: Optimized algorithms can provide more accurate results, especially for complex numerical operations.\n",
    "\n",
    "5. Integration with Other Libraries:\n",
    "\n",
    "--> NumPy arrays are widely supported by other scientific computing libraries, such as SciPy, Pandas, and Matplotlib. This leads to:\n",
    "\n",
    "1. Seamless integration: NumPy arrays can be easily used with other libraries, making it easier to perform complex numerical operations.\n",
    "\n",
    "2. Broader functionality: NumPy arrays can be used for a wide range of numerical operations, from linear algebra to signal processing and machine learning.\n",
    "\n",
    "* Benchmarks:\n",
    "\n",
    "--> To illustrate the performance benefits of NumPy arrays, let's consider some benchmarks:\n",
    "\n",
    "1. Matrix multiplication: NumPy arrays are approximately 100x faster than Python lists for matrix multiplication.\n",
    "\n",
    "2. Element-wise operations: NumPy arrays are approximately 10x faster than Python lists for element-wise operations, such as addition and multiplication.\n",
    "\n",
    "3. Linear algebra operations: NumPy arrays are approximately 50x faster than Python lists for linear algebra operations, such as eigenvalue decomposition and singular value decomposition.\n",
    "\n",
    "* In conclusion, NumPy arrays offer significant performance benefits over Python lists for large-scale numerical operations. By leveraging contiguous memory allocation, vectorized operations, cache efficiency, optimized algorithms, and seamless integration with other libraries, NumPy arrays provide a powerful tool for scientific computing and data analysis.\n",
    "\n"
   ]
  },
  {
   "cell_type": "markdown",
   "metadata": {},
   "source": [
    "### 7. Compare vstack() and hstack() functions in NumPy. Provide examples demonstrating their usage and output."
   ]
  },
  {
   "cell_type": "markdown",
   "metadata": {},
   "source": [
    "* Comparing vstack() and hstack() Functions in NumPy\n",
    "\n",
    "--> In NumPy, vstack() and hstack() are two essential functions for stacking arrays vertically and horizontally, respectively. While they share some similarities, they have distinct differences in their functionality and output.\n",
    "\n",
    "1. vstack() Function:\n",
    "\n",
    "--> The vstack() function stacks arrays vertically, which means it concatenates arrays along the first axis (axis=0). It takes a sequence of arrays as input and returns a new array with the stacked elements.\n",
    "\n",
    "Example:"
   ]
  },
  {
   "cell_type": "code",
   "execution_count": 19,
   "metadata": {},
   "outputs": [
    {
     "name": "stdout",
     "output_type": "stream",
     "text": [
      "[[1 2 3]\n",
      " [4 5 6]\n",
      " [7 8 9]]\n"
     ]
    }
   ],
   "source": [
    "import numpy as np\n",
    "\n",
    "a = np.array([1, 2, 3])\n",
    "b = np.array([4, 5, 6])\n",
    "c = np.array([7, 8, 9])\n",
    "\n",
    "result = np.vstack((a, b, c))\n",
    "print(result)"
   ]
  },
  {
   "cell_type": "markdown",
   "metadata": {},
   "source": [
    "2. hstack() Function:\n",
    "\n",
    "--> The hstack() function stacks arrays horizontally, which means it concatenates arrays along the second axis (axis=1). It takes a sequence of arrays as input and returns a new array with the stacked elements.\n",
    "\n",
    "Example:"
   ]
  },
  {
   "cell_type": "code",
   "execution_count": 20,
   "metadata": {},
   "outputs": [
    {
     "name": "stdout",
     "output_type": "stream",
     "text": [
      "[1 2 3 4 5 6 7 8 9]\n"
     ]
    }
   ],
   "source": [
    "import numpy as np\n",
    "\n",
    "a = np.array([1, 2, 3])\n",
    "b = np.array([4, 5, 6])\n",
    "c = np.array([7, 8, 9])\n",
    "\n",
    "result = np.hstack((a, b, c))\n",
    "print(result)\n"
   ]
  },
  {
   "cell_type": "markdown",
   "metadata": {},
   "source": [
    "* Key Difference\n",
    "\n",
    "1. Axis: vstack() stacks along the first axis (axis=0), while hstack() stacks along the second axis (axis=1).\n",
    "\n",
    "2. Shape: The resulting array from vstack() has a shape of (n, m), where n is the number of arrays stacked and m is the length of each array. The resulting array from hstack() has a shape of (1, m*n), where m is the length of each array and n is the number of arrays stacked.\n",
    "\n",
    "3. Output: vstack() returns a 2D array, while hstack() returns a 1D array.\n",
    "\n",
    "--> When to Use Each:\n",
    "\n",
    "* Use vstack() when you need to concatenate arrays along the first axis, such as stacking rows of a matrix.\n",
    "* Use hstack() when you need to concatenate arrays along the second axis, such as stacking columns of a matri"
   ]
  },
  {
   "cell_type": "markdown",
   "metadata": {},
   "source": [
    "### 8. Explain the differences between fiipir() and flipud() methods in NumPy, Including their effects on various array dimensions."
   ]
  },
  {
   "cell_type": "markdown",
   "metadata": {},
   "source": [
    "-> Differences between fliplr() and flipud() Methods in NumPy\n",
    "\n",
    "--> In NumPy, fliplr() and flipud() are two methods used to flip arrays along specific axes. While they share some similarities, they have distinct differences in their functionality and effects on various array dimensions.\n",
    "\n",
    "* fliplr() Method:\n",
    "\n",
    "--> The fliplr() method flips an array horizontally, which means it reverses the elements along the last axis (axis=-1). It is equivalent to mirroring the array about the vertical axis.\n",
    "\n",
    "Example:"
   ]
  },
  {
   "cell_type": "code",
   "execution_count": 21,
   "metadata": {},
   "outputs": [
    {
     "name": "stdout",
     "output_type": "stream",
     "text": [
      "[[3 2 1]\n",
      " [6 5 4]]\n"
     ]
    }
   ],
   "source": [
    "import numpy as np\n",
    "\n",
    "arr = np.array([[1, 2, 3], [4, 5, 6]])\n",
    "flipped_arr = np.fliplr(arr)\n",
    "print(flipped_arr)"
   ]
  },
  {
   "cell_type": "markdown",
   "metadata": {},
   "source": [
    "* flipud() Method:\n",
    "\n",
    "The flipud() method flips an array vertically, which means it reverses the elements along the first axis (axis=0). It is equivalent to mirroring the array about the horizontal axis.\n",
    "\n",
    "Example:"
   ]
  },
  {
   "cell_type": "code",
   "execution_count": 22,
   "metadata": {},
   "outputs": [
    {
     "name": "stdout",
     "output_type": "stream",
     "text": [
      "[[4 5 6]\n",
      " [1 2 3]]\n"
     ]
    }
   ],
   "source": [
    "import numpy as np\n",
    "\n",
    "arr = np.array([[1, 2, 3], [4, 5, 6]])\n",
    "flipped_arr = np.flipud(arr)\n",
    "print(flipped_arr)"
   ]
  },
  {
   "cell_type": "markdown",
   "metadata": {},
   "source": [
    "--> Key Differences:\n",
    "\n",
    "1. Axis: fliplr() flips along the last axis (axis=-1), while flipud() flips along the first axis (axis=0).\n",
    "\n",
    "2. Direction: fliplr() flips horizontally (left to right), while flipud() flips vertically (top to bottom).\n",
    "\n",
    "3. Effect on Dimensions: fliplr() reverses the elements along the columns (last axis), while flipud() reverses the elements along the rows (first axis).\n",
    "\n",
    "--> Effects on Various Array Dimensions:\n",
    "\n",
    "1. 1D Arrays: Both fliplr() and flipud() have the same effect on 1D arrays, reversing the elements in the array.\n",
    "\n",
    "2. 2D Arrays: fliplr() flips the columns, while flipud() flips the rows.\n",
    "\n",
    "3. 3D Arrays: fliplr() flips the last axis (axis=-1), while flipud() flips the first axis (axis=0). The effects on 3D arrays depend on the specific axis being flipped.\n",
    "\n",
    "--> When to Use Each:\n",
    "\n",
    "1. Use fliplr() when you need to flip an array horizontally, such as mirroring an image about the vertical axis.\n",
    "\n",
    "2. Use flipud() when you need to flip an array vertically, such as mirroring an image about the horizontal axis."
   ]
  },
  {
   "cell_type": "markdown",
   "metadata": {},
   "source": [
    "### 9. Discuss the functionality of the array_split() method in NumPy. How does it handle uneven splits?"
   ]
  },
  {
   "cell_type": "markdown",
   "metadata": {},
   "source": [
    "Array Splitting with array_split() in NumPy\n",
    "\n",
    "The array_split() method in NumPy is used to split an array into multiple sub-arrays along a specified axis. It is a convenient function for dividing large arrays into smaller, more manageable pieces.\n",
    "\n",
    "--> Basic Functionality:\n",
    "\n",
    "-> The array_split() method takes three arguments:\n",
    "\n",
    "1. ary: The input array to be split.\n",
    "2. indices_or_sections: The number of sections to split the array into or a list of indices where the array should be split.\n",
    "3. axis: The axis along which to split the array (default is 0).\n",
    "\n",
    "Example:\n"
   ]
  },
  {
   "cell_type": "code",
   "execution_count": 23,
   "metadata": {},
   "outputs": [
    {
     "name": "stdout",
     "output_type": "stream",
     "text": [
      "[array([0, 1, 2, 3]), array([4, 5, 6]), array([7, 8, 9])]\n"
     ]
    }
   ],
   "source": [
    "import numpy as np\n",
    "\n",
    "arr = np.arange(10)\n",
    "split_arr = np.array_split(arr, 3)\n",
    "print(split_arr)"
   ]
  },
  {
   "cell_type": "markdown",
   "metadata": {},
   "source": [
    "Handling Uneven Splits:\n",
    "\n",
    "When the length of the array is not evenly divisible by the number of sections, array_split() will create sub-arrays of varying lengths. The remaining elements will be distributed among the sub-arrays.\n",
    "\n",
    "Example: "
   ]
  },
  {
   "cell_type": "code",
   "execution_count": 24,
   "metadata": {},
   "outputs": [
    {
     "name": "stdout",
     "output_type": "stream",
     "text": [
      "[array([0, 1, 2, 3]), array([4, 5, 6, 7]), array([ 8,  9, 10])]\n"
     ]
    }
   ],
   "source": [
    "import numpy as np\n",
    "\n",
    "arr = np.arange(11)\n",
    "split_arr = np.array_split(arr, 3)\n",
    "print(split_arr)"
   ]
  },
  {
   "cell_type": "markdown",
   "metadata": {},
   "source": [
    "In this example, the array has 11 elements, which cannot be evenly divided into 3 sections. The first two sub-arrays have 4 elements each, and the last sub-array has 3 elements.\n",
    "\n",
    "* Key Points:\n",
    "\n",
    "-> array_split() is a flexible function that can handle both even and uneven splits.\n",
    "-> When the split is uneven, the remaining elements are distributed among the sub-arrays.\n",
    "-> The axis parameter allows you to split the array along a specific axis, making it useful for multidimensional arrays."
   ]
  },
  {
   "cell_type": "markdown",
   "metadata": {},
   "source": [
    "### 10.  Explain the concepts of vectorization and broadcasting in NumPy. How do they contribute to efficient array operations?"
   ]
  },
  {
   "cell_type": "markdown",
   "metadata": {},
   "source": [
    "* Vectorization and Broadcasting in NumPy: Efficient Array Operations\n",
    "\n",
    "-> NumPy, a fundamental library for numerical computing in Python, provides two essential concepts for efficient array operations: vectorization and broadcasting. These concepts enable NumPy to perform operations on entire arrays at once, making it a powerful tool for data manipulation and analysis.\n",
    "\n",
    "1. Vectorization:\n",
    "\n",
    "--> Vectorization is the process of applying a single operation to an entire array, rather than iterating over individual elements. This approach eliminates the need for explicit loops, making NumPy operations faster and more efficient. Vectorization is achieved through the use of universal functions (ufuncs), which are functions that operate on entire arrays.\n",
    "\n",
    "Example:"
   ]
  },
  {
   "cell_type": "code",
   "execution_count": 25,
   "metadata": {},
   "outputs": [
    {
     "name": "stdout",
     "output_type": "stream",
     "text": [
      "[ 1  4  9 16 25]\n"
     ]
    }
   ],
   "source": [
    "import numpy as np\n",
    "\n",
    "arr = np.array([1, 2, 3, 4, 5])\n",
    "squared_arr = arr ** 2\n",
    "print(squared_arr)"
   ]
  },
  {
   "cell_type": "markdown",
   "metadata": {},
   "source": [
    "In this example, the exponentiation operation (** 2) is applied to the entire array arr, resulting in a new array squared_arr with the squared values.\n",
    "\n",
    "2. Broadcasting:\n",
    "\n",
    "--> Broadcasting is a set of rules that allow NumPy to perform operations on arrays with different shapes and sizes. It enables the alignment of arrays for element-wise operations, even when the arrays do not have the same shape. Broadcasting is essential for performing operations on arrays with different dimensions.\n",
    "\n",
    "Example:"
   ]
  },
  {
   "cell_type": "code",
   "execution_count": 26,
   "metadata": {},
   "outputs": [
    {
     "name": "stdout",
     "output_type": "stream",
     "text": [
      "[5 6 7]\n"
     ]
    }
   ],
   "source": [
    "import numpy as np\n",
    "\n",
    "arr1 = np.array([1, 2, 3])\n",
    "arr2 = np.array([4, 4, 4])\n",
    "result = arr1 + arr2\n",
    "print(result)"
   ]
  },
  {
   "cell_type": "markdown",
   "metadata": {},
   "source": [
    "In this example, the addition operation is performed element-wise between arr1 and arr2, even though they have different shapes. Broadcasting aligns the arrays to perform the operation.\n",
    "\n",
    "-> How Vectorization and Broadcasting Contribute to Efficient Array Operations:\n",
    "\n",
    "1. Speed: Vectorization and broadcasting enable NumPy to perform operations on entire arrays at once, reducing the need for explicit loops and making operations faster.\n",
    "\n",
    "2. Memory Efficiency: By operating on entire arrays, NumPy minimizes memory allocation and copying, reducing memory usage and improving performance.\n",
    "\n",
    "3. Flexibility: Broadcasting allows NumPy to perform operations on arrays with different shapes and sizes, making it a versatile tool for data manipulation and analysis.\n",
    "\n",
    "4. Expressiveness: Vectorization and broadcasting enable concise and expressive code, making it easier to write and maintain complex numerical computations."
   ]
  },
  {
   "cell_type": "markdown",
   "metadata": {},
   "source": [
    "# Practical Question\n"
   ]
  },
  {
   "cell_type": "code",
   "execution_count": 27,
   "metadata": {},
   "outputs": [],
   "source": [
    "import numpy as np\n"
   ]
  },
  {
   "cell_type": "markdown",
   "metadata": {},
   "source": [
    "### 1. Create a 3x3 NumPy array with random integers between 1 and 100. Then, interchange its rows and columns."
   ]
  },
  {
   "cell_type": "code",
   "execution_count": 28,
   "metadata": {},
   "outputs": [
    {
     "data": {
      "text/plain": [
       "array([[39, 19, 79],\n",
       "       [30,  5, 81],\n",
       "       [92, 60, 84]])"
      ]
     },
     "execution_count": 28,
     "metadata": {},
     "output_type": "execute_result"
    }
   ],
   "source": [
    "a = np.random.randint(1,100,(3,3))\n",
    "a"
   ]
  },
  {
   "cell_type": "code",
   "execution_count": 29,
   "metadata": {},
   "outputs": [
    {
     "data": {
      "text/plain": [
       "array([[39, 30, 92],\n",
       "       [19,  5, 60],\n",
       "       [79, 81, 84]])"
      ]
     },
     "execution_count": 29,
     "metadata": {},
     "output_type": "execute_result"
    }
   ],
   "source": [
    "a.T"
   ]
  },
  {
   "cell_type": "markdown",
   "metadata": {},
   "source": [
    "### 2. Generate a ID NumPy array with 10 elements. Reshape it into a 2x5 array, then into a 5x2 array."
   ]
  },
  {
   "cell_type": "code",
   "execution_count": 30,
   "metadata": {},
   "outputs": [
    {
     "data": {
      "text/plain": [
       "array([0, 1, 2, 3, 4, 5, 6, 7, 8, 9])"
      ]
     },
     "execution_count": 30,
     "metadata": {},
     "output_type": "execute_result"
    }
   ],
   "source": [
    "b = np.arange(0,10)\n",
    "b"
   ]
  },
  {
   "cell_type": "code",
   "execution_count": 31,
   "metadata": {},
   "outputs": [
    {
     "data": {
      "text/plain": [
       "array([[0, 1, 2, 3, 4],\n",
       "       [5, 6, 7, 8, 9]])"
      ]
     },
     "execution_count": 31,
     "metadata": {},
     "output_type": "execute_result"
    }
   ],
   "source": [
    "b.reshape(2,5)"
   ]
  },
  {
   "cell_type": "code",
   "execution_count": 32,
   "metadata": {},
   "outputs": [
    {
     "data": {
      "text/plain": [
       "array([[0, 1],\n",
       "       [2, 3],\n",
       "       [4, 5],\n",
       "       [6, 7],\n",
       "       [8, 9]])"
      ]
     },
     "execution_count": 32,
     "metadata": {},
     "output_type": "execute_result"
    }
   ],
   "source": [
    "b.reshape(5,2)"
   ]
  },
  {
   "cell_type": "markdown",
   "metadata": {},
   "source": [
    "### 3. Create a 4x4 NumPy array with random float values. Add a border of zeros around it, resulting in a 6x6 array."
   ]
  },
  {
   "cell_type": "code",
   "execution_count": 33,
   "metadata": {},
   "outputs": [
    {
     "data": {
      "text/plain": [
       "array([[ 1,  2,  3,  4],\n",
       "       [ 5,  6,  7,  8],\n",
       "       [ 9, 10, 11, 12],\n",
       "       [13, 14, 15, 16]])"
      ]
     },
     "execution_count": 33,
     "metadata": {},
     "output_type": "execute_result"
    }
   ],
   "source": [
    "c = np.array([[1,2,3,4],[5,6,7,8],[9,10,11,12],[13,14,15,16]])\n",
    "c"
   ]
  },
  {
   "cell_type": "code",
   "execution_count": 34,
   "metadata": {},
   "outputs": [
    {
     "data": {
      "text/plain": [
       "array([[ 0.,  0.,  0.,  0.,  0.,  0.],\n",
       "       [ 0.,  1.,  2.,  3.,  4.,  0.],\n",
       "       [ 0.,  5.,  6.,  7.,  8.,  0.],\n",
       "       [ 0.,  9., 10., 11., 12.,  0.],\n",
       "       [ 0., 13., 14., 15., 16.,  0.],\n",
       "       [ 0.,  0.,  0.,  0.,  0.,  0.]])"
      ]
     },
     "execution_count": 34,
     "metadata": {},
     "output_type": "execute_result"
    }
   ],
   "source": [
    "C = np.zeros((6,6))\n",
    "C[1:5,1:5] = c\n",
    "C\n",
    "\n"
   ]
  },
  {
   "cell_type": "markdown",
   "metadata": {},
   "source": [
    "### 4. Using NumPy, create an array of integers from 10 to 60 with a step of 5."
   ]
  },
  {
   "cell_type": "code",
   "execution_count": 35,
   "metadata": {},
   "outputs": [
    {
     "data": {
      "text/plain": [
       "array([10, 15, 20, 25, 30, 35, 40, 45, 50, 55])"
      ]
     },
     "execution_count": 35,
     "metadata": {},
     "output_type": "execute_result"
    }
   ],
   "source": [
    "d = np.arange(10,60,5)\n",
    "d"
   ]
  },
  {
   "cell_type": "code",
   "execution_count": 36,
   "metadata": {},
   "outputs": [
    {
     "data": {
      "text/plain": [
       "array([[10, 15, 20, 25, 30],\n",
       "       [35, 40, 45, 50, 55]])"
      ]
     },
     "execution_count": 36,
     "metadata": {},
     "output_type": "execute_result"
    }
   ],
   "source": [
    "d.reshape(2,5)"
   ]
  },
  {
   "cell_type": "code",
   "execution_count": 37,
   "metadata": {},
   "outputs": [
    {
     "data": {
      "text/plain": [
       "array([[10, 15],\n",
       "       [20, 25],\n",
       "       [30, 35],\n",
       "       [40, 45],\n",
       "       [50, 55]])"
      ]
     },
     "execution_count": 37,
     "metadata": {},
     "output_type": "execute_result"
    }
   ],
   "source": [
    "d.reshape(5,2)"
   ]
  },
  {
   "cell_type": "markdown",
   "metadata": {},
   "source": [
    "### 5. Create a NumPy array of strings ['python', 'numpy', 'pandas']. Apply different case transformations (uppercase, lowercase, title case, etc.) to each element."
   ]
  },
  {
   "cell_type": "code",
   "execution_count": 38,
   "metadata": {},
   "outputs": [
    {
     "data": {
      "text/plain": [
       "array(['python', 'numpy', 'pandas'], dtype='<U6')"
      ]
     },
     "execution_count": 38,
     "metadata": {},
     "output_type": "execute_result"
    }
   ],
   "source": [
    "e = np.array([\"python\",\"numpy\",\"pandas\"])\n",
    "e"
   ]
  },
  {
   "cell_type": "code",
   "execution_count": 39,
   "metadata": {},
   "outputs": [
    {
     "data": {
      "text/plain": [
       "array(['PYTHON', 'NUMPY', 'PANDAS'], dtype='<U6')"
      ]
     },
     "execution_count": 39,
     "metadata": {},
     "output_type": "execute_result"
    }
   ],
   "source": [
    "np.char.upper(e)"
   ]
  },
  {
   "cell_type": "code",
   "execution_count": 40,
   "metadata": {},
   "outputs": [
    {
     "data": {
      "text/plain": [
       "array(['python', 'numpy', 'pandas'], dtype='<U6')"
      ]
     },
     "execution_count": 40,
     "metadata": {},
     "output_type": "execute_result"
    }
   ],
   "source": [
    "np.char.lower(e)"
   ]
  },
  {
   "cell_type": "code",
   "execution_count": 41,
   "metadata": {},
   "outputs": [
    {
     "data": {
      "text/plain": [
       "array(['Python', 'Numpy', 'Pandas'], dtype='<U6')"
      ]
     },
     "execution_count": 41,
     "metadata": {},
     "output_type": "execute_result"
    }
   ],
   "source": [
    "np.char.capitalize(e)"
   ]
  },
  {
   "cell_type": "markdown",
   "metadata": {},
   "source": [
    "### 6. Generate a NumPy array of words. Insert a space between each character of every word in the array."
   ]
  },
  {
   "cell_type": "code",
   "execution_count": 47,
   "metadata": {},
   "outputs": [
    {
     "name": "stdout",
     "output_type": "stream",
     "text": [
      "['python' 'numpy' 'pandas']\n"
     ]
    },
    {
     "data": {
      "text/plain": [
       "array(['p y t h o n', 'n u m p y', 'p a n d a s'], dtype='<U11')"
      ]
     },
     "execution_count": 47,
     "metadata": {},
     "output_type": "execute_result"
    }
   ],
   "source": [
    "f = np.array([\"python\",\"numpy\",\"pandas\"])\n",
    "print(f)\n",
    "F = np.char.join(\" \",f)\n",
    "F"
   ]
  },
  {
   "cell_type": "markdown",
   "metadata": {},
   "source": [
    "### 7. Create two 2D NumPy arrays and perform element-wise addition, subtraction, multiplication, and division."
   ]
  },
  {
   "cell_type": "code",
   "execution_count": 58,
   "metadata": {},
   "outputs": [
    {
     "name": "stdout",
     "output_type": "stream",
     "text": [
      "g: [[1 2 3]\n",
      " [4 5 6]\n",
      " [7 8 9]]\n",
      "h: [[9 8 7]\n",
      " [6 5 4]\n",
      " [3 2 1]]\n"
     ]
    }
   ],
   "source": [
    "g = np.array([[1,2,3],[4,5,6],[7,8,9]])\n",
    "print(\"g:\",g)\n",
    "h = np.array([[9,8,7],[6,5,4],[3,2,1]])\n",
    "print(\"h:\",h)"
   ]
  },
  {
   "cell_type": "code",
   "execution_count": 59,
   "metadata": {},
   "outputs": [
    {
     "data": {
      "text/plain": [
       "array([[10, 10, 10],\n",
       "       [10, 10, 10],\n",
       "       [10, 10, 10]])"
      ]
     },
     "execution_count": 59,
     "metadata": {},
     "output_type": "execute_result"
    }
   ],
   "source": [
    "g + h"
   ]
  },
  {
   "cell_type": "code",
   "execution_count": 60,
   "metadata": {},
   "outputs": [
    {
     "data": {
      "text/plain": [
       "array([[-8, -6, -4],\n",
       "       [-2,  0,  2],\n",
       "       [ 4,  6,  8]])"
      ]
     },
     "execution_count": 60,
     "metadata": {},
     "output_type": "execute_result"
    }
   ],
   "source": [
    "g - h"
   ]
  },
  {
   "cell_type": "code",
   "execution_count": 61,
   "metadata": {},
   "outputs": [
    {
     "data": {
      "text/plain": [
       "array([[ 9, 16, 21],\n",
       "       [24, 25, 24],\n",
       "       [21, 16,  9]])"
      ]
     },
     "execution_count": 61,
     "metadata": {},
     "output_type": "execute_result"
    }
   ],
   "source": [
    "g * h"
   ]
  },
  {
   "cell_type": "code",
   "execution_count": 62,
   "metadata": {},
   "outputs": [
    {
     "data": {
      "text/plain": [
       "array([[ 30,  24,  18],\n",
       "       [ 84,  69,  54],\n",
       "       [138, 114,  90]])"
      ]
     },
     "execution_count": 62,
     "metadata": {},
     "output_type": "execute_result"
    }
   ],
   "source": [
    "g@h"
   ]
  },
  {
   "cell_type": "code",
   "execution_count": 63,
   "metadata": {},
   "outputs": [
    {
     "data": {
      "text/plain": [
       "array([[0.11111111, 0.25      , 0.42857143],\n",
       "       [0.66666667, 1.        , 1.5       ],\n",
       "       [2.33333333, 4.        , 9.        ]])"
      ]
     },
     "execution_count": 63,
     "metadata": {},
     "output_type": "execute_result"
    }
   ],
   "source": [
    "g/h"
   ]
  },
  {
   "cell_type": "markdown",
   "metadata": {},
   "source": [
    "### 8. Use NumPy to create a 5x5 identity matrix, then extract its diagonal elements."
   ]
  },
  {
   "cell_type": "code",
   "execution_count": 75,
   "metadata": {},
   "outputs": [
    {
     "data": {
      "text/plain": [
       "array([[ 1,  2,  3,  4,  5],\n",
       "       [ 6,  7,  8,  9, 10],\n",
       "       [11, 12, 13, 14, 15],\n",
       "       [16, 17, 18, 19, 20],\n",
       "       [21, 22, 23, 24, 25]])"
      ]
     },
     "execution_count": 75,
     "metadata": {},
     "output_type": "execute_result"
    }
   ],
   "source": [
    "i = np.array([[1,2,3,4,5],[6,7,8,9,10],[11,12,13,14,15],[16,17,18,19,20],[21,22,23,24,25]])\n",
    "i"
   ]
  },
  {
   "cell_type": "code",
   "execution_count": 80,
   "metadata": {},
   "outputs": [
    {
     "data": {
      "text/plain": [
       "array([ 1,  7, 13, 19, 25])"
      ]
     },
     "execution_count": 80,
     "metadata": {},
     "output_type": "execute_result"
    }
   ],
   "source": [
    "np.diag(i)"
   ]
  },
  {
   "cell_type": "markdown",
   "metadata": {},
   "source": [
    "### 9. Generate a NumPy array of 100 random integers between 0 and 1000. Find and display all prime numbers in this array."
   ]
  },
  {
   "cell_type": "code",
   "execution_count": 112,
   "metadata": {},
   "outputs": [
    {
     "data": {
      "text/plain": [
       "array([[336, 140, 604, 422,  40, 810, 105,  24, 933, 865, 885, 941, 536,\n",
       "         55, 887,  47,  33, 709, 612, 609, 976, 414,  63, 732, 933, 707,\n",
       "        937,  43, 563, 625, 464, 386, 919, 787,  70, 258, 298, 100, 359,\n",
       "        447, 769, 640, 515, 298, 388, 364, 589, 275, 201, 580, 863, 439,\n",
       "         99, 365, 989, 812, 239, 323, 546, 981, 912, 420, 630, 304, 734,\n",
       "        443, 501, 793, 242, 864, 578, 265, 760,  83, 660, 294, 198, 463,\n",
       "        784, 721,  24, 224, 147, 418, 707, 257, 578, 565, 163, 517, 390,\n",
       "        822,  81, 698, 217, 818, 925, 677, 839, 560]])"
      ]
     },
     "execution_count": 112,
     "metadata": {},
     "output_type": "execute_result"
    }
   ],
   "source": [
    "j = np.random.randint(0,1000,(1,100))\n",
    "j"
   ]
  },
  {
   "cell_type": "code",
   "execution_count": 113,
   "metadata": {},
   "outputs": [
    {
     "data": {
      "text/plain": [
       "array([941, 887,  47, 709, 937,  43, 563, 919, 787, 359, 769, 863, 439,\n",
       "       239, 443,  83, 463, 257, 163, 677, 839])"
      ]
     },
     "execution_count": 113,
     "metadata": {},
     "output_type": "execute_result"
    }
   ],
   "source": [
    "is_prime = np.vectorize(lambda n: n > 1 and all(n % i != 0 for i in range(2, int(np.sqrt(n)) + 1)))\n",
    "prime_numbers = j[is_prime(j)]\n",
    "prime_numbers"
   ]
  },
  {
   "cell_type": "markdown",
   "metadata": {},
   "source": [
    "### 10. Create a NumPy array representing daily temperatures for a month. Calculate and display the weekly averages."
   ]
  },
  {
   "cell_type": "code",
   "execution_count": 107,
   "metadata": {},
   "outputs": [
    {
     "data": {
      "text/plain": [
       "array([27, 36, 15, 32, 16, 10, 39, 21, 39, 11, 47, 23, 45, 19, 32, 33, 27,\n",
       "       32, 36, 16, 40, 42, 40, 33, 13, 21, 44, 16, 40, 14])"
      ]
     },
     "execution_count": 107,
     "metadata": {},
     "output_type": "execute_result"
    }
   ],
   "source": [
    "k = np.random.randint(10,50,size = 30)\n",
    "k"
   ]
  },
  {
   "cell_type": "code",
   "execution_count": 108,
   "metadata": {},
   "outputs": [
    {
     "name": "stdout",
     "output_type": "stream",
     "text": [
      "The Average Temperature:  28.633333333333333\n"
     ]
    }
   ],
   "source": [
    "l = np.average(k)\n",
    "print(\"The Average Temperature: \", l)"
   ]
  }
 ],
 "metadata": {
  "kernelspec": {
   "display_name": "base",
   "language": "python",
   "name": "python3"
  },
  "language_info": {
   "codemirror_mode": {
    "name": "ipython",
    "version": 3
   },
   "file_extension": ".py",
   "mimetype": "text/x-python",
   "name": "python",
   "nbconvert_exporter": "python",
   "pygments_lexer": "ipython3",
   "version": "3.11.7"
  }
 },
 "nbformat": 4,
 "nbformat_minor": 2
}
